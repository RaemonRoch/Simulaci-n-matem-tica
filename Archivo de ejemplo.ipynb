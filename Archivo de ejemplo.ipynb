{
 "cells": [
  {
   "cell_type": "markdown",
   "id": "1e28a7cf-303d-4ca0-bc41-38a80af98c1d",
   "metadata": {},
   "source": [
    "# Simulación Matemática"
   ]
  },
  {
   "cell_type": "code",
   "execution_count": 1,
   "id": "4c965eb1-a4b9-4857-bc52-ce7f5f190ac3",
   "metadata": {},
   "outputs": [
    {
     "data": {
      "text/plain": [
       "2"
      ]
     },
     "execution_count": 1,
     "metadata": {},
     "output_type": "execute_result"
    }
   ],
   "source": [
    "1+1"
   ]
  },
  {
   "cell_type": "markdown",
   "id": "131c68af-6656-4a08-a4d0-888c8d976970",
   "metadata": {},
   "source": [
    "## Valuación"
   ]
  },
  {
   "cell_type": "markdown",
   "id": "a8c3bd25-d5e6-4148-954d-6b586f108868",
   "metadata": {},
   "source": [
    "* **DCF**: $10$\n",
    "    * sublista 1\n",
    "        * sub sub 1.1\n",
    "        * sub sub 1.2\n",
    "        * sub sub 1.3\n",
    "    * sublista 2\n",
    "    * sublista 3 \n",
    "* **Multiplos**: $9$\n",
    "* Valor libros: $7$"
   ]
  },
  {
   "cell_type": "markdown",
   "id": "e0c52cd1-7d97-4e23-89fc-bd5407977de5",
   "metadata": {},
   "source": [
    "La ecuación de un cuadrado es:\n",
    "$$ \\frac{3-1}{\\sqrt{64}*3} $$\n",
    "$$ \\frac{numerador}{denominador} $$\n",
    "$$ \\sqrt{adentro} fuera $$\n",
    "$$ e^{expresión^2} $$"
   ]
  },
  {
   "cell_type": "markdown",
   "id": "fccb83ac-3ace-4a62-b143-d3cc397c00b4",
   "metadata": {},
   "source": []
  },
  {
   "cell_type": "code",
   "execution_count": null,
   "id": "3cba00f0-41c0-4cb5-86d2-6d6d56641b9e",
   "metadata": {},
   "outputs": [],
   "source": []
  }
 ],
 "metadata": {
  "kernelspec": {
   "display_name": "Python 3 (ipykernel)",
   "language": "python",
   "name": "python3"
  },
  "language_info": {
   "codemirror_mode": {
    "name": "ipython",
    "version": 3
   },
   "file_extension": ".py",
   "mimetype": "text/x-python",
   "name": "python",
   "nbconvert_exporter": "python",
   "pygments_lexer": "ipython3",
   "version": "3.12.4"
  }
 },
 "nbformat": 4,
 "nbformat_minor": 5
}
