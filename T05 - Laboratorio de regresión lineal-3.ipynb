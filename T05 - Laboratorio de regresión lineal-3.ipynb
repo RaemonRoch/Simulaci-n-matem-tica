{
 "cells": [
  {
   "cell_type": "markdown",
   "id": "517699e0-b6e3-4a23-b07a-7ae565d337f9",
   "metadata": {},
   "source": [
    "# Laboratorio de regresión lineal"
   ]
  },
  {
   "cell_type": "markdown",
   "id": "9dc03bac-6c19-46ff-a080-3a1df82c15aa",
   "metadata": {},
   "source": [
    "|                |   |\r\n",
    ":----------------|---|\r\n",
    "| **Nombre**     Juan Ramón López Rocha|   |\r\n",
    "| **Fecha**     26 de septiembre| \n",
    "| **Expediente** |739950 |       |"
   ]
  },
  {
   "cell_type": "markdown",
   "id": "58636781-c118-4f1c-9ad6-fb7528700de9",
   "metadata": {},
   "source": [
    "La regresión lineal es una heramienta útil para predecir una respuesta cuantitativa. A pesar de que existen soluciones más modernas, la regresión lineal se sigue usando, pues sirve como un punto de partida para comparar otras herramientas.\n",
    "\n",
    "Se debe comprender cómo funciona la regresión antes de empezar a estudiar métodos de aprendizaje estadístico más complejos."
   ]
  },
  {
   "cell_type": "markdown",
   "id": "49359c12-d479-4331-9266-555b5fecadaa",
   "metadata": {},
   "source": [
    "1. Descarga el archivo de publicidad y carga los datos (Advertising.csv)."
   ]
  },
  {
   "cell_type": "code",
   "execution_count": 1,
   "id": "dd89acd3-8ac1-4101-a551-fe488fb0a411",
   "metadata": {},
   "outputs": [
    {
     "data": {
      "text/html": [
       "<div>\n",
       "<style scoped>\n",
       "    .dataframe tbody tr th:only-of-type {\n",
       "        vertical-align: middle;\n",
       "    }\n",
       "\n",
       "    .dataframe tbody tr th {\n",
       "        vertical-align: top;\n",
       "    }\n",
       "\n",
       "    .dataframe thead th {\n",
       "        text-align: right;\n",
       "    }\n",
       "</style>\n",
       "<table border=\"1\" class=\"dataframe\">\n",
       "  <thead>\n",
       "    <tr style=\"text-align: right;\">\n",
       "      <th></th>\n",
       "      <th>Unnamed: 0</th>\n",
       "      <th>TV</th>\n",
       "      <th>radio</th>\n",
       "      <th>newspaper</th>\n",
       "      <th>sales</th>\n",
       "    </tr>\n",
       "  </thead>\n",
       "  <tbody>\n",
       "    <tr>\n",
       "      <th>0</th>\n",
       "      <td>1</td>\n",
       "      <td>230.1</td>\n",
       "      <td>37.8</td>\n",
       "      <td>69.2</td>\n",
       "      <td>22.1</td>\n",
       "    </tr>\n",
       "    <tr>\n",
       "      <th>1</th>\n",
       "      <td>2</td>\n",
       "      <td>44.5</td>\n",
       "      <td>39.3</td>\n",
       "      <td>45.1</td>\n",
       "      <td>10.4</td>\n",
       "    </tr>\n",
       "    <tr>\n",
       "      <th>2</th>\n",
       "      <td>3</td>\n",
       "      <td>17.2</td>\n",
       "      <td>45.9</td>\n",
       "      <td>69.3</td>\n",
       "      <td>9.3</td>\n",
       "    </tr>\n",
       "    <tr>\n",
       "      <th>3</th>\n",
       "      <td>4</td>\n",
       "      <td>151.5</td>\n",
       "      <td>41.3</td>\n",
       "      <td>58.5</td>\n",
       "      <td>18.5</td>\n",
       "    </tr>\n",
       "    <tr>\n",
       "      <th>4</th>\n",
       "      <td>5</td>\n",
       "      <td>180.8</td>\n",
       "      <td>10.8</td>\n",
       "      <td>58.4</td>\n",
       "      <td>12.9</td>\n",
       "    </tr>\n",
       "    <tr>\n",
       "      <th>...</th>\n",
       "      <td>...</td>\n",
       "      <td>...</td>\n",
       "      <td>...</td>\n",
       "      <td>...</td>\n",
       "      <td>...</td>\n",
       "    </tr>\n",
       "    <tr>\n",
       "      <th>195</th>\n",
       "      <td>196</td>\n",
       "      <td>38.2</td>\n",
       "      <td>3.7</td>\n",
       "      <td>13.8</td>\n",
       "      <td>7.6</td>\n",
       "    </tr>\n",
       "    <tr>\n",
       "      <th>196</th>\n",
       "      <td>197</td>\n",
       "      <td>94.2</td>\n",
       "      <td>4.9</td>\n",
       "      <td>8.1</td>\n",
       "      <td>9.7</td>\n",
       "    </tr>\n",
       "    <tr>\n",
       "      <th>197</th>\n",
       "      <td>198</td>\n",
       "      <td>177.0</td>\n",
       "      <td>9.3</td>\n",
       "      <td>6.4</td>\n",
       "      <td>12.8</td>\n",
       "    </tr>\n",
       "    <tr>\n",
       "      <th>198</th>\n",
       "      <td>199</td>\n",
       "      <td>283.6</td>\n",
       "      <td>42.0</td>\n",
       "      <td>66.2</td>\n",
       "      <td>25.5</td>\n",
       "    </tr>\n",
       "    <tr>\n",
       "      <th>199</th>\n",
       "      <td>200</td>\n",
       "      <td>232.1</td>\n",
       "      <td>8.6</td>\n",
       "      <td>8.7</td>\n",
       "      <td>13.4</td>\n",
       "    </tr>\n",
       "  </tbody>\n",
       "</table>\n",
       "<p>200 rows × 5 columns</p>\n",
       "</div>"
      ],
      "text/plain": [
       "     Unnamed: 0     TV  radio  newspaper  sales\n",
       "0             1  230.1   37.8       69.2   22.1\n",
       "1             2   44.5   39.3       45.1   10.4\n",
       "2             3   17.2   45.9       69.3    9.3\n",
       "3             4  151.5   41.3       58.5   18.5\n",
       "4             5  180.8   10.8       58.4   12.9\n",
       "..          ...    ...    ...        ...    ...\n",
       "195         196   38.2    3.7       13.8    7.6\n",
       "196         197   94.2    4.9        8.1    9.7\n",
       "197         198  177.0    9.3        6.4   12.8\n",
       "198         199  283.6   42.0       66.2   25.5\n",
       "199         200  232.1    8.6        8.7   13.4\n",
       "\n",
       "[200 rows x 5 columns]"
      ]
     },
     "execution_count": 1,
     "metadata": {},
     "output_type": "execute_result"
    }
   ],
   "source": [
    "import pandas as pd\n",
    "import numpy as np\n",
    "import matplotlib.pyplot as plt\n",
    "import scipy.optimize as opt\n",
    "\n",
    "d = pd.read_excel(\"Advertising.xlsx\")\n",
    "d"
   ]
  },
  {
   "cell_type": "code",
   "execution_count": 2,
   "id": "f89db89a-9751-4c30-86e7-4b10eae0e9e7",
   "metadata": {},
   "outputs": [
    {
     "data": {
      "text/plain": [
       "0      337.1\n",
       "1      128.9\n",
       "2      132.4\n",
       "3      251.3\n",
       "4      250.0\n",
       "       ...  \n",
       "195     55.7\n",
       "196    107.2\n",
       "197    192.7\n",
       "198    391.8\n",
       "199    249.4\n",
       "Length: 200, dtype: float64"
      ]
     },
     "execution_count": 2,
     "metadata": {},
     "output_type": "execute_result"
    }
   ],
   "source": [
    "m1 = len(d)\n",
    "TV = d[\"TV\"]\n",
    "Radio = d[\"radio\"]\n",
    "Newspaper = d[\"newspaper\"]\n",
    "Sales = d[\"sales\"]\n",
    "Pres = TV + Radio + Newspaper\n",
    "Pres"
   ]
  },
  {
   "cell_type": "code",
   "execution_count": 3,
   "id": "062a0c1e-e618-4391-b8ba-2e51c9a3c2a6",
   "metadata": {},
   "outputs": [
    {
     "data": {
      "image/png": "[encoded data removed]",
      "text/plain": [
       "<Figure size 640x480 with 1 Axes>"
      ]
     },
     "metadata": {},
     "output_type": "display_data"
    }
   ],
   "source": [
    "plt.figure()\n",
    "plt.scatter(Pres,Sales)\n",
    "plt.grid()"
   ]
  },
  {
   "cell_type": "code",
   "execution_count": 6,
   "id": "d00738bc-d943-4bef-b7a4-3ae0b6130b65",
   "metadata": {},
   "outputs": [],
   "source": [
    "def funcion_de_costo(beta, X, y):\n",
    "    r,c= X.shape\n",
    "    beta= np.reshape(beta,[c,1])\n",
    "    y_pred= X @ beta\n",
    "    error= y_pred-y\n",
    "    return (error.T @ error)[0][0]"
   ]
  },
  {
   "cell_type": "code",
   "execution_count": 7,
   "id": "d0f7c0f8-0bde-4d45-b643-f1ad7290dcfa",
   "metadata": {},
   "outputs": [],
   "source": [
    "ones= np.ones([m1,1])\n",
    "x_factor= np.reshape(Pres.values,[m1,1])\n",
    "X= np.hstack((ones,x_factor))\n",
    "y_vector= np.reshape(Sales.values,[m1,1])"
   ]
  },
  {
   "cell_type": "code",
   "execution_count": 8,
   "id": "b5ee7973-0572-47ba-bb97-61958ef4b9ee",
   "metadata": {
    "scrolled": true
   },
   "outputs": [
    {
     "data": {
      "text/plain": [
       "  message: Optimization terminated successfully.\n",
       "  success: True\n",
       "   status: 0\n",
       "      fun: 1338.4439761745557\n",
       "        x: [ 4.243e+00  4.869e-02]\n",
       "      nit: 6\n",
       "      jac: [ 0.000e+00  0.000e+00]\n",
       " hess_inv: [[ 1.447e-02 -5.939e-05]\n",
       "            [-5.939e-05  2.948e-07]]\n",
       "     nfev: 33\n",
       "     njev: 11"
      ]
     },
     "execution_count": 8,
     "metadata": {},
     "output_type": "execute_result"
    }
   ],
   "source": [
    "beta= [1,1]\n",
    "opt.minimize(funcion_de_costo, beta, args=(X, y_vector))"
   ]
  },
  {
   "cell_type": "code",
   "execution_count": 9,
   "id": "5cb10902-d1f6-4a21-8aeb-81398512659f",
   "metadata": {},
   "outputs": [
    {
     "data": {
      "image/png": "[encoded data removed]",
      "text/plain": [
       "<Figure size 640x480 with 1 Axes>"
      ]
     },
     "metadata": {},
     "output_type": "display_data"
    }
   ],
   "source": [
    "plt.figure()\n",
    "plt.scatter(Pres,Sales)\n",
    "plt.plot(X, 4.243 + 0.04869*X, \"r\")\n",
    "plt.grid()     "
   ]
  },
  {
   "cell_type": "markdown",
   "id": "b05eed21-5272-45e0-ab5b-ce7206adb3e4",
   "metadata": {},
   "source": [
    "**¿Hay alguna relación entre el presupuesto para publicidad y las ventas?**\n",
    "\n",
    "Nuestra primera meta debe ser determinar si hay evidencia en los datos de que haya una asociación entre estas variables.\n",
    "\n",
    "- ¿Por qué? ¿Qué resultaría si nos diéramos cuenta de la falta de relación entre el presupuesto de publicidad y las ventas?"
   ]
  },
  {
   "cell_type": "markdown",
   "id": "b941db34-e2b7-4dfa-9436-f3e8a7e41707",
   "metadata": {},
   "source": [
    "Si hay relación positiva entre ambas variables, la gráfica nos muestra que entre más invirtamos en publicidad las ventas también aumentan"
   ]
  },
  {
   "cell_type": "markdown",
   "id": "469a7c79-00a3-4c0d-a551-2a97543e4af3",
   "metadata": {},
   "source": [
    "Porque los datos se acotan a una misma dirección, si  no hubiera relación estarían completamente dispersos"
   ]
  },
  {
   "cell_type": "markdown",
   "id": "b995f57c-89f1-4c6b-98c1-e990bf3ac6de",
   "metadata": {},
   "source": [
    "**¿Qué tan fuerte es esta relación?**\n",
    "Asumiendo que existe esta relación, ¿nos sirve conocer el impacto que tiene invertir en publicidad en las ventas?"
   ]
  },
  {
   "cell_type": "markdown",
   "id": "9db8e39d-3186-4bb1-a628-962e28b763c8",
   "metadata": {},
   "source": [
    "La relación tiene una buena fortaleza, como no sabemos si las cifras son miles o millones o cualquier otro multiplicador, si sirve para saber el impacto pues con cada unidad invertida en presupuesto de publicidad aumentan las ventas 0.046"
   ]
  },
  {
   "cell_type": "markdown",
   "id": "2d956cb0-455e-4d3d-81ed-5c5c0b182173",
   "metadata": {},
   "source": [
    "**¿Cuáles medios están asociados con las ventas? ¿Qué tan grande es la asociación entre un medio específico y las ventas?**\n",
    "\n",
    "Los medios asociados a las ventas son la inversión en TV, radio y newspaper, la asociación entre un medio específico y las ventas varía y no es tan lineal como todos en conjunto\n",
    "\n",
    "Hay 3 medios distintos en los datos. ¿Sirve invertir en los 3? ¿Conviene más invertir sólo en uno?\n",
    "\n",
    "Si sirve invertir en los 3 porque llegan ventas,  aunque podríamos optimizar la inversión para que con el menor gasto de publicidad repercuta en más ventas\n",
    "\n",
    "**¿Qué tan seguros estamos de que podríamos predecir ventas futuras?**\n",
    "\n",
    "No es precisa la seguridad para predecir exactamente las ventas futuras pero si podemos tener una guía de como pueden ser las ventas si las pronósticamos \n",
    "\n",
    "**¿La relación es lineal?**\n",
    "\n",
    "Si son lineales, solamente al comienzo de las ventas en TV parece exponencial pero tiende a ser lineal\n",
    "\n",
    "**¿Hay sinergia entre estos medios?**\n",
    "\n",
    "Puede ser que gastar \\\\$50,000 en publicidad y otros \\\\$50,000 en radio es mejor opción que gastar \\\\$100,000 en televisión. A esto le llamamos efecto de interacción.\n",
    "\n",
    "Podemos usar regresión lineal para responder todas estas preguntas."
   ]
  },
  {
   "cell_type": "code",
   "execution_count": 12,
   "id": "1b57d4a9-22c7-46ef-a438-f2d29720bfe0",
   "metadata": {},
   "outputs": [
    {
     "data": {
      "text/plain": [
       "Text(0.5, 1.0, 'TV')"
      ]
     },
     "execution_count": 12,
     "metadata": {},
     "output_type": "execute_result"
    },
    {
     "data": {
      "image/png": "[encoded data removed]",
      "text/plain": [
       "<Figure size 640x480 with 1 Axes>"
      ]
     },
     "metadata": {},
     "output_type": "display_data"
    }
   ],
   "source": [
    "plt.figure()\n",
    "plt.scatter(TV,Sales, color = \"b\")\n",
    "plt.grid()\n",
    "plt.title(\"TV\")"
   ]
  },
  {
   "cell_type": "code",
   "execution_count": 13,
   "id": "8cda574c-0aeb-419e-a686-9579942a3346",
   "metadata": {},
   "outputs": [],
   "source": [
    "ones= np.ones([m1,1])\n",
    "x_factor= np.reshape(TV.values,[m1,1])\n",
    "X= np.hstack((ones,x_factor))\n",
    "y_vector= np.reshape(Sales.values,[m1,1])"
   ]
  },
  {
   "cell_type": "code",
   "execution_count": 14,
   "id": "7008ea70-65d7-44c7-9b05-cc8bd329a244",
   "metadata": {},
   "outputs": [
    {
     "data": {
      "text/plain": [
       "  message: Optimization terminated successfully.\n",
       "  success: True\n",
       "   status: 0\n",
       "      fun: 2102.530583132614\n",
       "        x: [ 7.033e+00  4.754e-02]\n",
       "      nit: 5\n",
       "      jac: [ 0.000e+00  0.000e+00]\n",
       " hess_inv: [[ 9.870e-03 -5.012e-05]\n",
       "            [-5.012e-05  3.409e-07]]\n",
       "     nfev: 24\n",
       "     njev: 8"
      ]
     },
     "execution_count": 14,
     "metadata": {},
     "output_type": "execute_result"
    }
   ],
   "source": [
    "beta= [1,1]\n",
    "opt.minimize(funcion_de_costo, beta, args=(X, y_vector))"
   ]
  },
  {
   "cell_type": "code",
   "execution_count": 15,
   "id": "1fb4a46b-ad95-455a-b843-edcc826fb4ee",
   "metadata": {},
   "outputs": [
    {
     "data": {
      "text/plain": [
       "Text(0.5, 1.0, 'TV')"
      ]
     },
     "execution_count": 15,
     "metadata": {},
     "output_type": "execute_result"
    },
    {
     "data": {
      "image/png": "[encoded data removed]",
      "text/plain": [
       "<Figure size 640x480 with 1 Axes>"
      ]
     },
     "metadata": {},
     "output_type": "display_data"
    }
   ],
   "source": [
    "plt.figure()\n",
    "plt.scatter(TV,Sales)\n",
    "plt.plot(X, 7.033 + 0.04754*X, \"r\")\n",
    "plt.grid()  \n",
    "plt.title(\"TV\")"
   ]
  },
  {
   "cell_type": "code",
   "execution_count": 16,
   "id": "75812d3e-42b8-49fc-82d2-ae306d8f2173",
   "metadata": {},
   "outputs": [
    {
     "data": {
      "text/plain": [
       "Text(0.5, 1.0, 'Radio')"
      ]
     },
     "execution_count": 16,
     "metadata": {},
     "output_type": "execute_result"
    },
    {
     "data": {
      "image/png": "[encoded data removed]",
      "text/plain": [
       "<Figure size 640x480 with 1 Axes>"
      ]
     },
     "metadata": {},
     "output_type": "display_data"
    }
   ],
   "source": [
    "plt.figure()\n",
    "plt.scatter(Radio,Sales,color = \"r\")\n",
    "plt.grid()\n",
    "plt.title(\"Radio\")"
   ]
  },
  {
   "cell_type": "code",
   "execution_count": 17,
   "id": "3e79b4cf-15da-46bf-b2a3-fefd58672ad1",
   "metadata": {},
   "outputs": [],
   "source": [
    "ones= np.ones([m1,1])\n",
    "x_factor= np.reshape(Radio.values,[m1,1])\n",
    "X= np.hstack((ones,x_factor))\n",
    "y_vector= np.reshape(Sales.values,[m1,1])"
   ]
  },
  {
   "cell_type": "code",
   "execution_count": 18,
   "id": "097a9aef-9dff-4e0e-a870-06e665236912",
   "metadata": {},
   "outputs": [
    {
     "data": {
      "text/plain": [
       "  message: Desired error not necessarily achieved due to precision loss.\n",
       "  success: False\n",
       "   status: 2\n",
       "      fun: 3618.479549025105\n",
       "        x: [ 9.312e+00  2.025e-01]\n",
       "      nit: 8\n",
       "      jac: [ 0.000e+00  3.052e-05]\n",
       " hess_inv: [[ 1.409e-04 -1.125e-05]\n",
       "            [-1.125e-05  3.840e-06]]\n",
       "     nfev: 171\n",
       "     njev: 53"
      ]
     },
     "execution_count": 18,
     "metadata": {},
     "output_type": "execute_result"
    }
   ],
   "source": [
    "beta= [1,1]\n",
    "opt.minimize(funcion_de_costo, beta, args=(X, y_vector))"
   ]
  },
  {
   "cell_type": "code",
   "execution_count": 19,
   "id": "d17e57f6-147d-4efe-9b20-35edecf4106f",
   "metadata": {},
   "outputs": [
    {
     "data": {
      "text/plain": [
       "Text(0.5, 1.0, 'Radio')"
      ]
     },
     "execution_count": 19,
     "metadata": {},
     "output_type": "execute_result"
    },
    {
     "data": {
      "image/png": "[encoded data removed]",
      "text/plain": [
       "<Figure size 640x480 with 1 Axes>"
      ]
     },
     "metadata": {},
     "output_type": "display_data"
    }
   ],
   "source": [
    "plt.figure()\n",
    "plt.scatter(Radio,Sales)\n",
    "plt.plot(X, 9.312 + 0.2025*X, \"r\")\n",
    "plt.grid() \n",
    "plt.title(\"Radio\")"
   ]
  },
  {
   "cell_type": "code",
   "execution_count": 20,
   "id": "6a5178f2-6349-42d1-bb03-79a9b0d4617a",
   "metadata": {},
   "outputs": [
    {
     "data": {
      "text/plain": [
       "Text(0.5, 1.0, 'Newspaper')"
      ]
     },
     "execution_count": 20,
     "metadata": {},
     "output_type": "execute_result"
    },
    {
     "data": {
      "image/png": "[encoded data removed]",
      "text/plain": [
       "<Figure size 640x480 with 1 Axes>"
      ]
     },
     "metadata": {},
     "output_type": "display_data"
    }
   ],
   "source": [
    "plt.figure()\n",
    "plt.scatter(Newspaper,Sales, color = \"g\")\n",
    "plt.grid()\n",
    "plt.title(\"Newspaper\")"
   ]
  },
  {
   "cell_type": "code",
   "execution_count": 24,
   "id": "9308a154-d78e-4ec8-a96c-f724a74196fb",
   "metadata": {},
   "outputs": [],
   "source": [
    "ones= np.ones([m1,1])\n",
    "x_factor= np.reshape(Newspaper.values,[m1,1])\n",
    "X= np.hstack((ones,x_factor))\n",
    "y_vector= np.reshape(Sales.values,[m1,1])"
   ]
  },
  {
   "cell_type": "code",
   "execution_count": 25,
   "id": "ac38f4fe-6ebb-417b-9915-e6a09394892d",
   "metadata": {},
   "outputs": [
    {
     "data": {
      "text/plain": [
       "  message: Desired error not necessarily achieved due to precision loss.\n",
       "  success: False\n",
       "   status: 2\n",
       "      fun: 5134.804544111966\n",
       "        x: [ 1.235e+01  5.469e-02]\n",
       "      nit: 6\n",
       "      jac: [ 0.000e+00 -6.104e-05]\n",
       " hess_inv: [[ 2.104e-06  1.670e-06]\n",
       "            [ 1.670e-06  1.680e-06]]\n",
       "     nfev: 51\n",
       "     njev: 17"
      ]
     },
     "execution_count": 25,
     "metadata": {},
     "output_type": "execute_result"
    }
   ],
   "source": [
    "beta= [1,1]\n",
    "opt.minimize(funcion_de_costo, beta, args=(X, y_vector))"
   ]
  },
  {
   "cell_type": "code",
   "execution_count": 28,
   "id": "263a653e-408e-455c-a104-950b7bca1edf",
   "metadata": {},
   "outputs": [
    {
     "data": {
      "text/plain": [
       "Text(0.5, 1.0, 'Newspaper')"
      ]
     },
     "execution_count": 28,
     "metadata": {},
     "output_type": "execute_result"
    },
    {
     "data": {
      "image/png": "[encoded data removed]",
      "text/plain": [
       "<Figure size 640x480 with 1 Axes>"
      ]
     },
     "metadata": {},
     "output_type": "display_data"
    }
   ],
   "source": [
    "plt.figure()\n",
    "plt.scatter(Newspaper,Sales)\n",
    "plt.plot(X, 12.35 + 0.05469*X, \"r\")\n",
    "plt.grid() \n",
    "plt.title(\"Newspaper\")"
   ]
  },
  {
   "cell_type": "code",
   "execution_count": null,
   "id": "ca1db8c5-5ba9-41f3-8c7e-2ab0cc4b86f9",
   "metadata": {},
   "outputs": [],
   "source": []
  },
  {
   "cell_type": "markdown",
   "id": "7c97db88-c3d0-42a9-9822-334a55b0c3f8",
   "metadata": {},
   "source": [
    "## Regresión lineal simple"
   ]
  },
  {
   "cell_type": "markdown",
   "id": "cc7c15a0-cc8a-49f2-8bd0-96bd0c296afd",
   "metadata": {},
   "source": [
    "Un método sencillo para predecir una variable cuantitativa $Y$ dado un solo predictor $X$. Podemos escribir esta relación como:\n",
    "\n",
    "$$ Y \\approx \\beta_0 + \\beta_1 X$$\n",
    "\n",
    "Por ejemplo, si decimos que $X$ se refiere a lo gastado en publicidad de TV y que $Y$ son las ventas, podemos buscar:\n",
    "\n",
    "$$ \\text{ventas} \\approx \\beta_0 + (\\beta_1)(\\text{TV})$$"
   ]
  },
  {
   "cell_type": "markdown",
   "id": "af21181c-94f6-4eb2-8186-2dc3ce5653b1",
   "metadata": {},
   "source": [
    "A $\\beta_0$ y $\\beta_1$ se le conoce como los coeficientes o parámetros del modelo. Una vez que usamos los datos históricos para producir estimados $\\hat{\\beta_0}$ y $\\hat{\\beta_1}$, podemos predecir ventar futuras basándonos en lo gastado en publicidad en TV usando\n",
    "$$\\hat{y} = \\hat{\\beta_0} + \\hat{\\beta_1}x $$"
   ]
  },
  {
   "cell_type": "markdown",
   "id": "07ae52b6-daeb-4364-9092-2c8a25a56b2d",
   "metadata": {},
   "source": [
    "donde $\\hat{y}$ indica una predicción de $Y$ basado en $X = x$. (El símbolo $\\hat{ }$ se usa para hacer notar que es sólo una estimación de un parámetro desconocido)"
   ]
  },
  {
   "cell_type": "markdown",
   "id": "ee3b4835-9946-46e9-866a-61394526c72a",
   "metadata": {},
   "source": [
    "### Estimando coeficientes"
   ]
  },
  {
   "cell_type": "markdown",
   "id": "ae7d04ba-bb21-4540-bf56-331ad4329bbc",
   "metadata": {},
   "source": [
    "$\\beta_0$ y $\\beta_1$ son desconocidos. Se deben estimar usando los datos antes de poder predecir. \n",
    "\n",
    "$ (x_1, y_1), (x_2, y_2), ..., (x_n, y_n) $ representa $n$ observaciones, cada una con datos medidos para $X$ y $Y$."
   ]
  },
  {
   "cell_type": "markdown",
   "id": "69138e9f-f782-4f81-a69c-c602dd5a123f",
   "metadata": {},
   "source": [
    "El archivo de publicidad contiene observaciones de 200 mercados y presupuestos usados para publicidad en 3 medios. Nuestra meta actual es encontrar $\\hat{\\beta_0}$ y $\\hat{\\beta_1}$ tal que exista un modelo lineal que se ajuste bien a los datos ($y_i \\approx \\hat{\\beta_0} + \\hat{\\beta_1}x_i$  para $ i=1,...,n$)."
   ]
  },
  {
   "cell_type": "markdown",
   "id": "04bc799e-6602-48f5-ad6e-74b3fc91802e",
   "metadata": {},
   "source": [
    "Hay muchas formas de medir el ajuste de una curva; la más común es usar el criterio de los mínimos cuadrados. Si $y_i \\approx \\hat{\\beta_0} + \\hat{\\beta_1}x_i$ es una predicción de $Y$ basada en el valor número $i$ de $X$, entonces definimos el error/residuo como $e_i = y_i - \\hat{y_i}$. Este residuo es la diferencia entre el valor observado y el valor estimado por nuestro modelo lineal. Definimos la suma de los residuos cuadrados (RSS) como:\n",
    "$$ \\text{RSS} = e_1^2 + e_2^2 + ... + e_n^2 $$"
   ]
  },
  {
   "cell_type": "markdown",
   "id": "39b73961-5157-43af-8a27-19455355993d",
   "metadata": {},
   "source": [
    "Utiliza la función `minimize` del módulo `optimize` la librería `scipy` para estimar los parámetros del modelo."
   ]
  },
  {
   "cell_type": "code",
   "execution_count": null,
   "id": "cd1f2dcd-430e-4b21-922f-456d27f4449a",
   "metadata": {},
   "outputs": [],
   "source": []
  },
  {
   "cell_type": "code",
   "execution_count": null,
   "id": "5575f6b0-9d15-4dda-887f-800f242f9eef",
   "metadata": {},
   "outputs": [],
   "source": []
  },
  {
   "cell_type": "code",
   "execution_count": null,
   "id": "13318696-f84a-4b7a-adfe-d89cdf803198",
   "metadata": {},
   "outputs": [],
   "source": []
  },
  {
   "cell_type": "markdown",
   "id": "25f222c0-971d-47cb-9e51-3fd1f2c94d56",
   "metadata": {},
   "source": [
    "Al resolver el problema analíticamente se encuentra:\n",
    "\n",
    "$$ \\hat{\\beta_1} = \\frac{\\sum_{i=1}^n (x_i - \\bar{x})(y_i - \\bar{y})}{\\sum_{i=1}^n (x_i - \\bar{x})^2} $$\n",
    "\n",
    "$$ \\hat{\\beta_0} = \\bar{y} - \\hat{\\beta_1}\\bar{x} $$\n"
   ]
  },
  {
   "cell_type": "markdown",
   "id": "92aa36b1-c75a-40a5-9a73-5e3e1b73ce22",
   "metadata": {},
   "source": [
    "Compara las estimaciones que encontraste con `minimize` con las que se encuentran con la fórmula dada arriba ($\\bar{x}$ y $\\bar{y}$ son las medias muestrales)."
   ]
  },
  {
   "cell_type": "code",
   "execution_count": null,
   "id": "251faf27-08a7-411d-9030-5cb2c6a28223",
   "metadata": {},
   "outputs": [],
   "source": []
  },
  {
   "cell_type": "code",
   "execution_count": null,
   "id": "dd0cfb78-4c34-4953-972e-da5c31ea3edf",
   "metadata": {},
   "outputs": [],
   "source": []
  },
  {
   "cell_type": "code",
   "execution_count": null,
   "id": "e3fa3f55-8721-43e3-a726-90787bb6256d",
   "metadata": {},
   "outputs": [],
   "source": []
  },
  {
   "cell_type": "markdown",
   "id": "6d5fa1f1-821f-4f72-be0d-5db0b93960f6",
   "metadata": {},
   "source": [
    "Crea una gráfica donde se muestren las observaciones como una nube de puntos y la línea que ajustaste con regresión."
   ]
  },
  {
   "cell_type": "code",
   "execution_count": null,
   "id": "8bd1a705-aedb-4a8e-b6c8-566a7423da45",
   "metadata": {},
   "outputs": [],
   "source": []
  },
  {
   "cell_type": "code",
   "execution_count": null,
   "id": "a66023fd-511e-4e15-baa1-8236034b1e55",
   "metadata": {},
   "outputs": [],
   "source": []
  },
  {
   "cell_type": "code",
   "execution_count": null,
   "id": "119297e4-8ff2-4747-9323-8729d02065d0",
   "metadata": {},
   "outputs": [],
   "source": []
  },
  {
   "cell_type": "markdown",
   "id": "28ba843a-c9e4-41ca-aacd-fa767e6e98fd",
   "metadata": {},
   "source": [
    "### Verificando la precisión de nuestros coeficientes estimados"
   ]
  },
  {
   "cell_type": "markdown",
   "id": "003047bc-00c1-4abc-a38a-2b6d0bc7b72f",
   "metadata": {},
   "source": [
    "Recuerda que en el mundo real hay ruidos y errores de medición. Siempre se asume que la verdadera relación entre $X$ y $Y$ es $$Y = \\beta_0 + \\beta_1 X + \\epsilon$$"
   ]
  },
  {
   "cell_type": "markdown",
   "id": "c4f95e02-9178-4c24-baa8-62d1f3340d71",
   "metadata": {},
   "source": [
    "Se asume que el término de error es independiente de $X$ (el error siempre es el mismo sin importar el valor de $X$). Este modelo describe a la *línea de regresión de la población*, que es la mejor aproximación de la verdadera relación entre $X$ y $Y$. Cuando usamos mínimos cuadrados encontramos la *línea de mínimos cuadrados*."
   ]
  },
  {
   "cell_type": "markdown",
   "id": "6212c629-4064-4ec6-8569-3c28b27fcddb",
   "metadata": {},
   "source": [
    "¿Cuál es la diferencia entre población y muestra?"
   ]
  },
  {
   "cell_type": "markdown",
   "id": "a5d5282f-8f1c-43d2-bb8d-cf376c69b670",
   "metadata": {},
   "source": []
  },
  {
   "cell_type": "markdown",
   "id": "558994c6-3553-42d7-8d69-6d0c141fe6a9",
   "metadata": {},
   "source": []
  },
  {
   "cell_type": "markdown",
   "id": "1432a23b-b45f-4b0d-852e-04b677a063e6",
   "metadata": {},
   "source": []
  },
  {
   "cell_type": "markdown",
   "id": "54072a4b-5d31-4d69-917f-c129ecbe8ad0",
   "metadata": {},
   "source": [
    "¿Cuál crees que sea la diferencia entre hacer una regresión con todos los datos de la población y una muestra de ella?"
   ]
  },
  {
   "cell_type": "markdown",
   "id": "2a37096b-0831-4aaa-86ba-315cfc230e08",
   "metadata": {},
   "source": []
  },
  {
   "cell_type": "markdown",
   "id": "d42b3302-2539-4156-b58d-34ca8381a2ad",
   "metadata": {},
   "source": []
  },
  {
   "cell_type": "markdown",
   "id": "f7a3d5a7-8770-467b-9120-ad5ad8a788af",
   "metadata": {},
   "source": []
  },
  {
   "cell_type": "markdown",
   "id": "5cb524d1-2aff-45ff-ac79-3d55cc38d016",
   "metadata": {},
   "source": [
    "La línea de regresión de la población no se puede observar. El concepto de comparar estas líneas es una extensión natural del acercamiento estadístico estándar de usar información de una muestra para estimar características de una población grande."
   ]
  },
  {
   "cell_type": "markdown",
   "id": "62dfac4e-2aa9-4b77-8852-4e6f3654b12b",
   "metadata": {},
   "source": [
    "Imagina que quieres encontrar la altura promedio de un mexicano $\\mu$. Medir a todos y cada uno de los mexicanos en situaciones similares, con la misma regla, mismo operador, y otras incontables formas de minimizar la variación de la medida es una tarea imposible. Lo que podemos asumir es que $\\hat{\\mu} = \\bar{y}$. La media poblacional y la media muestral son diferentes, pero la media muestral es usualmente un buen estimado.\n",
    "\n",
    "De la misma manera, como no contamos con el 100% de la información para hacer una regresión, los coeficientes $\\beta_0$ y $\\beta_1$ son desconocidos. Podemos estimarlos usando mínimos cuadrados, encontrando $\\hat{\\beta_0}$ y $\\hat{\\beta_1}$. Puede que las muestras que tengamos en ese momento estén un poco por encima de la media, pero otras muestras en otro momento puede que estén debajo de la media. En general, esperamos que el promedio de las aproximaciones $\\hat{\\mu}$ aproxime a $\\mu$."
   ]
  },
  {
   "cell_type": "markdown",
   "id": "c92823d6-7d21-4921-9a28-551bf115a3f0",
   "metadata": {},
   "source": [
    "Esto lleva a la pregunta: ¿qué tan cercanos son nuestros coeficientes estimados a los verdaderos coeficientes? Utilizamos el concepto de error estándar para evaluar esto.\n",
    "\n",
    "$$ \\text{Var}(\\hat{\\mu})=\\text{SE}(\\hat{\\mu})^2 = \\frac{\\sigma^2}{n} $$\n",
    "\n",
    "Donde $\\sigma$ es la desviación estándar de cada una de las observaciones $y_i$ de $Y$. El error estándar nos dice la cantidad promedio que el estimado difiere del valor verdadero. Podemos ver en la fórmula que entre más observaciones tengamos el error se hace más pequeño. Las fórmulas para errores estándar de $\\hat{\\beta_0}$ y $\\hat{\\beta_1}$ son:\n",
    "\n",
    "$$ \\text{SE}(\\hat{\\beta_0})^2 = \\sigma^2 [\\frac{1}{n} + \\frac{\\bar{x}^2}{\\sum_{i=1}^n (x_i - \\bar{x})^2}]$$\n",
    "\n",
    "$$ \\text{SE}(\\hat{\\beta_1})^2 = \\frac{\\sigma^2}{\\sum_{i=1}^n (x_i - \\bar{x})^2}$$\n",
    "\n",
    "$$ \\sigma^2 = \\text{Var}(\\epsilon) = \\text{RSE}^2 = \\frac{\\text{RSS}}{n-2}$$"
   ]
  },
  {
   "cell_type": "markdown",
   "id": "328aeb35-d85b-4c86-91cd-141d93d9a2b1",
   "metadata": {},
   "source": [
    "Para que estas fórmulas sean validas asumimos que los errores $\\epsilon_i$ tienen varianza común $\\sigma^2$ y que no están correlacionados.\n",
    "\n",
    "Calcula los errores estándar de los coeficientes"
   ]
  },
  {
   "cell_type": "code",
   "execution_count": null,
   "id": "4ccf8476-5043-410d-b895-f2258f1844b1",
   "metadata": {},
   "outputs": [],
   "source": []
  },
  {
   "cell_type": "code",
   "execution_count": null,
   "id": "7e5ea50c-f5b6-4961-afff-76ff082f954c",
   "metadata": {},
   "outputs": [],
   "source": []
  },
  {
   "cell_type": "code",
   "execution_count": null,
   "id": "d5dcabd3-bde8-44e1-9c8f-e603ebb44ac8",
   "metadata": {},
   "outputs": [],
   "source": []
  },
  {
   "cell_type": "markdown",
   "id": "49c25f66-e401-4b4c-b5b2-c3ab744cefa8",
   "metadata": {},
   "source": [
    "Estos errores se pueden usar para calcular intervalos de confianza. Un intervalo de confianza del $95\\%$ se define como un rango de valores en el cuál se encuentra el desconocido valor verdadero con un $95\\%$ de probabilidad.\n",
    "\n",
    "Otra forma de verlo es que si tomamos muestras repetidas y construimos un intervalo de confianza para cada una, el $95\\%$ de los intervalos creados van a contener el valor verdadero. Para la regresión el intervalo de confianza del $95\\%$ toma la forma:\n",
    "\n",
    "$$ \\hat{\\beta_j} \\pm \\text{SE}(\\hat{\\beta_j})$$"
   ]
  },
  {
   "cell_type": "markdown",
   "id": "ae52aa71-21a6-41d8-a2ed-5205575cbb96",
   "metadata": {},
   "source": [
    "Calcula los intervalos de confianza para los coeficientes estimados:"
   ]
  },
  {
   "cell_type": "code",
   "execution_count": null,
   "id": "bd630c11-6fa4-4c29-aef6-7541ca1b3fff",
   "metadata": {},
   "outputs": [],
   "source": []
  },
  {
   "cell_type": "code",
   "execution_count": null,
   "id": "01e64ec4-7f78-4d3d-b153-a35d5cbeb2e5",
   "metadata": {},
   "outputs": [],
   "source": []
  },
  {
   "cell_type": "code",
   "execution_count": null,
   "id": "33035312-ba96-4e19-a746-3a67756d4753",
   "metadata": {},
   "outputs": [],
   "source": []
  },
  {
   "cell_type": "markdown",
   "id": "7f20885e-d24d-4d1a-b04a-9cc56bbe2aca",
   "metadata": {},
   "source": [
    "Los errores estándar también se usan para realizar pruebas de hipótesis. La prueba de hipótesis más común es probar la hipótesis nula de:\n",
    "\n",
    "$$ H_0: \\text{No hay relación entre } X \\text{ y } Y \\ \\ \\ \\ (\\beta_1=0)$$"
   ]
  },
  {
   "cell_type": "markdown",
   "id": "23bd130f-6f52-470c-ad15-b476f595a880",
   "metadata": {},
   "source": [
    "contra la hipótesis alternativa:\n",
    "$$ H_0: \\text{Hay alguna relación entre } X \\text{ y } Y \\ \\ \\ (\\beta_1 \\neq 0)$$"
   ]
  },
  {
   "cell_type": "markdown",
   "id": "50302a91-3b88-470e-9091-11f9730f2c3e",
   "metadata": {},
   "source": [
    "Explica con tus palabras el significado de la hipótesis nula y la hipótesis alternativa."
   ]
  },
  {
   "cell_type": "markdown",
   "id": "45b59140-9cab-41ce-acbb-566882aa99ec",
   "metadata": {},
   "source": []
  },
  {
   "cell_type": "markdown",
   "id": "87f4382e-80cd-4b4d-8105-135ab1a52b12",
   "metadata": {},
   "source": []
  },
  {
   "cell_type": "markdown",
   "id": "35d354f6-01ab-42ee-a2e0-e0a2ea658002",
   "metadata": {},
   "source": []
  },
  {
   "cell_type": "markdown",
   "id": "5a089c32-edde-4374-b910-ecbcc6903bbe",
   "metadata": {},
   "source": [
    "Para probal la hipótesis nula debemos determinar si nuestro estimado $\\hat{\\beta_1}$ de $\\beta_1$ está lo suficientemente alejado de cero para que podamos decir con confianza que este valor no es cero. \n",
    "\n",
    "¿Qué tan lejos? Depende de qué tanta confianza tengamos en el estimado encontrado. Si nuestro error estándar es pequeño y nuestro estimado está alejado de cero podríamos decir que hay muy poca probabilidad de que el valor verdadero sea 0. En cambio, si nuestro error estándar es grande y nuestro estimado está muy cerca de cero, entonces podrías ser que el valor verdadero sea cero y que no haya relación entre las variables."
   ]
  },
  {
   "cell_type": "markdown",
   "id": "40c6b1e2-0db8-456c-bc18-2e3d450fba15",
   "metadata": {},
   "source": [
    "Se calcula un *estadístico t* dado por\n",
    "$$ t = \\frac{\\hat{\\beta_j} - \\mu}{\\text{SE}(\\hat{\\beta_j})} $$"
   ]
  },
  {
   "cell_type": "markdown",
   "id": "ebcb14f0-b828-486b-88f4-8bd4599e3a24",
   "metadata": {},
   "source": [
    "donde $\\mu$ es el valor contra el que queremos probar.\n",
    "\n",
    "Calcula el estadístico t para tus coeficientes estimados, usando como referencia la prueba de hipótesis."
   ]
  },
  {
   "cell_type": "code",
   "execution_count": null,
   "id": "6abadc35-481c-4a3f-8c51-43bcd864da8d",
   "metadata": {},
   "outputs": [],
   "source": []
  },
  {
   "cell_type": "code",
   "execution_count": null,
   "id": "22d55385-f03e-47df-9124-4c54e6900b1b",
   "metadata": {},
   "outputs": [],
   "source": []
  },
  {
   "cell_type": "code",
   "execution_count": null,
   "id": "283bc764-d92e-4054-aa17-62ba14df7336",
   "metadata": {},
   "outputs": [],
   "source": []
  },
  {
   "cell_type": "markdown",
   "id": "3351c7b7-76e3-43b3-b6fb-f387278d47d2",
   "metadata": {},
   "source": [
    "La distribución t tiene forma de campana y se parece bastante a la distribución normal cuando $n > 30$. Ya sólo es cuestión de calcular la probabilidad de observar cualquier número tal que su valor absoluto sea igual o mayor que el valor absoluto del estadístico t calculado. En otras palabras:\n",
    "$$ P(|x| \\geq |t|) $$"
   ]
  },
  {
   "cell_type": "markdown",
   "id": "1e27483e-c968-4ffd-942a-4e95196a275a",
   "metadata": {},
   "source": [
    "A esta probabilidad la llamamos *p-value*. Un *p-value* pequeño indica que es poco probable que exista por puro azar una relación significativa entre predictor y respuesta, en caso de que no haya una asociación real entre predictor y respuesta. En otras palabras, el *p-value* te dice la probabilidad de que parezca que hay relación cuando no la hay.\n",
    "\n",
    "Si el *p-value* es pequeño, inferimos que sí hay una asociación entre el predictor y la respuesta, y **rechazamos la hipótesis nula**.\n",
    "  "
   ]
  },
  {
   "cell_type": "markdown",
   "id": "c81be623-6485-428f-82de-f21f3da91bbe",
   "metadata": {},
   "source": [
    "¿Qué tan pequeño? Depende de la aplicación. Un valor muy común es del $5\\%$.\n",
    "\n",
    "Utiliza el siguiente código para calcular el *p-value* para tus coeficientes\n",
    "\n",
    "`from scipy import stats`\n",
    "\n",
    "`p_bj = 2*(1 - stats.t.cdf(np.abs(t_bj), n-2))`"
   ]
  },
  {
   "cell_type": "code",
   "execution_count": null,
   "id": "e865bda7-250d-477f-8978-b9f9eeacef64",
   "metadata": {},
   "outputs": [],
   "source": []
  },
  {
   "cell_type": "code",
   "execution_count": null,
   "id": "b78bb849-9e6c-400b-85ad-c3cf3537005e",
   "metadata": {},
   "outputs": [],
   "source": []
  },
  {
   "cell_type": "code",
   "execution_count": null,
   "id": "095016f2-04d6-46f1-8fe8-f69b54dfb3bf",
   "metadata": {},
   "outputs": [],
   "source": []
  },
  {
   "cell_type": "markdown",
   "id": "fed5f2b8-0af7-40c9-8016-cebd6831935a",
   "metadata": {},
   "source": [
    "¿Se rechaza la hipótesis nula? ¿Qué significa?"
   ]
  },
  {
   "cell_type": "markdown",
   "id": "5af2fc39-4dc4-440e-8d82-4d6f67931da2",
   "metadata": {},
   "source": []
  },
  {
   "cell_type": "markdown",
   "id": "0298a3ff-62dc-4614-af0a-065adcd15a3d",
   "metadata": {},
   "source": []
  },
  {
   "cell_type": "markdown",
   "id": "60d49e98-9359-4f97-ba36-0c0b6694a329",
   "metadata": {},
   "source": []
  },
  {
   "cell_type": "markdown",
   "id": "67df9156-db8f-413a-87ed-b1588de8f813",
   "metadata": {},
   "source": [
    "### Verificando la precisión del modelo"
   ]
  },
  {
   "cell_type": "markdown",
   "id": "5a15f1df-fed5-4f21-9665-8f81f590f1d6",
   "metadata": {},
   "source": [
    "Si ya tenemos unos coeficientes de regresión estimados y ya verificamos que la probabilidad de que sí hay relación entre predictor y respuesta es alta. ¿Cómo medimos qué tan bueno es nuestro modelo para predecir?\n",
    "- RSE (Residual Standard Error)\n",
    "- $R^2$"
   ]
  },
  {
   "cell_type": "markdown",
   "id": "87e53256-a80b-4f88-843c-9fa9a29ee142",
   "metadata": {},
   "source": [
    "#### $R^2$"
   ]
  },
  {
   "cell_type": "markdown",
   "id": "5773edfe-16c3-4246-adce-bb003f3bb597",
   "metadata": {},
   "source": [
    "El RSE se mide con unidades de $Y$, así que no siempre se puede saber cuál es un buen valor. Imagina que tienes un $Y$ con valores entre $-1$ y $1$, y que tienes otro $Y$ con valores entre $1'000,000$ y $100'000,000$. Los errores cuadrados van a ser mucho mayores en el segundo caso que en el primero, pero esto no significa que el modelo creado en el segundo caso sea malo.\n",
    "\n",
    "El estadístico $R^2$ es una medida de ajuste. Su valor es la proporción de la varianza sí explicada, así que siempre toma valores entre $0$ y $1$. Su fórmula es:\n",
    "\n",
    "$$ R^2 = \\frac{\\text{TSS} - \\text{RSS}}{\\text{TSS}} = 1 - \\frac{\\text{RSS}}{\\text{TSS}}$$\n",
    "$$ \\text{TSS} = \\sum_{i=1}^n (y_i - \\bar{y})^2$$"
   ]
  },
  {
   "cell_type": "markdown",
   "id": "afc748e3-061a-4af7-b123-cffedfc04a2e",
   "metadata": {},
   "source": [
    "TSS mide la varianza total de $Y$. RSS mide la varianza que queda sin explicarse después de la regresión. Entonces TSS-RSS mide la varianza que sí está explicada.\n",
    "\n",
    "$R^2$ mide la proporción de la varianza en $Y$ que puede ser explicada usando $X$.\n",
    "\n",
    "Calcula el estadístico $R^2$. ¿Cuánta varianza quedó sin explicar?"
   ]
  },
  {
   "cell_type": "code",
   "execution_count": null,
   "id": "6504e6b2-0c22-491c-8c2b-93518a11b689",
   "metadata": {},
   "outputs": [],
   "source": []
  },
  {
   "cell_type": "code",
   "execution_count": null,
   "id": "2f43b74c-6700-4c01-b7f9-a9d4041edb49",
   "metadata": {},
   "outputs": [],
   "source": []
  },
  {
   "cell_type": "code",
   "execution_count": null,
   "id": "46dd18e3-9611-48df-9435-8ee9aa84ec07",
   "metadata": {},
   "outputs": [],
   "source": []
  },
  {
   "cell_type": "markdown",
   "id": "e6c2cdfd-99ff-47e1-8ab1-50abe74b594e",
   "metadata": {},
   "source": [
    "Realiza otras dos regresiones. Ya tienes hecha la regresión de ventas dado el gasto en publicidad de TV. Realiza la regresión para gastos en radio y gastos en periódico. Organiza las respuestas para que debajo de esta celda se tenga:\n",
    "- Título de regresión\n",
    "- Coeficientes estimados\n",
    "- Errores estándar de los coeficientes\n",
    "- Intervalos de confianza\n",
    "- Estadísticos t\n",
    "- p-values\n",
    "- Observaciones"
   ]
  },
  {
   "cell_type": "markdown",
   "id": "304d9a5c-92e9-4f44-898b-eaec6af135bb",
   "metadata": {},
   "source": [
    "## Regresión lineal múltiple"
   ]
  },
  {
   "cell_type": "markdown",
   "id": "69aed655-7d42-414c-a05c-7564e4010cde",
   "metadata": {},
   "source": [
    "En lugar de hacer una regresión para cada factor independiente, quizás se puede extender el modelo para que tenga varios factores dentro:\n",
    "\n",
    "$$ Y = \\beta_0 + \\beta_1 X_1 + \\beta_2 X_2 + ... + \\beta_p X_p + \\epsilon $$\n",
    "\n",
    "Para nuestro ejemplo de publicidad:\n",
    "\n",
    "$$ \\text{sales} = \\beta_0 + \\beta_1 (\\text{TV}) + \\beta_2 (\\text{radio}) + \\beta_3 (\\text{newspaper}) + \\epsilon $$"
   ]
  },
  {
   "cell_type": "markdown",
   "id": "bd93eb8c-f115-4de4-86a1-820a89f4f087",
   "metadata": {},
   "source": [
    "Utiliza la función `minimize` para estimar los coeficientes $\\beta_0$, $\\beta_1$, $\\beta_2$ y $\\beta_3$"
   ]
  },
  {
   "cell_type": "code",
   "execution_count": null,
   "id": "34060470-47ae-4f8a-bcca-970795d1a06f",
   "metadata": {},
   "outputs": [],
   "source": []
  },
  {
   "cell_type": "code",
   "execution_count": null,
   "id": "884b2091-76a1-49ea-a15e-08d2f7786612",
   "metadata": {},
   "outputs": [],
   "source": []
  },
  {
   "cell_type": "code",
   "execution_count": null,
   "id": "758813c7-50ac-49fa-9346-f211f2f3349f",
   "metadata": {},
   "outputs": [],
   "source": []
  },
  {
   "cell_type": "markdown",
   "id": "7f2c2714-b7f4-4e23-8499-3a191642d829",
   "metadata": {},
   "source": [
    "Calcula el RSS y RSE."
   ]
  },
  {
   "cell_type": "code",
   "execution_count": null,
   "id": "d966bf7f-54bc-49b7-a362-7c4cbe5f20ac",
   "metadata": {},
   "outputs": [],
   "source": []
  },
  {
   "cell_type": "code",
   "execution_count": null,
   "id": "40bd4b0a-9542-4cd4-af6f-5f79f3eb1a54",
   "metadata": {},
   "outputs": [],
   "source": []
  },
  {
   "cell_type": "code",
   "execution_count": null,
   "id": "d4b1adc2-eab4-4a1b-a4ad-7d77b9af5fcc",
   "metadata": {},
   "outputs": [],
   "source": []
  },
  {
   "cell_type": "markdown",
   "id": "ec0b0118-2799-4444-9dcf-692dfbe67df5",
   "metadata": {},
   "source": [
    "Dada tu matriz $X$ que contiene todos los factores como columnas, utiliza el siguiente código para encontrar el error estándar de tus estimaciones\n",
    "\n",
    "`var_beta = np.linalg.inv(X.T @ X) * rse**2`\n",
    "\n",
    "`std_beta = np.sqrt(var_beta.diagonal())`\n",
    "\n",
    "El orden de los valores corresponde al orden de los factores en las columnas de la matriz $X$."
   ]
  },
  {
   "cell_type": "code",
   "execution_count": null,
   "id": "f3140322-742f-434d-8ea5-becd3d2a4984",
   "metadata": {},
   "outputs": [],
   "source": []
  },
  {
   "cell_type": "code",
   "execution_count": null,
   "id": "ae4d05e6-e44e-4864-bcb3-e2530d551f7d",
   "metadata": {},
   "outputs": [],
   "source": []
  },
  {
   "cell_type": "code",
   "execution_count": null,
   "id": "5c044e46-31c6-4d94-a2d0-7a18ec7e950c",
   "metadata": {},
   "outputs": [],
   "source": []
  },
  {
   "cell_type": "markdown",
   "id": "36c77f8b-b87e-41ae-a26e-bdb440ba82e9",
   "metadata": {},
   "source": [
    "Calcula los estadísticos t y *p-values* de tus estimaciones."
   ]
  },
  {
   "cell_type": "code",
   "execution_count": null,
   "id": "37387105-358f-40d6-9ea0-de92b23f702e",
   "metadata": {},
   "outputs": [],
   "source": []
  },
  {
   "cell_type": "code",
   "execution_count": null,
   "id": "7a5ebb8d-3ac5-407c-b0d6-2e9b36ebe9f4",
   "metadata": {},
   "outputs": [],
   "source": []
  },
  {
   "cell_type": "code",
   "execution_count": null,
   "id": "bd9ec377-7d1e-4a51-a696-93116623868a",
   "metadata": {},
   "outputs": [],
   "source": []
  },
  {
   "cell_type": "markdown",
   "id": "c72cd4fd-3670-47d8-84a0-4375bd6b0a81",
   "metadata": {},
   "source": [
    "¿Qué diferencias puedes observar entre los *p-values* de una regresión múltiple y los encontrados en regresiones simples? ¿Por qué crees que existen estas diferencias?"
   ]
  },
  {
   "cell_type": "markdown",
   "id": "c6c4d945-5a9c-462c-bd3c-446f01839ad6",
   "metadata": {},
   "source": []
  },
  {
   "cell_type": "markdown",
   "id": "25a0da9c-3867-41e7-a250-dfb926f7802c",
   "metadata": {},
   "source": []
  },
  {
   "cell_type": "markdown",
   "id": "b9ccba33-34eb-4a08-aa0e-a23e622fefa8",
   "metadata": {},
   "source": []
  },
  {
   "cell_type": "markdown",
   "id": "92356829-60cc-495f-9464-215c652cacf8",
   "metadata": {},
   "source": [
    "## Referencia\n",
    "\n",
    "James, G., Witten, D., Hastie, T., Tibshirani, R.,, Taylor, J. (2023). An Introduction to Statistical Learning with Applications in Python. Cham: Springer. ISBN: 978-3-031-38746-3"
   ]
  },
  {
   "cell_type": "code",
   "execution_count": null,
   "id": "ce7cf453-0e4f-49c9-be6e-c402a2fc7946",
   "metadata": {},
   "outputs": [],
   "source": []
  }
 ],
 "metadata": {
  "kernelspec": {
   "display_name": "Python 3 (ipykernel)",
   "language": "python",
   "name": "python3"
  },
  "language_info": {
   "codemirror_mode": {
    "name": "ipython",
    "version": 3
   },
   "file_extension": ".py",
   "mimetype": "text/x-python",
   "name": "python",
   "nbconvert_exporter": "python",
   "pygments_lexer": "ipython3",
   "version": "3.12.4"
  }
 },
 "nbformat": 4,
 "nbformat_minor": 5
}
