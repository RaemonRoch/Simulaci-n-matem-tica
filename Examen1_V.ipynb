{
 "cells": [
  {
   "cell_type": "markdown",
   "id": "982ed0f9",
   "metadata": {},
   "source": [
    "Mariana Valenzuela Lafarga"
   ]
  },
  {
   "cell_type": "markdown",
   "id": "1e2823cf",
   "metadata": {},
   "source": [
    "# Examen A Módulo 1 - Optimización.\n",
    "\n",
    "**Lea cuidadosamente las siguientes indicaciones antes de comenzar el examen:**\n",
    "- Para resolver el examen edite este mismo archivo y renómbrelo de la siguiente manera: *Examen1_ApellidoNombre*, donde *ApellidoNombre* corresponde a su apellido paterno con la inicial en mayúscula, seguido de su primer nombre con la inicial en mayúscula **sin acentos**. Por ejemplo, en mi caso el nombre del archivo sería *Examen1_MoralesGabriel*.\n",
    "- Resuelva los puntos en el espacio provisto. Si requiere agregar más celdas para código o escritura, hágalo (`Esc`,`B`) o (`Esc`,`A`).\n",
    "- Recuerde que también se está evaluando su capacidad de interpretar los resultados. Escriba sus interpretaciones/conclusiones en celdas utilizando *Markdown*.\n",
    "- El formato de presentación de todo el examen en general debe ser adecuado. Use tamaños de letra, colores, etiquetas, etcétera.\n",
    "- No se resuelven dudas de ningún tipo por los profesores de la asignatura. Por favor, absténgase de preguntar.\n",
    "- Revise bien el tipo de examen. Sólo se le calificará si realiza el tipo de examen asignado."
   ]
  },
  {
   "cell_type": "markdown",
   "id": "53712a36",
   "metadata": {},
   "source": [
    "---\n",
    "# Primer punto. Optimización de funciones con `SymPy` (37 puntos)\n"
   ]
  },
  {
   "cell_type": "markdown",
   "id": "9913d3d8",
   "metadata": {},
   "source": [
    "Se tiene un círculo de papel con el que quieres crear un cono para tomar agua. Tienes mucha sed, entonces quieres crear el cono más grande posible a partir de cortar la hora de papel que tienes.\n",
    "\n"
   ]
  },
  {
   "cell_type": "markdown",
   "id": "d34b6a0a",
   "metadata": {},
   "source": [
    "![](e01-fig1.png)"
   ]
  },
  {
   "cell_type": "markdown",
   "id": "a387e2cb",
   "metadata": {},
   "source": [
    "1. Escribe el volumen del cono como función de las variables. Realiza este punto usando $\\LaTeX$ y celdas *Markdown*."
   ]
  },
  {
   "cell_type": "markdown",
   "id": "9b7a935f",
   "metadata": {},
   "source": [
    "$$V(r,h)= \\frac{1}{3}\\pi r^2 h$$"
   ]
  },
  {
   "cell_type": "markdown",
   "id": "ee04a16b",
   "metadata": {},
   "source": [
    "2. Encuentra una relación entre las variables y escribe el volumen del cono como función de $\\theta$.\n",
    "$$\\theta R = 2 \\pi r $$\n",
    "$$r= \\frac{\\theta R}{2 \\pi}$$\n",
    "$$ V(\\theta) = \\frac{\\pi}{3} (\\frac{\\theta R}{2\\pi})^2 h$$"
   ]
  },
  {
   "cell_type": "markdown",
   "id": "fed271d9",
   "metadata": {},
   "source": [
    "$$sen \\theta = r/h$$"
   ]
  },
  {
   "cell_type": "code",
   "execution_count": 31,
   "id": "593ad11a",
   "metadata": {},
   "outputs": [],
   "source": [
    "import numpy as np\n",
    "import sympy as sp\n",
    "r= sp.var(\"r\")\n",
    "h= sp.var(\"h\")\n",
    "theta= sp.var(\"theta\")\n",
    "pi= sp.var(\"pi\")"
   ]
  },
  {
   "cell_type": "code",
   "execution_count": 32,
   "id": "edab3afe",
   "metadata": {},
   "outputs": [
    {
     "data": {
      "text/latex": [
       "$\\displaystyle - 2 \\pi r + 10 \\theta$"
      ],
      "text/plain": [
       "-2*pi*r + 10*theta"
      ]
     },
     "execution_count": 32,
     "metadata": {},
     "output_type": "execute_result"
    }
   ],
   "source": [
    "restriccion= theta*10-2*pi*r\n",
    "restriccion"
   ]
  },
  {
   "cell_type": "code",
   "execution_count": 33,
   "id": "141fb447",
   "metadata": {},
   "outputs": [
    {
     "data": {
      "text/latex": [
       "$\\displaystyle \\frac{5 \\theta}{\\pi}$"
      ],
      "text/plain": [
       "5*theta/pi"
      ]
     },
     "execution_count": 33,
     "metadata": {},
     "output_type": "execute_result"
    }
   ],
   "source": [
    "r2= sp.solve(restriccion,r)[0]\n",
    "r2"
   ]
  },
  {
   "cell_type": "code",
   "execution_count": 34,
   "id": "40714b48",
   "metadata": {},
   "outputs": [],
   "source": [
    "def V(r,h):\n",
    "    return (pi/3)*r**2*h"
   ]
  },
  {
   "cell_type": "code",
   "execution_count": 37,
   "id": "4e542ecf",
   "metadata": {},
   "outputs": [
    {
     "data": {
      "text/latex": [
       "$\\displaystyle h^{2} - 100 + \\frac{25 \\theta^{2}}{\\pi^{2}}$"
      ],
      "text/plain": [
       "h**2 - 100 + 25*theta**2/pi**2"
      ]
     },
     "execution_count": 37,
     "metadata": {},
     "output_type": "execute_result"
    }
   ],
   "source": [
    "restriccion2=  r2**2 + h**2 -10**2\n",
    "restriccion2"
   ]
  },
  {
   "cell_type": "code",
   "execution_count": 40,
   "id": "4b21da0b",
   "metadata": {
    "scrolled": true
   },
   "outputs": [
    {
     "data": {
      "text/latex": [
       "$\\displaystyle \\frac{5 \\sqrt{4 \\pi^{2} - \\theta^{2}}}{\\pi}$"
      ],
      "text/plain": [
       "5*sqrt(4*pi**2 - theta**2)/pi"
      ]
     },
     "execution_count": 40,
     "metadata": {},
     "output_type": "execute_result"
    }
   ],
   "source": [
    "h2= sp.solve(restriccion2,h)[1]\n",
    "h2"
   ]
  },
  {
   "cell_type": "code",
   "execution_count": 42,
   "id": "1068ba09",
   "metadata": {},
   "outputs": [
    {
     "data": {
      "text/latex": [
       "$\\displaystyle \\frac{125 \\theta^{2} \\sqrt{4 \\pi^{2} - \\theta^{2}}}{3 \\pi^{2}}$"
      ],
      "text/plain": [
       "125*theta**2*sqrt(4*pi**2 - theta**2)/(3*pi**2)"
      ]
     },
     "execution_count": 42,
     "metadata": {},
     "output_type": "execute_result"
    }
   ],
   "source": [
    "V1= V(r,h).subs(r,r2).subs(h,h2)\n",
    "V1"
   ]
  },
  {
   "cell_type": "code",
   "execution_count": 43,
   "id": "f179f18f",
   "metadata": {},
   "outputs": [
    {
     "data": {
      "text/latex": [
       "$\\displaystyle - \\frac{125 \\theta^{3}}{3 \\pi^{2} \\sqrt{4 \\pi^{2} - \\theta^{2}}} + \\frac{250 \\theta \\sqrt{4 \\pi^{2} - \\theta^{2}}}{3 \\pi^{2}}$"
      ],
      "text/plain": [
       "-125*theta**3/(3*pi**2*sqrt(4*pi**2 - theta**2)) + 250*theta*sqrt(4*pi**2 - theta**2)/(3*pi**2)"
      ]
     },
     "execution_count": 43,
     "metadata": {},
     "output_type": "execute_result"
    }
   ],
   "source": [
    "dA= sp.diff(V1,theta)\n",
    "dA"
   ]
  },
  {
   "cell_type": "markdown",
   "id": "a1e58696",
   "metadata": {},
   "source": [
    "3. Determina el ángulo que maximiza el volumen del cono si el círculo tiene un radio de 10 cm. (Respuesta en radianes y grados)"
   ]
  },
  {
   "cell_type": "code",
   "execution_count": 46,
   "id": "f4a7593c",
   "metadata": {},
   "outputs": [
    {
     "data": {
      "text/latex": [
       "$\\displaystyle \\frac{2 \\sqrt{6} \\pi}{3}$"
      ],
      "text/plain": [
       "2*sqrt(6)*pi/3"
      ]
     },
     "execution_count": 46,
     "metadata": {},
     "output_type": "execute_result"
    }
   ],
   "source": [
    "x1=sp.solve(dA,theta)[2]\n",
    "x1"
   ]
  },
  {
   "cell_type": "markdown",
   "id": "d17eecd3",
   "metadata": {},
   "source": [
    "El angulo que maximiza el volumen del cono es $ \\frac{2\\sqrt(6) \\pi}{3}$"
   ]
  },
  {
   "cell_type": "markdown",
   "id": "fec1be1e",
   "metadata": {},
   "source": [
    "3. ¿Cuánta agua cabe en el cono? (Respuesta en mililitros)"
   ]
  },
  {
   "cell_type": "code",
   "execution_count": 48,
   "id": "3da98dd3",
   "metadata": {},
   "outputs": [
    {
     "data": {
      "text/latex": [
       "$\\displaystyle \\frac{10 \\sqrt{6}}{3}$"
      ],
      "text/plain": [
       "10*sqrt(6)/3"
      ]
     },
     "execution_count": 48,
     "metadata": {},
     "output_type": "execute_result"
    }
   ],
   "source": [
    "radiomenor= r2.subs(theta, x1)\n",
    "radiomenor"
   ]
  },
  {
   "cell_type": "code",
   "execution_count": 49,
   "id": "8cd979f9",
   "metadata": {},
   "outputs": [
    {
     "data": {
      "text/latex": [
       "$\\displaystyle \\frac{10 \\sqrt{3} \\sqrt{\\pi^{2}}}{3 \\pi}$"
      ],
      "text/plain": [
       "10*sqrt(3)*sqrt(pi**2)/(3*pi)"
      ]
     },
     "execution_count": 49,
     "metadata": {},
     "output_type": "execute_result"
    }
   ],
   "source": [
    "altura= h2.subs(theta, x1)\n",
    "altura"
   ]
  },
  {
   "cell_type": "code",
   "execution_count": 50,
   "id": "06662bea",
   "metadata": {},
   "outputs": [
    {
     "data": {
      "text/latex": [
       "$\\displaystyle \\frac{2000 \\sqrt{3} \\sqrt{\\pi^{2}}}{27}$"
      ],
      "text/plain": [
       "2000*sqrt(3)*sqrt(pi**2)/27"
      ]
     },
     "execution_count": 50,
     "metadata": {},
     "output_type": "execute_result"
    }
   ],
   "source": [
    "V(radiomenor,altura)"
   ]
  },
  {
   "cell_type": "markdown",
   "id": "7533fa32",
   "metadata": {},
   "source": [
    "403 mililitros caben en el cono"
   ]
  },
  {
   "cell_type": "markdown",
   "id": "d1a937e1",
   "metadata": {},
   "source": [
    "## Correciones\n",
    "- ¿Qué error fue?\n",
    "Este problema es mucho de interpretación, en mi caso no se me había ocurrido irme por la longitud del arco y perímetro por lo que se me hizo dificil desarrollar el planteamiento del problema\n",
    "- ¿Cómo lo solucioné?\n",
    "Leyendo y analizando mucho mejor el problema, encontrando las ecuaciones correctas y que tuvieran sentido con el problema \n",
    "- ¿Qué puedo hacer para evitar este error en el futuro?\n",
    "Creo que me falto plantear en papel y en dibujo el problema para darme una idea de cómo hacer las cosas y que ruta podía tomar"
   ]
  },
  {
   "cell_type": "markdown",
   "id": "4eeff9c8",
   "metadata": {},
   "source": [
    "---\n",
    "# Segundo punto. Programación lineal (37 puntos)"
   ]
  },
  {
   "cell_type": "markdown",
   "id": "8013ca31",
   "metadata": {},
   "source": [
    "La compañía eléctrica de Saltadilla debe entregar 2000 megawatts hora (mwh) de electricidad cada hora. Una nueva ley para disminuir la contaminación entró en vigor y estipula que no se puede generar más de 1400 kgs de contaminantes por hora."
   ]
  },
  {
   "cell_type": "markdown",
   "id": "a62d4fa5",
   "metadata": {},
   "source": [
    "<table>\n",
    "  <tr>\n",
    "      <th>Método</th>\n",
    "      <th>Resultados</th>\n",
    "      <th>Costo/mwh</th>\n",
    "  </tr>\n",
    "  <tr>\n",
    "      <td>Usar solución actual</td>\n",
    "      <td>Contaminación = $\\frac{5 kgs}{mwh}$</td>\n",
    "      <td>$3.50$</td>\n",
    "  </tr>\n",
    "  <tr>\n",
    "      <td>Solución baja en azufre</td>\n",
    "      <td>Contaminación = $\\frac{0.6 kgs}{mwh}$</td>\n",
    "      <td>$5.00$</td>\n",
    "  </tr>\n",
    "  <tr>\n",
    "      <td>Agregar filtro al producir</td>\n",
    "      <td>Contaminación reducida por 90%</td>\n",
    "      <td>$0.80$</td>\n",
    "  </tr>\n",
    "\n",
    "  <tr>\n",
    "      <td> Importar energía </td>\n",
    "      <td> Sin contaminación </td>\n",
    "      <td> $4.00$ </td>\n",
    "  </tr>\n",
    "</table>"
   ]
  },
  {
   "cell_type": "markdown",
   "id": "a6d19182",
   "metadata": {},
   "source": [
    "La compañía debe decidir cómo generar la energía que debe proveer. La única ciudad que tiene excedente de energía para exportar es Ciudad Capital, y sólo puede exportar 200 mwh. ¿Qué debería hacer la compañía?"
   ]
  },
  {
   "cell_type": "markdown",
   "id": "df55a736",
   "metadata": {},
   "source": [
    "1. Escriba la función a **minimizar** junto con las restricciones, explicando detalladamente cada paso (usando fórmulas en $\\LaTeX$, en celdas Markdown). Además escriba el problema en la forma \\begin{equation}\n",
    "\\begin{array}{ll}\n",
    "\\min_{\\boldsymbol{x}} & \\boldsymbol{c}^T\\boldsymbol{x} \\\\\n",
    "\\text{s. a. }        & \\boldsymbol{A}_{eq}\\boldsymbol{x}=\\boldsymbol{b}_{eq} \\\\\n",
    "                     & \\boldsymbol{A}\\boldsymbol{x}\\leq\\boldsymbol{b},\n",
    "\\end{array}\\qquad\\text{(23 puntos)}\n",
    "\\end{equation}"
   ]
  },
  {
   "cell_type": "markdown",
   "id": "f6b87df3",
   "metadata": {},
   "source": [
    "x1= Usar solucion actual\n",
    "x2= Solucion baja en azufre\n",
    "x3= Solucion actual con filtro\n",
    "x4= Solucion baja en azufre con filtro\n",
    "x5= Importar energia"
   ]
  },
  {
   "cell_type": "markdown",
   "id": "04ce36d6",
   "metadata": {},
   "source": [
    "  min $f(x_i)= 3.50 x1 + 5 x2 + 4.3 x3 + 5.8 x4+ 4 x5 $"
   ]
  },
  {
   "cell_type": "markdown",
   "id": "f7c30c31",
   "metadata": {},
   "source": [
    "Restricciones\n",
    "\n",
    "$$x1+ x2+x3+x4 +x5=2000$$\n",
    "$$5 x1+ 0.6 x2 + 4.5 x3+ 0.54 x4 \\leq1400$$\n",
    "$$x5 \\leq 200$$"
   ]
  },
  {
   "cell_type": "markdown",
   "id": "6c1e3c9a",
   "metadata": {},
   "source": [
    "2. Resuelva el problema utilizando la función `linprog`. ¿Cómo debe ser la distribución de la energía? ¿Cuál fue el costo total?"
   ]
  },
  {
   "cell_type": "code",
   "execution_count": 1,
   "id": "d321188e",
   "metadata": {},
   "outputs": [
    {
     "data": {
      "text/plain": [
       "           con: array([0.])\n",
       " crossover_nit: 0\n",
       "         eqlin:  marginals: array([5.20454545])\n",
       "  residual: array([0.])\n",
       "           fun: 9690.90909090909\n",
       "       ineqlin:  marginals: array([-0.34090909, -1.20454545])\n",
       "  residual: array([0., 0.])\n",
       "         lower:  marginals: array([0.        , 0.        , 0.62954545, 0.77954545, 0.        ])\n",
       "  residual: array([  72.72727273, 1727.27272727,    0.        ,    0.        ,\n",
       "        200.        ])\n",
       "       message: 'Optimization terminated successfully. (HiGHS Status 7: Optimal)'\n",
       "           nit: 2\n",
       "         slack: array([0., 0.])\n",
       "        status: 0\n",
       "       success: True\n",
       "         upper:  marginals: array([0., 0., 0., 0., 0.])\n",
       "  residual: array([inf, inf, inf, inf, inf])\n",
       "             x: array([  72.72727273, 1727.27272727,    0.        ,    0.        ,\n",
       "        200.        ])"
      ]
     },
     "execution_count": 1,
     "metadata": {},
     "output_type": "execute_result"
    }
   ],
   "source": [
    "import numpy as np\n",
    "U= np.array([3.50,\n",
    "            5,\n",
    "            4.3,\n",
    "            5.8,\n",
    "            4])\n",
    "Aub= np.array([\n",
    "    [5,0.6,4.5,0.54,0],\n",
    "    [0,0,0,0,1]\n",
    "])\n",
    "bub= np.array([1400,\n",
    "              200])\n",
    "Aeq= np.array([\n",
    "    [1,1,1,1,1]])\n",
    "beq= np.array([2000])\n",
    "\n",
    "import scipy.optimize as opt\n",
    "opt.linprog(U,Aub,bub,Aeq, beq)"
   ]
  },
  {
   "cell_type": "markdown",
   "id": "d605b421",
   "metadata": {},
   "source": [
    "Se tienen que producir 73 mwh usando la solucion actual, 1727 mwh usando solucion baja en azufre y 200 importando energia"
   ]
  },
  {
   "cell_type": "markdown",
   "id": "8044e908",
   "metadata": {},
   "source": [
    "El costo total fue de:"
   ]
  },
  {
   "cell_type": "code",
   "execution_count": 3,
   "id": "f655e893",
   "metadata": {
    "scrolled": true
   },
   "outputs": [
    {
     "data": {
      "text/plain": [
       "9690.5"
      ]
     },
     "execution_count": 3,
     "metadata": {},
     "output_type": "execute_result"
    }
   ],
   "source": [
    "def f(x1,x2,x3,x4,x5):\n",
    "    return 3.50*x1+ 5*x2+ 4.3*x3+ 5.8*x4 +4*x5\n",
    "f(73,1727,0,0,200)"
   ]
  },
  {
   "cell_type": "markdown",
   "id": "98d5e0ab",
   "metadata": {},
   "source": [
    "El costo minimo es de 9690.5"
   ]
  },
  {
   "cell_type": "markdown",
   "id": "5663a48b",
   "metadata": {},
   "source": [
    "# Tercer punto. Ajuste de curvas (36 puntos)\n",
    "\n",
    "Utiliza el archivo adjunto en Canvas en el apartado que corresponde al examen."
   ]
  },
  {
   "cell_type": "markdown",
   "id": "c673e9e6",
   "metadata": {},
   "source": [
    "Pepito tiene una tableta que utiliza solamente para ver Netflix. Desde el momento que la enciende sólo reproduce Netflix hasta que la batería muere. Además, guarda un registro de cuánto tiempo carga la batería de su tableta y cuánto tiempo puede ver Netflix en ella hasta que se termina la batería.\n",
    "\n",
    "Pepito quiere saber cuánto tiempo podrá ver Netflix dependiendo de cuánto tiempo carga su batería."
   ]
  },
  {
   "cell_type": "markdown",
   "id": "da3c6c2e",
   "metadata": {},
   "source": [
    "1. Lee el archivo (es un archivo separado por comas guardado como `.txt`)"
   ]
  },
  {
   "cell_type": "code",
   "execution_count": 51,
   "id": "46fbbaf5",
   "metadata": {},
   "outputs": [
    {
     "data": {
      "text/html": [
       "<div>\n",
       "<style scoped>\n",
       "    .dataframe tbody tr th:only-of-type {\n",
       "        vertical-align: middle;\n",
       "    }\n",
       "\n",
       "    .dataframe tbody tr th {\n",
       "        vertical-align: top;\n",
       "    }\n",
       "\n",
       "    .dataframe thead th {\n",
       "        text-align: right;\n",
       "    }\n",
       "</style>\n",
       "<table border=\"1\" class=\"dataframe\">\n",
       "  <thead>\n",
       "    <tr style=\"text-align: right;\">\n",
       "      <th></th>\n",
       "      <th>carga</th>\n",
       "      <th>duracion</th>\n",
       "    </tr>\n",
       "  </thead>\n",
       "  <tbody>\n",
       "    <tr>\n",
       "      <th>0</th>\n",
       "      <td>2.81</td>\n",
       "      <td>5.62</td>\n",
       "    </tr>\n",
       "    <tr>\n",
       "      <th>1</th>\n",
       "      <td>7.14</td>\n",
       "      <td>8.00</td>\n",
       "    </tr>\n",
       "    <tr>\n",
       "      <th>2</th>\n",
       "      <td>2.72</td>\n",
       "      <td>5.44</td>\n",
       "    </tr>\n",
       "    <tr>\n",
       "      <th>3</th>\n",
       "      <td>3.87</td>\n",
       "      <td>7.74</td>\n",
       "    </tr>\n",
       "    <tr>\n",
       "      <th>4</th>\n",
       "      <td>1.90</td>\n",
       "      <td>3.80</td>\n",
       "    </tr>\n",
       "    <tr>\n",
       "      <th>...</th>\n",
       "      <td>...</td>\n",
       "      <td>...</td>\n",
       "    </tr>\n",
       "    <tr>\n",
       "      <th>95</th>\n",
       "      <td>4.38</td>\n",
       "      <td>8.00</td>\n",
       "    </tr>\n",
       "    <tr>\n",
       "      <th>96</th>\n",
       "      <td>8.06</td>\n",
       "      <td>8.00</td>\n",
       "    </tr>\n",
       "    <tr>\n",
       "      <th>97</th>\n",
       "      <td>8.05</td>\n",
       "      <td>8.00</td>\n",
       "    </tr>\n",
       "    <tr>\n",
       "      <th>98</th>\n",
       "      <td>1.10</td>\n",
       "      <td>2.20</td>\n",
       "    </tr>\n",
       "    <tr>\n",
       "      <th>99</th>\n",
       "      <td>6.65</td>\n",
       "      <td>8.00</td>\n",
       "    </tr>\n",
       "  </tbody>\n",
       "</table>\n",
       "<p>100 rows × 2 columns</p>\n",
       "</div>"
      ],
      "text/plain": [
       "    carga  duracion\n",
       "0    2.81      5.62\n",
       "1    7.14      8.00\n",
       "2    2.72      5.44\n",
       "3    3.87      7.74\n",
       "4    1.90      3.80\n",
       "..    ...       ...\n",
       "95   4.38      8.00\n",
       "96   8.06      8.00\n",
       "97   8.05      8.00\n",
       "98   1.10      2.20\n",
       "99   6.65      8.00\n",
       "\n",
       "[100 rows x 2 columns]"
      ]
     },
     "execution_count": 51,
     "metadata": {},
     "output_type": "execute_result"
    }
   ],
   "source": [
    "import pandas as pd\n",
    "\n",
    "data= pd.read_csv(\"bateria_tableta.txt\")\n",
    "data"
   ]
  },
  {
   "cell_type": "markdown",
   "id": "8714fbd7",
   "metadata": {},
   "source": [
    "2. Analiza los datos del archivo y anota cualquier información que creas que sea relevante. ¿Todos los datos son útiles? ¿Tienes que tratarlos de algún modo?"
   ]
  },
  {
   "cell_type": "markdown",
   "id": "40694d06",
   "metadata": {},
   "source": [
    "Vamos a ordenarlos de menor a mayor carga"
   ]
  },
  {
   "cell_type": "code",
   "execution_count": 52,
   "id": "bf3e43c0",
   "metadata": {},
   "outputs": [
    {
     "data": {
      "text/html": [
       "<div>\n",
       "<style scoped>\n",
       "    .dataframe tbody tr th:only-of-type {\n",
       "        vertical-align: middle;\n",
       "    }\n",
       "\n",
       "    .dataframe tbody tr th {\n",
       "        vertical-align: top;\n",
       "    }\n",
       "\n",
       "    .dataframe thead th {\n",
       "        text-align: right;\n",
       "    }\n",
       "</style>\n",
       "<table border=\"1\" class=\"dataframe\">\n",
       "  <thead>\n",
       "    <tr style=\"text-align: right;\">\n",
       "      <th></th>\n",
       "      <th>carga</th>\n",
       "      <th>duracion</th>\n",
       "    </tr>\n",
       "  </thead>\n",
       "  <tbody>\n",
       "    <tr>\n",
       "      <th>19</th>\n",
       "      <td>0.00</td>\n",
       "      <td>0.00</td>\n",
       "    </tr>\n",
       "    <tr>\n",
       "      <th>27</th>\n",
       "      <td>0.02</td>\n",
       "      <td>0.04</td>\n",
       "    </tr>\n",
       "    <tr>\n",
       "      <th>76</th>\n",
       "      <td>0.13</td>\n",
       "      <td>0.26</td>\n",
       "    </tr>\n",
       "    <tr>\n",
       "      <th>13</th>\n",
       "      <td>0.14</td>\n",
       "      <td>0.28</td>\n",
       "    </tr>\n",
       "    <tr>\n",
       "      <th>83</th>\n",
       "      <td>0.39</td>\n",
       "      <td>0.78</td>\n",
       "    </tr>\n",
       "    <tr>\n",
       "      <th>...</th>\n",
       "      <td>...</td>\n",
       "      <td>...</td>\n",
       "    </tr>\n",
       "    <tr>\n",
       "      <th>67</th>\n",
       "      <td>9.29</td>\n",
       "      <td>8.00</td>\n",
       "    </tr>\n",
       "    <tr>\n",
       "      <th>63</th>\n",
       "      <td>9.33</td>\n",
       "      <td>8.00</td>\n",
       "    </tr>\n",
       "    <tr>\n",
       "      <th>28</th>\n",
       "      <td>9.69</td>\n",
       "      <td>8.00</td>\n",
       "    </tr>\n",
       "    <tr>\n",
       "      <th>36</th>\n",
       "      <td>9.71</td>\n",
       "      <td>8.00</td>\n",
       "    </tr>\n",
       "    <tr>\n",
       "      <th>59</th>\n",
       "      <td>11.72</td>\n",
       "      <td>8.00</td>\n",
       "    </tr>\n",
       "  </tbody>\n",
       "</table>\n",
       "<p>100 rows × 2 columns</p>\n",
       "</div>"
      ],
      "text/plain": [
       "    carga  duracion\n",
       "19   0.00      0.00\n",
       "27   0.02      0.04\n",
       "76   0.13      0.26\n",
       "13   0.14      0.28\n",
       "83   0.39      0.78\n",
       "..    ...       ...\n",
       "67   9.29      8.00\n",
       "63   9.33      8.00\n",
       "28   9.69      8.00\n",
       "36   9.71      8.00\n",
       "59  11.72      8.00\n",
       "\n",
       "[100 rows x 2 columns]"
      ]
     },
     "execution_count": 52,
     "metadata": {},
     "output_type": "execute_result"
    }
   ],
   "source": [
    "data= data.sort_values(\"carga\")\n",
    "data"
   ]
  },
  {
   "cell_type": "code",
   "execution_count": 66,
   "id": "1af9dcbf",
   "metadata": {},
   "outputs": [
    {
     "data": {
      "text/html": [
       "<div>\n",
       "<style scoped>\n",
       "    .dataframe tbody tr th:only-of-type {\n",
       "        vertical-align: middle;\n",
       "    }\n",
       "\n",
       "    .dataframe tbody tr th {\n",
       "        vertical-align: top;\n",
       "    }\n",
       "\n",
       "    .dataframe thead th {\n",
       "        text-align: right;\n",
       "    }\n",
       "</style>\n",
       "<table border=\"1\" class=\"dataframe\">\n",
       "  <thead>\n",
       "    <tr style=\"text-align: right;\">\n",
       "      <th></th>\n",
       "      <th>carga</th>\n",
       "      <th>duracion</th>\n",
       "    </tr>\n",
       "  </thead>\n",
       "  <tbody>\n",
       "    <tr>\n",
       "      <th>19</th>\n",
       "      <td>0.00</td>\n",
       "      <td>0.00</td>\n",
       "    </tr>\n",
       "    <tr>\n",
       "      <th>27</th>\n",
       "      <td>0.02</td>\n",
       "      <td>0.04</td>\n",
       "    </tr>\n",
       "    <tr>\n",
       "      <th>76</th>\n",
       "      <td>0.13</td>\n",
       "      <td>0.26</td>\n",
       "    </tr>\n",
       "    <tr>\n",
       "      <th>13</th>\n",
       "      <td>0.14</td>\n",
       "      <td>0.28</td>\n",
       "    </tr>\n",
       "    <tr>\n",
       "      <th>83</th>\n",
       "      <td>0.39</td>\n",
       "      <td>0.78</td>\n",
       "    </tr>\n",
       "    <tr>\n",
       "      <th>16</th>\n",
       "      <td>0.80</td>\n",
       "      <td>1.60</td>\n",
       "    </tr>\n",
       "    <tr>\n",
       "      <th>98</th>\n",
       "      <td>1.10</td>\n",
       "      <td>2.20</td>\n",
       "    </tr>\n",
       "    <tr>\n",
       "      <th>37</th>\n",
       "      <td>1.11</td>\n",
       "      <td>2.22</td>\n",
       "    </tr>\n",
       "    <tr>\n",
       "      <th>43</th>\n",
       "      <td>1.14</td>\n",
       "      <td>2.28</td>\n",
       "    </tr>\n",
       "    <tr>\n",
       "      <th>52</th>\n",
       "      <td>1.26</td>\n",
       "      <td>2.52</td>\n",
       "    </tr>\n",
       "    <tr>\n",
       "      <th>68</th>\n",
       "      <td>1.27</td>\n",
       "      <td>2.54</td>\n",
       "    </tr>\n",
       "    <tr>\n",
       "      <th>77</th>\n",
       "      <td>1.44</td>\n",
       "      <td>2.88</td>\n",
       "    </tr>\n",
       "    <tr>\n",
       "      <th>66</th>\n",
       "      <td>1.58</td>\n",
       "      <td>3.16</td>\n",
       "    </tr>\n",
       "    <tr>\n",
       "      <th>86</th>\n",
       "      <td>1.58</td>\n",
       "      <td>3.16</td>\n",
       "    </tr>\n",
       "    <tr>\n",
       "      <th>57</th>\n",
       "      <td>1.66</td>\n",
       "      <td>3.32</td>\n",
       "    </tr>\n",
       "    <tr>\n",
       "      <th>48</th>\n",
       "      <td>1.75</td>\n",
       "      <td>3.50</td>\n",
       "    </tr>\n",
       "    <tr>\n",
       "      <th>25</th>\n",
       "      <td>1.76</td>\n",
       "      <td>3.52</td>\n",
       "    </tr>\n",
       "    <tr>\n",
       "      <th>20</th>\n",
       "      <td>1.78</td>\n",
       "      <td>3.56</td>\n",
       "    </tr>\n",
       "    <tr>\n",
       "      <th>64</th>\n",
       "      <td>1.83</td>\n",
       "      <td>3.66</td>\n",
       "    </tr>\n",
       "    <tr>\n",
       "      <th>40</th>\n",
       "      <td>1.83</td>\n",
       "      <td>3.66</td>\n",
       "    </tr>\n",
       "    <tr>\n",
       "      <th>74</th>\n",
       "      <td>1.85</td>\n",
       "      <td>3.70</td>\n",
       "    </tr>\n",
       "    <tr>\n",
       "      <th>80</th>\n",
       "      <td>1.89</td>\n",
       "      <td>3.78</td>\n",
       "    </tr>\n",
       "    <tr>\n",
       "      <th>4</th>\n",
       "      <td>1.90</td>\n",
       "      <td>3.80</td>\n",
       "    </tr>\n",
       "    <tr>\n",
       "      <th>81</th>\n",
       "      <td>1.98</td>\n",
       "      <td>3.96</td>\n",
       "    </tr>\n",
       "    <tr>\n",
       "      <th>56</th>\n",
       "      <td>1.98</td>\n",
       "      <td>3.96</td>\n",
       "    </tr>\n",
       "    <tr>\n",
       "      <th>85</th>\n",
       "      <td>1.99</td>\n",
       "      <td>3.98</td>\n",
       "    </tr>\n",
       "    <tr>\n",
       "      <th>14</th>\n",
       "      <td>2.00</td>\n",
       "      <td>4.00</td>\n",
       "    </tr>\n",
       "    <tr>\n",
       "      <th>58</th>\n",
       "      <td>2.04</td>\n",
       "      <td>4.08</td>\n",
       "    </tr>\n",
       "    <tr>\n",
       "      <th>33</th>\n",
       "      <td>2.06</td>\n",
       "      <td>4.12</td>\n",
       "    </tr>\n",
       "    <tr>\n",
       "      <th>65</th>\n",
       "      <td>2.15</td>\n",
       "      <td>4.30</td>\n",
       "    </tr>\n",
       "    <tr>\n",
       "      <th>49</th>\n",
       "      <td>2.16</td>\n",
       "      <td>4.32</td>\n",
       "    </tr>\n",
       "    <tr>\n",
       "      <th>35</th>\n",
       "      <td>2.24</td>\n",
       "      <td>4.48</td>\n",
       "    </tr>\n",
       "    <tr>\n",
       "      <th>39</th>\n",
       "      <td>2.33</td>\n",
       "      <td>4.66</td>\n",
       "    </tr>\n",
       "    <tr>\n",
       "      <th>90</th>\n",
       "      <td>2.58</td>\n",
       "      <td>5.16</td>\n",
       "    </tr>\n",
       "    <tr>\n",
       "      <th>2</th>\n",
       "      <td>2.72</td>\n",
       "      <td>5.44</td>\n",
       "    </tr>\n",
       "    <tr>\n",
       "      <th>0</th>\n",
       "      <td>2.81</td>\n",
       "      <td>5.62</td>\n",
       "    </tr>\n",
       "    <tr>\n",
       "      <th>79</th>\n",
       "      <td>3.42</td>\n",
       "      <td>6.84</td>\n",
       "    </tr>\n",
       "    <tr>\n",
       "      <th>21</th>\n",
       "      <td>3.45</td>\n",
       "      <td>6.90</td>\n",
       "    </tr>\n",
       "    <tr>\n",
       "      <th>71</th>\n",
       "      <td>3.47</td>\n",
       "      <td>6.94</td>\n",
       "    </tr>\n",
       "    <tr>\n",
       "      <th>23</th>\n",
       "      <td>3.53</td>\n",
       "      <td>7.06</td>\n",
       "    </tr>\n",
       "    <tr>\n",
       "      <th>94</th>\n",
       "      <td>3.65</td>\n",
       "      <td>7.30</td>\n",
       "    </tr>\n",
       "    <tr>\n",
       "      <th>62</th>\n",
       "      <td>3.77</td>\n",
       "      <td>7.54</td>\n",
       "    </tr>\n",
       "    <tr>\n",
       "      <th>3</th>\n",
       "      <td>3.87</td>\n",
       "      <td>7.74</td>\n",
       "    </tr>\n",
       "    <tr>\n",
       "      <th>93</th>\n",
       "      <td>3.97</td>\n",
       "      <td>7.94</td>\n",
       "    </tr>\n",
       "    <tr>\n",
       "      <th>53</th>\n",
       "      <td>3.97</td>\n",
       "      <td>7.94</td>\n",
       "    </tr>\n",
       "    <tr>\n",
       "      <th>87</th>\n",
       "      <td>3.99</td>\n",
       "      <td>7.98</td>\n",
       "    </tr>\n",
       "  </tbody>\n",
       "</table>\n",
       "</div>"
      ],
      "text/plain": [
       "    carga  duracion\n",
       "19   0.00      0.00\n",
       "27   0.02      0.04\n",
       "76   0.13      0.26\n",
       "13   0.14      0.28\n",
       "83   0.39      0.78\n",
       "16   0.80      1.60\n",
       "98   1.10      2.20\n",
       "37   1.11      2.22\n",
       "43   1.14      2.28\n",
       "52   1.26      2.52\n",
       "68   1.27      2.54\n",
       "77   1.44      2.88\n",
       "66   1.58      3.16\n",
       "86   1.58      3.16\n",
       "57   1.66      3.32\n",
       "48   1.75      3.50\n",
       "25   1.76      3.52\n",
       "20   1.78      3.56\n",
       "64   1.83      3.66\n",
       "40   1.83      3.66\n",
       "74   1.85      3.70\n",
       "80   1.89      3.78\n",
       "4    1.90      3.80\n",
       "81   1.98      3.96\n",
       "56   1.98      3.96\n",
       "85   1.99      3.98\n",
       "14   2.00      4.00\n",
       "58   2.04      4.08\n",
       "33   2.06      4.12\n",
       "65   2.15      4.30\n",
       "49   2.16      4.32\n",
       "35   2.24      4.48\n",
       "39   2.33      4.66\n",
       "90   2.58      5.16\n",
       "2    2.72      5.44\n",
       "0    2.81      5.62\n",
       "79   3.42      6.84\n",
       "21   3.45      6.90\n",
       "71   3.47      6.94\n",
       "23   3.53      7.06\n",
       "94   3.65      7.30\n",
       "62   3.77      7.54\n",
       "3    3.87      7.74\n",
       "93   3.97      7.94\n",
       "53   3.97      7.94\n",
       "87   3.99      7.98"
      ]
     },
     "execution_count": 66,
     "metadata": {},
     "output_type": "execute_result"
    }
   ],
   "source": [
    "data2= data[(data['carga'] < 4)]\n",
    "data2"
   ]
  },
  {
   "cell_type": "markdown",
   "id": "59862478",
   "metadata": {},
   "source": [
    "3. Ajusta los datos con polinomio de grado 1, 2 y 3."
   ]
  },
  {
   "cell_type": "code",
   "execution_count": 67,
   "id": "27387213",
   "metadata": {},
   "outputs": [],
   "source": [
    "m1=len(data2)\n",
    "xn1= data2[\"carga\"]\n",
    "yn1= data2[\"duracion\"]"
   ]
  },
  {
   "cell_type": "code",
   "execution_count": 68,
   "id": "f4097aa4",
   "metadata": {},
   "outputs": [
    {
     "data": {
      "text/plain": [
       "<matplotlib.collections.PathCollection at 0x1ab40e84c70>"
      ]
     },
     "execution_count": 68,
     "metadata": {},
     "output_type": "execute_result"
    },
    {
     "data": {
      "image/png": "[encoded data removed]",
      "text/plain": [
       "<Figure size 640x480 with 1 Axes>"
      ]
     },
     "metadata": {},
     "output_type": "display_data"
    }
   ],
   "source": [
    "import matplotlib.pyplot as plt\n",
    "plt.scatter(xn1,yn1)"
   ]
  },
  {
   "cell_type": "code",
   "execution_count": 69,
   "id": "a8cfef44",
   "metadata": {},
   "outputs": [],
   "source": [
    "def funcion_de_costo(beta, X, y):\n",
    "    r,c= X.shape\n",
    "    beta= np.reshape(beta,[c,1])\n",
    "    y_pred= X @ beta\n",
    "    error= y_pred-y\n",
    "    return (error.T @ error)[0][0]"
   ]
  },
  {
   "cell_type": "markdown",
   "id": "fc0617cd",
   "metadata": {},
   "source": [
    "Polinomio de grado 1"
   ]
  },
  {
   "cell_type": "code",
   "execution_count": 70,
   "id": "279caa2d",
   "metadata": {},
   "outputs": [],
   "source": [
    "ones= np.ones([m1,1])\n",
    "#Acomoda el xn en un vector de m renglones y 1 columna\n",
    "x_factor= np.reshape(xn1.values,[m1,1])\n",
    "X= np.hstack((ones,x_factor))\n",
    "y_vector= np.reshape(yn1.values,[m1,1])"
   ]
  },
  {
   "cell_type": "code",
   "execution_count": 72,
   "id": "d112746b",
   "metadata": {},
   "outputs": [
    {
     "data": {
      "text/plain": [
       "      fun: 2.6571974051743247e-14\n",
       " hess_inv: array([[ 0.04932217, -0.01874942],\n",
       "       [-0.01874942,  0.00914218]])\n",
       "      jac: array([2.13795412e-13, 8.17562203e-13])\n",
       "  message: 'Optimization terminated successfully.'\n",
       "     nfev: 24\n",
       "      nit: 7\n",
       "     njev: 8\n",
       "   status: 0\n",
       "  success: True\n",
       "        x: array([3.55278439e-08, 1.99999998e+00])"
      ]
     },
     "execution_count": 72,
     "metadata": {},
     "output_type": "execute_result"
    }
   ],
   "source": [
    "beta= [1,1]\n",
    "import scipy.optimize as opt\n",
    "opt.minimize(funcion_de_costo, beta, args=(X, y_vector))"
   ]
  },
  {
   "cell_type": "markdown",
   "id": "26a15da0",
   "metadata": {},
   "source": [
    "Polinomio de grado 2"
   ]
  },
  {
   "cell_type": "code",
   "execution_count": 73,
   "id": "609825f6",
   "metadata": {},
   "outputs": [],
   "source": [
    "ones= np.ones([m1,1])\n",
    "#Acomoda el xn en un vector de m renglones y 1 columna\n",
    "x_factor= np.reshape(xn1.values,[m1,1])\n",
    "x2_factor= np.reshape(xn1.values**2,[m1,1])\n",
    "X= np.hstack((ones,x_factor,x2_factor))\n",
    "y_vector= np.reshape(yn1.values,[m1,1])"
   ]
  },
  {
   "cell_type": "code",
   "execution_count": 74,
   "id": "535e152c",
   "metadata": {
    "scrolled": true
   },
   "outputs": [
    {
     "data": {
      "text/plain": [
       "      fun: 1.4210915008658507e-11\n",
       " hess_inv: array([[ 0.10845663, -0.09445425,  0.01783324],\n",
       "       [-0.09445425,  0.10619874, -0.02287746],\n",
       "       [ 0.01783324, -0.02287746,  0.00539403]])\n",
       "      jac: array([-8.89107126e-06,  3.91029024e-06,  1.68548436e-06])\n",
       "  message: 'Optimization terminated successfully.'\n",
       "     nfev: 44\n",
       "      nit: 8\n",
       "     njev: 11\n",
       "   status: 0\n",
       "  success: True\n",
       "        x: array([-1.65185537e-06,  2.00000169e+00, -3.57205525e-07])"
      ]
     },
     "execution_count": 74,
     "metadata": {},
     "output_type": "execute_result"
    }
   ],
   "source": [
    "beta= [1,1,1]\n",
    "opt.minimize(funcion_de_costo, beta, args=(X, y_vector))"
   ]
  },
  {
   "cell_type": "markdown",
   "id": "945640fd",
   "metadata": {},
   "source": [
    "Polinomio de grado 3"
   ]
  },
  {
   "cell_type": "code",
   "execution_count": 75,
   "id": "2df2f4be",
   "metadata": {},
   "outputs": [],
   "source": [
    "ones= np.ones([m1,1])\n",
    "#Acomoda el xn en un vector de m renglones y 1 columna\n",
    "x_factor= np.reshape(xn1.values,[m1,1])\n",
    "x2_factor= np.reshape(xn1.values**2,[m1,1])\n",
    "x3_factor= np.reshape(xn1.values**3,[m1,1])\n",
    "X= np.hstack((ones,x_factor,x2_factor,x3_factor))\n",
    "y_vector= np.reshape(yn1.values,[m1,1])"
   ]
  },
  {
   "cell_type": "code",
   "execution_count": 76,
   "id": "9ad6d234",
   "metadata": {},
   "outputs": [
    {
     "data": {
      "text/plain": [
       "      fun: 2.6892261441852326e-10\n",
       " hess_inv: array([[ 0.1366463 , -0.22239235,  0.10587256, -0.01496056],\n",
       "       [-0.22239235,  0.66936733, -0.40811876,  0.06530595],\n",
       "       [ 0.10587256, -0.40811876,  0.26860966, -0.04459849],\n",
       "       [-0.01496056,  0.06530595, -0.04459849,  0.00755513]])\n",
       "      jac: array([4.83193834e-07, 1.28723051e-06, 4.48593426e-06, 1.62872278e-05])\n",
       "  message: 'Desired error not necessarily achieved due to precision loss.'\n",
       "     nfev: 272\n",
       "      nit: 8\n",
       "     njev: 52\n",
       "   status: 2\n",
       "  success: False\n",
       "        x: array([ 3.73237465e-06,  1.99998285e+00,  1.18914991e-05, -2.03212304e-06])"
      ]
     },
     "execution_count": 76,
     "metadata": {},
     "output_type": "execute_result"
    }
   ],
   "source": [
    "beta= [1,1,1,1]\n",
    "opt.minimize(funcion_de_costo, beta, args=(X, y_vector))"
   ]
  },
  {
   "cell_type": "code",
   "execution_count": 82,
   "id": "c2a30a6d",
   "metadata": {
    "scrolled": true
   },
   "outputs": [
    {
     "data": {
      "text/plain": [
       "<matplotlib.legend.Legend at 0x1ab4292b6a0>"
      ]
     },
     "execution_count": 82,
     "metadata": {},
     "output_type": "execute_result"
    },
    {
     "data": {
      "image/png": "[encoded data removed]",
      "text/plain": [
       "<Figure size 640x480 with 1 Axes>"
      ]
     },
     "metadata": {},
     "output_type": "display_data"
    }
   ],
   "source": [
    "plt.figure()\n",
    "plt. scatter(xn1,yn1)\n",
    "plt.plot(xn1, 0.00000003552+ 2*xn1, label=\"Polinomio1\")\n",
    "plt.plot(xn1, -0.00000165 +  2*xn1 - 0.0000003572* xn1**2, label= \"Polinomio2\")\n",
    "plt.plot(xn1, 0.0000037 + 2*xn1 + 0.000011* xn1**2- 0.00000203* xn1**3, label= \"Polinomio3\")\n",
    "plt.grid()\n",
    "plt.legend()"
   ]
  },
  {
   "cell_type": "markdown",
   "id": "6578241a",
   "metadata": {},
   "source": [
    "Estas son las 3 curvas de grado 1,2 y 3 que mejor se ajustan a los datos"
   ]
  },
  {
   "cell_type": "markdown",
   "id": "238f342a",
   "metadata": {},
   "source": [
    "4. Grafica los errores de tus tres modelos."
   ]
  },
  {
   "cell_type": "code",
   "execution_count": 83,
   "id": "82706e4e",
   "metadata": {},
   "outputs": [
    {
     "data": {
      "text/plain": [
       "<BarContainer object of 3 artists>"
      ]
     },
     "execution_count": 83,
     "metadata": {},
     "output_type": "execute_result"
    },
    {
     "data": {
      "image/png": "[encoded data removed]",
      "text/plain": [
       "<Figure size 640x480 with 1 Axes>"
      ]
     },
     "metadata": {},
     "output_type": "display_data"
    }
   ],
   "source": [
    "no_terminos=[1,2,3]\n",
    "error=[2.6571974051743247e-14,1.4210915008658507e-11,2.6892261441852326e-10]\n",
    "\n",
    "plt.figure()\n",
    "plt.bar(no_terminos,error)"
   ]
  },
  {
   "cell_type": "markdown",
   "id": "fa4f9cc7",
   "metadata": {},
   "source": [
    "    Con un polimonio de grado 3 el error es mas grande a comparacion de polinomios de grado 1 y 2. El que mejor se ajusta a los datos es el polinomio de grado 1"
   ]
  },
  {
   "cell_type": "markdown",
   "id": "fc4f6c0d",
   "metadata": {},
   "source": [
    "5. Crea una función que regrese un valor real de la duración de la batería a partir de la entrada de cuánto tiempo se cargó la tableta.\n",
    "\n",
    "`def nombre_de_funcion(tiempo) : etc`"
   ]
  },
  {
   "cell_type": "code",
   "execution_count": 109,
   "id": "b6a11009",
   "metadata": {},
   "outputs": [],
   "source": [
    "def f(x) :\n",
    "    if x<=4 and x>=0:\n",
    "        return  0.00000003552+ 2*x\n",
    "    else: \n",
    "        if x<=0:\n",
    "            return 0\n",
    "        else:\n",
    "            return 8\n"
   ]
  },
  {
   "cell_type": "markdown",
   "id": "4af77457",
   "metadata": {},
   "source": [
    "6. ¿Cuánto tiempo podrá ver Netflix si se carga la tableta por 18 horas?"
   ]
  },
  {
   "cell_type": "code",
   "execution_count": 113,
   "id": "33199284",
   "metadata": {},
   "outputs": [
    {
     "data": {
      "text/plain": [
       "8"
      ]
     },
     "execution_count": 113,
     "metadata": {},
     "output_type": "execute_result"
    }
   ],
   "source": [
    "f(18)"
   ]
  },
  {
   "cell_type": "markdown",
   "id": "cb2e2847",
   "metadata": {},
   "source": [
    "Si la tableta se carga por 18 horas la duración permanecerá constante en 8 horas"
   ]
  },
  {
   "cell_type": "markdown",
   "id": "7f1d9822",
   "metadata": {},
   "source": [
    "## Correciones\n",
    "- ¿Qué error fue?\n",
    "Lo que sucedió fue que no realicé una limpieza correcta de los datos ya que analizando el problema podemos observar que los datos de las cargas arriba de 4 horas eran irrelevantes ya que se volvía una constante\n",
    "- ¿Cómo lo solucioné?\n",
    "Filtrando los datos y eliminando todo lo de arriba de 4 horas de carga para ahora si poder hacer la regresión y definitivamente los polinomios se ajustaron mucho mejor\n",
    "- ¿Qué puedo hacer para evitar este error en el futuro?\n",
    "Analizar un poco mejor la información y no hacer por automático los pasos sin anter revisar si los datos son funcionales en mi problema o no"
   ]
  }
 ],
 "metadata": {
  "kernelspec": {
   "display_name": "Python 3 (ipykernel)",
   "language": "python",
   "name": "python3"
  },
  "language_info": {
   "codemirror_mode": {
    "name": "ipython",
    "version": 3
   },
   "file_extension": ".py",
   "mimetype": "text/x-python",
   "name": "python",
   "nbconvert_exporter": "python",
   "pygments_lexer": "ipython3",
   "version": "3.12.4"
  }
 },
 "nbformat": 4,
 "nbformat_minor": 5
}
