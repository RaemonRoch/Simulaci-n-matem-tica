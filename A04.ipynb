{
 "cells": [
  {
   "cell_type": "markdown",
   "id": "d17ecc53-e30b-46ba-bf5b-901e7c159bd5",
   "metadata": {},
   "source": [
    "# Juan Ramón López Rocha #"
   ]
  },
  {
   "cell_type": "markdown",
   "id": "0ba866b7-3e5b-4e4a-8313-436a2fb044bd",
   "metadata": {},
   "source": [
    "# 29 de agosto #"
   ]
  },
  {
   "cell_type": "markdown",
   "id": "8fc9ccc0-49c4-4112-b0d5-3c0b2901bb11",
   "metadata": {},
   "source": [
    "### 1. Utiliza sympy y encuentra los valores de las incógnitas que hagan que los siguientes sistemas de ecuaciones sean verdaderos: ###"
   ]
  },
  {
   "cell_type": "markdown",
   "id": "32bf9e96-8f64-4bde-a5b1-3574bb38cdc7",
   "metadata": {},
   "source": [
    "$$ x + y = 10 $$\n",
    "$$ x - y = 2 $$"
   ]
  },
  {
   "cell_type": "code",
   "execution_count": 13,
   "id": "0f9de45f-8d12-4135-98c1-d794bdd48f6f",
   "metadata": {},
   "outputs": [
    {
     "data": {
      "text/plain": [
       "(6, 4)"
      ]
     },
     "execution_count": 13,
     "metadata": {},
     "output_type": "execute_result"
    }
   ],
   "source": [
    "import sympy as sp\n",
    "x = sp.var(\"x\")\n",
    "y = sp.var(\"y\")\n",
    "\n",
    "e1 = x + y - 10\n",
    "e2 = x - y - 2\n",
    "xe1 = sp.solve(e1,x)[0]\n",
    "xe1\n",
    "ye1 = e2.subs(x,xe1)\n",
    "ysol = sp.solve(ye1,y)[0]\n",
    "xsol = xe1.subs(y,ysol)\n",
    "xsol, ysol"
   ]
  },
  {
   "cell_type": "markdown",
   "id": "4584a3d4-7146-465c-8d6c-f5e1e760187c",
   "metadata": {},
   "source": [
    "$$ \\frac{3x-2y}{3} + 4y = \\frac{13}{3} $$\n",
    "$$ \\frac{2(-2y+x)}{3} - \\frac{3x}{2} = -\\frac{13}{6}  $$"
   ]
  },
  {
   "cell_type": "code",
   "execution_count": 17,
   "id": "cac78484-fae3-4c34-83e6-d91b1490a1a6",
   "metadata": {},
   "outputs": [
    {
     "data": {
      "text/plain": [
       "(1.00000000000000, 1.00000000000000)"
      ]
     },
     "execution_count": 17,
     "metadata": {},
     "output_type": "execute_result"
    }
   ],
   "source": [
    "import sympy as sp\n",
    "x = sp.var(\"x\")\n",
    "y = sp.var(\"y\")\n",
    "\n",
    "e1 = ((3*x - 2*y)/3) + 4*y - (13/3)\n",
    "e2 = ((2*(-2*y + x))/3) - (3*x/2) + (13/6)\n",
    "xe1 = sp.solve(e1,x)[0]\n",
    "xe1\n",
    "ye1 = e2.subs(x,xe1)\n",
    "ysol = sp.solve(ye1,y)[0]\n",
    "xsol = xe1.subs(y,ysol)\n",
    "xsol, ysol"
   ]
  },
  {
   "cell_type": "markdown",
   "id": "9b25ba88-f8a7-450a-a0cb-f9b0c7f8a8e4",
   "metadata": {},
   "source": [
    "$$ x^2 - 2y = 16 $$\n",
    "$$ x - y = 3 $$"
   ]
  },
  {
   "cell_type": "code",
   "execution_count": 44,
   "id": "85c976de-bd17-478d-8092-210ccf923634",
   "metadata": {},
   "outputs": [
    {
     "data": {
      "text/plain": [
       "[-sqrt(2*y + 16), sqrt(2*y + 16)]"
      ]
     },
     "execution_count": 44,
     "metadata": {},
     "output_type": "execute_result"
    }
   ],
   "source": [
    "import sympy as sp\n",
    "x = sp.var(\"x\")\n",
    "y = sp.var(\"y\")\n",
    "\n",
    "e1 = x**2 - 2*y - 16\n",
    "e2 = x - y - 3\n",
    "xe1 = sp.solve(e1,x)\n",
    "xe1"
   ]
  },
  {
   "cell_type": "code",
   "execution_count": 48,
   "id": "2286711d-659f-4c0b-be15-c77cb6649f4f",
   "metadata": {},
   "outputs": [
    {
     "data": {
      "text/plain": [
       "(-sqrt(12 - 2*sqrt(11)), -sqrt(11) - 2)"
      ]
     },
     "execution_count": 48,
     "metadata": {},
     "output_type": "execute_result"
    }
   ],
   "source": [
    "xe1 = sp.solve(e1,x)[0]\n",
    "ye1 = e2.subs(x,xe1)\n",
    "ysol = sp.solve(ye1,y)[0]\n",
    "xsol = xe1.subs(y,ysol)\n",
    "xsol, ysol"
   ]
  },
  {
   "cell_type": "code",
   "execution_count": 46,
   "id": "9e923135-3c3f-4bfd-bd11-81d61ac32fe8",
   "metadata": {},
   "outputs": [
    {
     "data": {
      "text/plain": [
       "(sqrt(2*sqrt(11) + 12), -2 + sqrt(11))"
      ]
     },
     "execution_count": 46,
     "metadata": {},
     "output_type": "execute_result"
    }
   ],
   "source": [
    "xe1 = sp.solve(e1,x)[1]\n",
    "ye1 = e2.subs(x,xe1)\n",
    "ysol = sp.solve(ye1,y)[0]\n",
    "xsol = xe1.subs(y,ysol)\n",
    "xsol, ysol"
   ]
  },
  {
   "cell_type": "markdown",
   "id": "6e91f789-cd50-4966-91e4-e033c1da7a18",
   "metadata": {},
   "source": [
    "$$ x + y - z = 10 $$\n",
    "$$ x - y = 2 $$\n",
    "$$ y + z = -2 $$"
   ]
  },
  {
   "cell_type": "code",
   "execution_count": 92,
   "id": "ea0323c8-b3a0-4b0d-a24f-f3e381509251",
   "metadata": {},
   "outputs": [
    {
     "data": {
      "text/plain": [
       "(4, 2, -4)"
      ]
     },
     "execution_count": 92,
     "metadata": {},
     "output_type": "execute_result"
    }
   ],
   "source": [
    "x = sp.var(\"x\")\n",
    "y = sp.var(\"y\")\n",
    "z = sp.var(\"z\")\n",
    "\n",
    "e1 = x + y - z - 10\n",
    "e2 = x - y - 2\n",
    "e3 = y + z + 2\n",
    "xe1 = sp.solve(e2,x)[0]\n",
    "xe1\n",
    "ze1 = sp.solve(e3,z)[0]\n",
    "xe1, ze1\n",
    "ye1 = e1.subs(x,xe1).subs(z,ze1)\n",
    "ye1\n",
    "ysol = sp.solve(ye1,y)[0]\n",
    "ysol\n",
    "ze2 = e3.subs(y,ysol)\n",
    "zsol = sp.solve(ze2,z)[0]\n",
    "zsol\n",
    "xe2 = e2.subs(y,ysol)\n",
    "xsol = sp.solve(xe2,x)[0]\n",
    "xsol,ysol,zsol"
   ]
  },
  {
   "cell_type": "markdown",
   "id": "e2207873-09b5-44a3-8a1f-07ddf8e7b07e",
   "metadata": {},
   "source": [
    "### 2.Encuentra los puntos críticos usando cálculo diferencial, decide si son máximos o mínimos usando el criterio de la segunda derivada, y grafica para decidir se son óptimos locales o globales: ###"
   ]
  },
  {
   "cell_type": "markdown",
   "id": "27207740-61f4-460c-bd87-745849e2fc49",
   "metadata": {},
   "source": [
    "$$ 1235 + 113x - 6x^2 $$"
   ]
  },
  {
   "cell_type": "code",
   "execution_count": 98,
   "id": "d8c08771-69fb-4f6a-a6ec-5624d1813157",
   "metadata": {},
   "outputs": [
    {
     "data": {
      "text/plain": [
       "[<matplotlib.lines.Line2D at 0x23f9048fdd0>]"
      ]
     },
     "execution_count": 98,
     "metadata": {},
     "output_type": "execute_result"
    },
    {
     "data": {
      "image/png": "[encoded data removed]",
      "text/plain": [
       "<Figure size 640x480 with 1 Axes>"
      ]
     },
     "metadata": {},
     "output_type": "display_data"
    }
   ],
   "source": [
    "import sympy as sp\n",
    "x= sp.var(\"x\")\n",
    "def f(x):\n",
    "    return 1235+113*x-6*x**2\n",
    "f(x)\n",
    "dx= sp.diff(f(x),x)\n",
    "dx\n",
    "pc= sp.solve(dx,x)[0]\n",
    "pc\n",
    "valor_optimo= f(x).subs(x,pc)\n",
    "valor_optimo\n",
    "import matplotlib.pyplot as plt\n",
    "import numpy as np\n",
    "plt.figure()\n",
    "xn= np.linspace(0,12,100)\n",
    "yn=f(xn)\n",
    "plt.plot(xn,yn)\n",
    "plt.plot(pc,valor_optimo, \"*r\", ms=10)"
   ]
  },
  {
   "cell_type": "code",
   "execution_count": null,
   "id": "e7a76409-f4b6-4bdb-a387-d91350e0ba39",
   "metadata": {},
   "outputs": [],
   "source": []
  }
 ],
 "metadata": {
  "kernelspec": {
   "display_name": "Python 3 (ipykernel)",
   "language": "python",
   "name": "python3"
  },
  "language_info": {
   "codemirror_mode": {
    "name": "ipython",
    "version": 3
   },
   "file_extension": ".py",
   "mimetype": "text/x-python",
   "name": "python",
   "nbconvert_exporter": "python",
   "pygments_lexer": "ipython3",
   "version": "3.12.4"
  }
 },
 "nbformat": 4,
 "nbformat_minor": 5
}
