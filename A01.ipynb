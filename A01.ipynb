{
 "cells": [
  {
   "cell_type": "markdown",
   "id": "469aacc0-b6d3-46eb-87d4-5442b2b7038c",
   "metadata": {},
   "source": [
    "#### Juan Ramón López Rocha ####\n",
    "#### 19 de Agosto de 2024 ####"
   ]
  },
  {
   "cell_type": "markdown",
   "id": "1498d71c-455b-4fd7-9004-dc113a3a4526",
   "metadata": {},
   "source": [
    "# A01 - Phyton #"
   ]
  },
  {
   "cell_type": "code",
   "execution_count": 24,
   "id": "e9e074db-48fa-450d-83a5-b4e265b92c0d",
   "metadata": {},
   "outputs": [
    {
     "name": "stdout",
     "output_type": "stream",
     "text": [
      "El factorial de 5 es 120\n"
     ]
    }
   ],
   "source": [
    "a = 5\n",
    "factorial = 1\n",
    "\n",
    "for i in range(1, a + 1):\n",
    "    factorial *= i\n",
    "\n",
    "print(f\"El factorial de {a} es {factorial}\")"
   ]
  },
  {
   "cell_type": "code",
   "execution_count": 23,
   "id": "6bf0b564-6628-49bc-b3e1-b6d695ed1283",
   "metadata": {},
   "outputs": [
    {
     "name": "stdout",
     "output_type": "stream",
     "text": [
      "7 es un número primo.\n"
     ]
    }
   ],
   "source": [
    "a = 7\n",
    "\n",
    "if a > 1:\n",
    "    primo = True\n",
    "    for i in range(2, a):\n",
    "        if a % i == 0:\n",
    "            primo = False\n",
    "            break\n",
    "    if primo:\n",
    "        print(f\"{a} es un número primo.\")\n",
    "    else:\n",
    "        print(f\"{a} no es un número primo.\")\n",
    "else:\n",
    "    print(f\"{a} no es un número primo.\")"
   ]
  }
 ],
 "metadata": {
  "kernelspec": {
   "display_name": "Python 3 (ipykernel)",
   "language": "python",
   "name": "python3"
  },
  "language_info": {
   "codemirror_mode": {
    "name": "ipython",
    "version": 3
   },
   "file_extension": ".py",
   "mimetype": "text/x-python",
   "name": "python",
   "nbconvert_exporter": "python",
   "pygments_lexer": "ipython3",
   "version": "3.12.4"
  }
 },
 "nbformat": 4,
 "nbformat_minor": 5
}
