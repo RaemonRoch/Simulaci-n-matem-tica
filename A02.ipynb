{
 "cells": [
  {
   "cell_type": "code",
   "execution_count": 36,
   "id": "cbdf28d0-d907-444a-a334-e3aa24d61fba",
   "metadata": {},
   "outputs": [
    {
     "ename": "SyntaxError",
     "evalue": "invalid syntax (3667933044.py, line 2)",
     "output_type": "error",
     "traceback": [
      "\u001b[1;36m  Cell \u001b[1;32mIn[36], line 2\u001b[1;36m\u001b[0m\n\u001b[1;33m    elif a == 2:\u001b[0m\n\u001b[1;37m    ^\u001b[0m\n\u001b[1;31mSyntaxError\u001b[0m\u001b[1;31m:\u001b[0m invalid syntax\n"
     ]
    }
   ],
   "source": [
    "def primo(a):\n",
    "    if a >= 1\n",
    "        return     elif a == 2:\n",
    "        return False\n",
    "    else: \n",
    "        for i in range(2, a):\n",
    "            print(i)\n",
    "            if a % i == 0:\n",
    "                return True\n",
    "            return False\n",
    "a = 12\n",
    "if primo(a):\n",
    "    print(f\"{a} es un número primo.\")\n",
    "else :\n",
    "    print(f\"{a} no es un número primo.\")"
   ]
  },
  {
   "cell_type": "code",
   "execution_count": 26,
   "id": "8ac134ca-223c-4a67-8e70-453ba70c7e5d",
   "metadata": {},
   "outputs": [
    {
     "name": "stdout",
     "output_type": "stream",
     "text": [
      "24\n",
      "5040\n",
      "120\n",
      "40320\n",
      "362880\n",
      "6\n"
     ]
    }
   ],
   "source": [
    "lista = [4,7,5,8,9,3]\n",
    "\n",
    "def factorial(a):\n",
    "    i = 1\n",
    "    res = 1 \n",
    "    while i <= a:\n",
    "        res = res * i\n",
    "        i += 1\n",
    "    return res \n",
    "\n",
    "for i in lista:\n",
    "    print (factorial(i))\n"
   ]
  },
  {
   "cell_type": "code",
   "execution_count": null,
   "id": "9c996cdf-4a68-41db-a601-2a47210cf8cb",
   "metadata": {},
   "outputs": [],
   "source": []
  }
 ],
 "metadata": {
  "kernelspec": {
   "display_name": "Python 3 (ipykernel)",
   "language": "python",
   "name": "python3"
  },
  "language_info": {
   "codemirror_mode": {
    "name": "ipython",
    "version": 3
   },
   "file_extension": ".py",
   "mimetype": "text/x-python",
   "name": "python",
   "nbconvert_exporter": "python",
   "pygments_lexer": "ipython3",
   "version": "3.12.4"
  }
 },
 "nbformat": 4,
 "nbformat_minor": 5
}
