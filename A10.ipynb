{
 "cells": [
  {
   "cell_type": "markdown",
   "id": "45e71ba1-b5b4-4dcd-883f-0f01ea3e07b3",
   "metadata": {},
   "source": [
    "#### Juan Ramón López Rocha ####\n",
    "#### 17 de Octubre de 2024 ####"
   ]
  },
  {
   "cell_type": "markdown",
   "id": "91ba9601-f41b-46a7-a9d6-88154e4c3e47",
   "metadata": {},
   "source": [
    "1.- Menciona tres ejemplos de variables aleatorias discretas:"
   ]
  },
  {
   "cell_type": "markdown",
   "id": "dc3a8858-c120-4672-a6be-f964f3ebf0cb",
   "metadata": {},
   "source": [
    "* Cantidad de árboles en un bosque\n",
    "* Puntos anotados en un partido de Basquet\n",
    "* Cantidad de personas que visitan una tienda"
   ]
  },
  {
   "cell_type": "markdown",
   "id": "7b45c3c0-d5c4-4dc3-84c6-6a74995e867a",
   "metadata": {},
   "source": [
    "2.- Menciona tres ejemplos de variables aleatorias continuas:"
   ]
  },
  {
   "cell_type": "markdown",
   "id": "00bcd6e6-c68b-4b27-9f73-c8f1959c3b03",
   "metadata": {},
   "source": [
    "* Peso de una fruta\n",
    "* Tiempo de hervir un litro de agua\n",
    "* Distancia recorrida con el tanque lleno"
   ]
  },
  {
   "cell_type": "markdown",
   "id": "88db27f5-b2c4-4957-877e-5154cccefa9c",
   "metadata": {},
   "source": [
    "Dos equipos juegan una serie de juegos (4 de 7, el que gane 4 juegos gana). Cada equipo tiene un 50% de probabilidad de ganar cada juego (no empates). ¿Cuál es la probabilidad de que la serie se vaya a 7 juegos? (5/16)"
   ]
  },
  {
   "cell_type": "code",
   "execution_count": 45,
   "id": "e9711f7a-645f-4dfb-a342-4d2befe0224d",
   "metadata": {},
   "outputs": [
    {
     "data": {
      "text/plain": [
       "0.3172"
      ]
     },
     "execution_count": 45,
     "metadata": {},
     "output_type": "execute_result"
    }
   ],
   "source": [
    "import numpy as np\n",
    "n = 10000\n",
    "\n",
    "games = np.random.randint(1, 3, (n,6))\n",
    "\n",
    "VictoriaA = np.sum(games == 1, axis=1)  \n",
    "VictoriaB = np.sum(games == 2, axis=1)  \n",
    "Juego7 = (VictoriaA == 3) & (VictoriaB == 3)\n",
    "ProbJuego7 = Juego7.sum() /n\n",
    "ProbJuego7"
   ]
  },
  {
   "cell_type": "code",
   "execution_count": 6,
   "id": "dda2486c-66a6-4dbb-bbf9-ad5703c8d8a5",
   "metadata": {},
   "outputs": [
    {
     "data": {
      "text/plain": [
       "0.3125"
      ]
     },
     "execution_count": 6,
     "metadata": {},
     "output_type": "execute_result"
    }
   ],
   "source": [
    "5/16"
   ]
  },
  {
   "cell_type": "markdown",
   "id": "7ab8145e-0df0-4c2f-af96-3a388955aab2",
   "metadata": {},
   "source": [
    "Una en mil personas tienen una enfermedad H, y la prueba de la enfermedad sale correcta 98% de las veces cuando la persona está enferma. Por otro lado, si la persona está enferma la prueba tiene un error del 1%. Si alguien se hace una prueba y sale positiva, ¿cuál es la probabilidad de que tengan la enfermedad? (98/1097)"
   ]
  },
  {
   "cell_type": "code",
   "execution_count": 42,
   "id": "1dd13937-3fc1-4c7b-82f6-f5d5bfa0f259",
   "metadata": {},
   "outputs": [
    {
     "data": {
      "text/plain": [
       "0.08971673194279989"
      ]
     },
     "execution_count": 42,
     "metadata": {},
     "output_type": "execute_result"
    }
   ],
   "source": [
    "import numpy as np\n",
    "n = 1000000\n",
    "personas = np.random.choice([0,1], n,  p = [0.999,0.001])\n",
    "t1_d1 = np.random.choice([0,1], personas.sum(), p = [0.02,0.98])\n",
    "t1_d0 = np.random.choice([0,1], n - personas.sum(), p = [0.99,0.01])\n",
    "t1_d1.sum()/(t1_d1.sum() + t1_d0.sum())"
   ]
  },
  {
   "cell_type": "code",
   "execution_count": 22,
   "id": "edffdeed-9af6-44cf-bcf1-8cc353fb42fd",
   "metadata": {},
   "outputs": [
    {
     "data": {
      "text/plain": [
       "0.08933454876937101"
      ]
     },
     "execution_count": 22,
     "metadata": {},
     "output_type": "execute_result"
    }
   ],
   "source": [
    "98/1097"
   ]
  },
  {
   "cell_type": "markdown",
   "id": "2d1c6147-9654-46e0-a851-bd0339a76203",
   "metadata": {},
   "source": [
    "Tres amigos diferentes te dijeron que está lloviendo, y cada persona tiene 1/3 de probabilidad de mentir. Si el pronóstico del clima dijo que la probabilidad de lluvia era 25%, ¿cuál es la probabilidad de que sí esté lloviendo? (8/11)"
   ]
  },
  {
   "cell_type": "code",
   "execution_count": null,
   "id": "5f1c2566-ad17-453e-bac7-3084bdf5bcab",
   "metadata": {},
   "outputs": [],
   "source": [
    "Lluvia = 0.25\n",
    "A1 = 1/3\n",
    "A2 = 1/3\n",
    "A3 = 1/3"
   ]
  }
 ],
 "metadata": {
  "kernelspec": {
   "display_name": "Python 3 (ipykernel)",
   "language": "python",
   "name": "python3"
  },
  "language_info": {
   "codemirror_mode": {
    "name": "ipython",
    "version": 3
   },
   "file_extension": ".py",
   "mimetype": "text/x-python",
   "name": "python",
   "nbconvert_exporter": "python",
   "pygments_lexer": "ipython3",
   "version": "3.12.4"
  }
 },
 "nbformat": 4,
 "nbformat_minor": 5
}
