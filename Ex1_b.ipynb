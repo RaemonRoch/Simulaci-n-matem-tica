{
 "cells": [
  {
   "cell_type": "markdown",
   "metadata": {},
   "source": [
    "<img style=\"float: left;;\" src='Figures/iteso.jpg' width=\"100\" height=\"200\"/></a>\n",
    "\n",
    "# <center> <font color= #000047> DEPARTAMENTO DE MATEMÁTICAS Y FÍSICA </font> </center>\n",
    "# <center> <font color= #000047> Simulación Matemática </font> </center>\n",
    "# <center> <font color= #000047> EXAMEN 1 : Optimización </font> </center>\n",
    "# <center> <font color= #000047> Tipo: B </font> </center>\n",
    "\n",
    "        "
   ]
  },
  {
   "cell_type": "markdown",
   "metadata": {},
   "source": [
    "<div class=\"alert alert-danger\" style=\"margin: 10px\"><strong>NOTA IMPORTANTE!</strong> Asegúrese de escribir su nombre, y el código en las celdas comentadas.</div>"
   ]
  },
  {
   "cell_type": "markdown",
   "metadata": {},
   "source": [
    "<h1> Nombres: Héctor Manuel Serrano Sandoval 738867</h1>\n",
    "<hr>   "
   ]
  },
  {
   "cell_type": "markdown",
   "metadata": {},
   "source": [
    "<h2>Instrucciones</h2>\n",
    "\n",
    "- Lea detenidamente los reactivos y responda con claridad. Si se requiere hacer uso de más hojas para la realización de cálculos, es necesario que se adjunten a este archivo cuando se haga entrega del examen. Es necesario adjuntar las diferentes librerías o código que se utilice para la realización del examen.\n",
    "\n",
    "- Responda de manera ordenada los reactivos.\n",
    "\n",
    "- Por cada respuesta de cada reactivo se calificará __código, figuras y comentarios__.\n",
    "\n",
    "\n",
    "<h2>Tabla de Reactivos</h2>\n",
    "\n",
    "1. [Reactivo 1 (3 ptos)](#Problema1)\n",
    "2. [Reactivo 2 (3 ptos)](#Problema2)\n",
    "3. [Reactivo 3 (4 ptos)](#Problema3)\n",
    "<hr>   "
   ]
  },
  {
   "cell_type": "markdown",
   "metadata": {},
   "source": [
    "<hr>   \n",
    "\n",
    "### Reactivo 1 (3 ptos) <a name=\"Problema1\"></a> \n",
    "\n",
    "En un almacén de frutas hay 800 kg de naranjas, 800 kg de manzanas y 500 kg de plátanos. Para\n",
    "su venta se hacen dos tipos de lotes (A y B). El lote A contiene 1 kg de naranjas, 2 kg de manzanas y 1 kg de\n",
    "plátanos; el lote B se compone de 2 kg de naranjas, 1 kg de manzanas y 1 kg de plátanos. El beneficio\n",
    "por kilogramo que se obtiene con el lote A es de 1200 u.m. y con el lote B de 1400 u.m. "
   ]
  },
  {
   "cell_type": "code",
   "execution_count": 1,
   "metadata": {},
   "outputs": [
    {
     "data": {
      "text/html": [
       "<div>\n",
       "<style scoped>\n",
       "    .dataframe tbody tr th:only-of-type {\n",
       "        vertical-align: middle;\n",
       "    }\n",
       "\n",
       "    .dataframe tbody tr th {\n",
       "        vertical-align: top;\n",
       "    }\n",
       "\n",
       "    .dataframe thead th {\n",
       "        text-align: right;\n",
       "    }\n",
       "</style>\n",
       "<table border=\"1\" class=\"dataframe\">\n",
       "  <thead>\n",
       "    <tr style=\"text-align: right;\">\n",
       "      <th></th>\n",
       "      <th>Naranjas</th>\n",
       "      <th>Manzanas</th>\n",
       "      <th>Plátanos</th>\n",
       "    </tr>\n",
       "  </thead>\n",
       "  <tbody>\n",
       "    <tr>\n",
       "      <th>Lote A</th>\n",
       "      <td>1 Kg</td>\n",
       "      <td>2 Kg</td>\n",
       "      <td>1 Kg</td>\n",
       "    </tr>\n",
       "    <tr>\n",
       "      <th>Lote B</th>\n",
       "      <td>2 Kg</td>\n",
       "      <td>1 Kg</td>\n",
       "      <td>1 Kg</td>\n",
       "    </tr>\n",
       "    <tr>\n",
       "      <th>Existencia en Almacén</th>\n",
       "      <td>800 Kg</td>\n",
       "      <td>800 Kg</td>\n",
       "      <td>500 Kg</td>\n",
       "    </tr>\n",
       "  </tbody>\n",
       "</table>\n",
       "</div>"
      ],
      "text/plain": [
       "                      Naranjas Manzanas Plátanos\n",
       "Lote A                    1 Kg     2 Kg     1 Kg\n",
       "Lote B                    2 Kg     1 Kg     1 Kg\n",
       "Existencia en Almacén   800 Kg   800 Kg   500 Kg"
      ]
     },
     "execution_count": 1,
     "metadata": {},
     "output_type": "execute_result"
    }
   ],
   "source": [
    "import pandas as pd\n",
    "df = pd.DataFrame(columns=['Naranjas', 'Manzanas', 'Plátanos'], index = ['Lote A','Lote B', 'Existencia en Almacén'])\n",
    "df.loc['Lote A', :] = ['1 Kg', '2 Kg', '1 Kg']\n",
    "df.loc['Lote B', :] = ['2 Kg', '1 Kg', '1 Kg']\n",
    "df.loc['Existencia en Almacén', :] = ['800 Kg', '800 Kg', '500 Kg']\n",
    "df"
   ]
  },
  {
   "cell_type": "code",
   "execution_count": 2,
   "metadata": {},
   "outputs": [
    {
     "data": {
      "text/html": [
       "<div>\n",
       "<style scoped>\n",
       "    .dataframe tbody tr th:only-of-type {\n",
       "        vertical-align: middle;\n",
       "    }\n",
       "\n",
       "    .dataframe tbody tr th {\n",
       "        vertical-align: top;\n",
       "    }\n",
       "\n",
       "    .dataframe thead th {\n",
       "        text-align: right;\n",
       "    }\n",
       "</style>\n",
       "<table border=\"1\" class=\"dataframe\">\n",
       "  <thead>\n",
       "    <tr style=\"text-align: right;\">\n",
       "      <th></th>\n",
       "      <th>Beneficios</th>\n",
       "    </tr>\n",
       "  </thead>\n",
       "  <tbody>\n",
       "    <tr>\n",
       "      <th>Lote A</th>\n",
       "      <td>1200 u.m</td>\n",
       "    </tr>\n",
       "    <tr>\n",
       "      <th>Lote B</th>\n",
       "      <td>1400 u.m</td>\n",
       "    </tr>\n",
       "  </tbody>\n",
       "</table>\n",
       "</div>"
      ],
      "text/plain": [
       "       Beneficios\n",
       "Lote A   1200 u.m\n",
       "Lote B   1400 u.m"
      ]
     },
     "execution_count": 2,
     "metadata": {},
     "output_type": "execute_result"
    }
   ],
   "source": [
    "df_beneficios = pd.DataFrame(columns=['Beneficios'], index = ['Lote A','Lote B'])\n",
    "df_beneficios.loc['Lote A', :] = ['1200 u.m']\n",
    "df_beneficios.loc['Lote B', :] = ['1400 u.m']\n",
    "df_beneficios"
   ]
  },
  {
   "cell_type": "markdown",
   "metadata": {},
   "source": [
    "**Determinar el\n",
    "número de kilogramo de cada tipo para conseguir beneficios máximos.**\n",
    "\n",
    "> **1.1.-** Escriba la función a minimizar junto con las restricciones, explicando detalladamente cada paso (usando fórmulas en $\\LaTeX$, en celdas Markdown). Además escriba el problema en la forma \n",
    "\\begin{equation}\n",
    "\\begin{array}{ll}\n",
    "\\min_{\\boldsymbol{x}} & \\boldsymbol{c}^T\\boldsymbol{x} \\\\\n",
    "\\text{s. a. }        & \\boldsymbol{A}_{eq}\\boldsymbol{x}=\\boldsymbol{b}_{eq} \\\\\n",
    "                     & \\boldsymbol{A}\\boldsymbol{x}\\leq\\boldsymbol{b},\n",
    "\\end{array}\n",
    "\\end{equation}\n",
    "\n",
    ">proporcionando $\\boldsymbol{c}$, $\\boldsymbol{A}$ y $\\boldsymbol{b}$ ($\\boldsymbol{A}_{eq}$ y $\\boldsymbol{b}_{eq}$, de ser necesario) como arreglos de `NumPy` (no es necesario escribir en $\\LaTeX$ el problema en la forma indicada, solo proporcionar las matrices como arreglos de `NumPy`).\n",
    "\n"
   ]
  },
  {
   "cell_type": "markdown",
   "metadata": {},
   "source": [
    "Para resolver este problema voy a definir mis variables\n",
    "\n",
    "x= Lotes A\n",
    "\n",
    "y= Lotes B\n",
    "\n",
    "Una vez con nuestras variables tendremos la función a maximizar $1200x+1400y$\n",
    "\n",
    "Tenemos como restricciones:\n",
    "\n",
    "Naranjas: x+2y<=800\n",
    "\n",
    "Manzanas: 2x+y<=800\n",
    "\n",
    "Plátanos: x+y<=500\n",
    "\n",
    "x>=0\n",
    "\n",
    "y>=0"
   ]
  },
  {
   "cell_type": "code",
   "execution_count": 3,
   "metadata": {},
   "outputs": [],
   "source": [
    "import numpy as np\n",
    "from scipy import optimize as opt"
   ]
  },
  {
   "cell_type": "code",
   "execution_count": 4,
   "metadata": {},
   "outputs": [],
   "source": [
    "c = np.array([-120,-140])\n",
    "\n",
    "A_ineq = np.array([[1,2],\n",
    "                  [2,1],\n",
    "                  [1,1],\n",
    "                  [-1,0],\n",
    "                  [0,-1]])\n",
    "\n",
    "b_ineq = np.array([800,800,500,0,0])"
   ]
  },
  {
   "cell_type": "code",
   "execution_count": null,
   "metadata": {},
   "outputs": [],
   "source": []
  },
  {
   "cell_type": "markdown",
   "metadata": {},
   "source": [
    ">**1.2.-** Resuelva el problema utilizando la función `linprog`. ¿Cuál es el número de kilogramo de cada tipo (A y B) para conseguir beneficios máximos?"
   ]
  },
  {
   "cell_type": "code",
   "execution_count": 5,
   "metadata": {},
   "outputs": [
    {
     "data": {
      "text/plain": [
       "     con: array([], dtype=float64)\n",
       "     fun: -65999.99107577653\n",
       " message: 'Optimization terminated successfully.'\n",
       "     nit: 5\n",
       "   slack: array([1.09006686e-04, 1.00000093e+02, 6.74408976e-05, 1.99999974e+02,\n",
       "       2.99999958e+02])\n",
       "  status: 0\n",
       " success: True\n",
       "       x: array([199.99997412, 299.99995843])"
      ]
     },
     "execution_count": 5,
     "metadata": {},
     "output_type": "execute_result"
    }
   ],
   "source": [
    "solucion = opt.linprog(c=c, A_ub=A_ineq, b_ub=b_ineq)\n",
    "solucion"
   ]
  },
  {
   "cell_type": "code",
   "execution_count": 6,
   "metadata": {},
   "outputs": [
    {
     "data": {
      "text/plain": [
       "array([199.99997412, 299.99995843])"
      ]
     },
     "execution_count": 6,
     "metadata": {},
     "output_type": "execute_result"
    }
   ],
   "source": [
    "solucion.x"
   ]
  },
  {
   "cell_type": "code",
   "execution_count": 7,
   "metadata": {},
   "outputs": [
    {
     "data": {
      "text/plain": [
       "array([200., 300.])"
      ]
     },
     "execution_count": 7,
     "metadata": {},
     "output_type": "execute_result"
    }
   ],
   "source": [
    "np.round(solucion.x)"
   ]
  },
  {
   "cell_type": "code",
   "execution_count": 8,
   "metadata": {},
   "outputs": [
    {
     "data": {
      "text/plain": [
       "660000"
      ]
     },
     "execution_count": 8,
     "metadata": {},
     "output_type": "execute_result"
    }
   ],
   "source": [
    "(1200*200)+(1400*300)"
   ]
  },
  {
   "cell_type": "markdown",
   "metadata": {},
   "source": [
    "* Para obtrener la mayor cantidad de beneficios se necesitarán $200$ lotes tipo A y $300$ lotes tipo B, el beneficio máximo será $660000 u.m$"
   ]
  },
  {
   "cell_type": "code",
   "execution_count": null,
   "metadata": {},
   "outputs": [],
   "source": []
  },
  {
   "cell_type": "markdown",
   "metadata": {},
   "source": [
    "<hr>   \n",
    "\n",
    "### Reactivo 2 (3 ptos) <a name=\"Problema2\"></a> \n"
   ]
  },
  {
   "cell_type": "markdown",
   "metadata": {},
   "source": [
    "Considere los datos que se encuentran en el dataset `Position_Salaries.csv`, este dataset contiene los salarios según el nivel del empleado en dentro de una empresa."
   ]
  },
  {
   "cell_type": "code",
   "execution_count": 9,
   "metadata": {},
   "outputs": [
    {
     "data": {
      "text/html": [
       "<div>\n",
       "<style scoped>\n",
       "    .dataframe tbody tr th:only-of-type {\n",
       "        vertical-align: middle;\n",
       "    }\n",
       "\n",
       "    .dataframe tbody tr th {\n",
       "        vertical-align: top;\n",
       "    }\n",
       "\n",
       "    .dataframe thead th {\n",
       "        text-align: right;\n",
       "    }\n",
       "</style>\n",
       "<table border=\"1\" class=\"dataframe\">\n",
       "  <thead>\n",
       "    <tr style=\"text-align: right;\">\n",
       "      <th></th>\n",
       "      <th>Position</th>\n",
       "      <th>Level</th>\n",
       "      <th>Salary</th>\n",
       "    </tr>\n",
       "  </thead>\n",
       "  <tbody>\n",
       "    <tr>\n",
       "      <th>0</th>\n",
       "      <td>Business Analyst</td>\n",
       "      <td>1</td>\n",
       "      <td>45000</td>\n",
       "    </tr>\n",
       "    <tr>\n",
       "      <th>1</th>\n",
       "      <td>Junior Consultant</td>\n",
       "      <td>2</td>\n",
       "      <td>50000</td>\n",
       "    </tr>\n",
       "    <tr>\n",
       "      <th>2</th>\n",
       "      <td>Senior Consultant</td>\n",
       "      <td>3</td>\n",
       "      <td>60000</td>\n",
       "    </tr>\n",
       "    <tr>\n",
       "      <th>3</th>\n",
       "      <td>Manager</td>\n",
       "      <td>4</td>\n",
       "      <td>80000</td>\n",
       "    </tr>\n",
       "    <tr>\n",
       "      <th>4</th>\n",
       "      <td>Country Manager</td>\n",
       "      <td>5</td>\n",
       "      <td>110000</td>\n",
       "    </tr>\n",
       "    <tr>\n",
       "      <th>5</th>\n",
       "      <td>Region Manager</td>\n",
       "      <td>6</td>\n",
       "      <td>150000</td>\n",
       "    </tr>\n",
       "    <tr>\n",
       "      <th>6</th>\n",
       "      <td>Partner</td>\n",
       "      <td>7</td>\n",
       "      <td>200000</td>\n",
       "    </tr>\n",
       "    <tr>\n",
       "      <th>7</th>\n",
       "      <td>Senior Partner</td>\n",
       "      <td>8</td>\n",
       "      <td>300000</td>\n",
       "    </tr>\n",
       "    <tr>\n",
       "      <th>8</th>\n",
       "      <td>C-level</td>\n",
       "      <td>9</td>\n",
       "      <td>500000</td>\n",
       "    </tr>\n",
       "    <tr>\n",
       "      <th>9</th>\n",
       "      <td>CEO</td>\n",
       "      <td>10</td>\n",
       "      <td>1000000</td>\n",
       "    </tr>\n",
       "  </tbody>\n",
       "</table>\n",
       "</div>"
      ],
      "text/plain": [
       "            Position  Level   Salary\n",
       "0   Business Analyst      1    45000\n",
       "1  Junior Consultant      2    50000\n",
       "2  Senior Consultant      3    60000\n",
       "3            Manager      4    80000\n",
       "4    Country Manager      5   110000\n",
       "5     Region Manager      6   150000\n",
       "6            Partner      7   200000\n",
       "7     Senior Partner      8   300000\n",
       "8            C-level      9   500000\n",
       "9                CEO     10  1000000"
      ]
     },
     "execution_count": 9,
     "metadata": {},
     "output_type": "execute_result"
    }
   ],
   "source": [
    "import numpy as np\n",
    "import pandas as pd\n",
    "\n",
    "df = pd.read_csv('Position_Salaries.csv')\n",
    "df"
   ]
  },
  {
   "cell_type": "markdown",
   "metadata": {},
   "source": [
    ">**2.1.-** Usando la variable `level` como variable independiente $x$ y el salario (`Salary`) como variable dependiente $y$, ajustar polinomios de grado 1 hasta grado 4. Mostrar en un solo gráfico los datos del archivo contra los niveles, y los polinomios ajustados.\n"
   ]
  },
  {
   "cell_type": "code",
   "execution_count": 11,
   "metadata": {},
   "outputs": [],
   "source": [
    "import matplotlib.pyplot as plt\n",
    "from scipy import optimize as opt"
   ]
  },
  {
   "cell_type": "code",
   "execution_count": 12,
   "metadata": {},
   "outputs": [
    {
     "data": {
      "text/plain": [
       "array([ 1,  2,  3,  4,  5,  6,  7,  8,  9, 10], dtype=int64)"
      ]
     },
     "execution_count": 12,
     "metadata": {},
     "output_type": "execute_result"
    }
   ],
   "source": [
    "x = df['Level'].values\n",
    "x"
   ]
  },
  {
   "cell_type": "code",
   "execution_count": 13,
   "metadata": {},
   "outputs": [
    {
     "data": {
      "text/plain": [
       "array([  45000,   50000,   60000,   80000,  110000,  150000,  200000,\n",
       "        300000,  500000, 1000000], dtype=int64)"
      ]
     },
     "execution_count": 13,
     "metadata": {},
     "output_type": "execute_result"
    }
   ],
   "source": [
    "y = df['Salary'].values\n",
    "y"
   ]
  },
  {
   "cell_type": "code",
   "execution_count": 15,
   "metadata": {},
   "outputs": [
    {
     "data": {
      "image/png": "[encoded data removed]",
      "text/plain": [
       "<Figure size 720x720 with 1 Axes>"
      ]
     },
     "metadata": {
      "needs_background": "light"
     },
     "output_type": "display_data"
    }
   ],
   "source": [
    "plt.figure(figsize=(10,10))\n",
    "plt.plot(x,y,'xr', ms=10, label='Datos')\n",
    "plt.grid()\n",
    "plt.show()"
   ]
  },
  {
   "cell_type": "code",
   "execution_count": 16,
   "metadata": {},
   "outputs": [],
   "source": [
    "def min_sq_N(beta, x_points, y_points, N):\n",
    "    n = len(x_points)\n",
    "    f_hat_N = np.array([beta[i]*x_points**i for i in range(N+1)]).sum(axis=0)\n",
    "    \n",
    "    return (1/(2*n))*((y_points - f_hat_N)**2).sum()"
   ]
  },
  {
   "cell_type": "code",
   "execution_count": 17,
   "metadata": {},
   "outputs": [
    {
     "data": {
      "text/plain": [
       "      fun: 13347939401.815567\n",
       " hess_inv: array([[ 2.12028224, -0.31700563],\n",
       "       [-0.31700563,  0.06982665]])\n",
       "      jac: array([0., 0.])\n",
       "  message: 'Optimization terminated successfully.'\n",
       "     nfev: 54\n",
       "      nit: 10\n",
       "     njev: 18\n",
       "   status: 0\n",
       "  success: True\n",
       "        x: array([-195335.27879227,   80878.44283592])"
      ]
     },
     "execution_count": 17,
     "metadata": {},
     "output_type": "execute_result"
    }
   ],
   "source": [
    "solucion_1 = opt.minimize(fun=min_sq_N, x0=np.zeros(2), args=(x,y,1))\n",
    "solucion_1"
   ]
  },
  {
   "cell_type": "code",
   "execution_count": 18,
   "metadata": {},
   "outputs": [
    {
     "data": {
      "text/plain": [
       "array([-195335.27879227,   80878.44283592])"
      ]
     },
     "execution_count": 18,
     "metadata": {},
     "output_type": "execute_result"
    }
   ],
   "source": [
    "beta_1 = solucion_1.x\n",
    "beta_1"
   ]
  },
  {
   "cell_type": "code",
   "execution_count": 19,
   "metadata": {},
   "outputs": [
    {
     "data": {
      "text/plain": [
       "      fun: 3379419467.8910313\n",
       " hess_inv: array([[ 2.27106554, -2.56893135,  0.27238509],\n",
       "       [-2.56893135,  2.90851695, -0.30860165],\n",
       "       [ 0.27238509, -0.30860165,  0.03299478]])\n",
       "      jac: array([ 0.,  0., 32.])\n",
       "  message: 'Desired error not necessarily achieved due to precision loss.'\n",
       "     nfev: 320\n",
       "      nit: 28\n",
       "     njev: 77\n",
       "   status: 2\n",
       "  success: False\n",
       "        x: array([ 231894.30839052, -132777.88371148,   19424.82721645])"
      ]
     },
     "execution_count": 19,
     "metadata": {},
     "output_type": "execute_result"
    }
   ],
   "source": [
    "solucion_2 = opt.minimize(fun=min_sq_N, x0=np.zeros(3), args=(x,y,2))\n",
    "solucion_2"
   ]
  },
  {
   "cell_type": "code",
   "execution_count": 20,
   "metadata": {},
   "outputs": [
    {
     "data": {
      "text/plain": [
       "array([ 231894.30839052, -132777.88371148,   19424.82721645])"
      ]
     },
     "execution_count": 20,
     "metadata": {},
     "output_type": "execute_result"
    }
   ],
   "source": [
    "beta_2 = solucion_2.x\n",
    "beta_2"
   ]
  },
  {
   "cell_type": "code",
   "execution_count": 21,
   "metadata": {},
   "outputs": [
    {
     "data": {
      "text/plain": [
       "      fun: 757831199.724567\n",
       " hess_inv: array([[ 2.03726813e-10, -4.34323854e-11, -3.64021241e-10,\n",
       "         3.68841647e-11],\n",
       "       [-4.34323854e-11,  2.06245918e-04, -2.06238227e-04,\n",
       "         1.67526588e-05],\n",
       "       [-3.64021241e-10, -2.06238227e-04,  2.06300294e-04,\n",
       "        -1.67589906e-05],\n",
       "       [ 3.68841647e-11,  1.67526588e-05, -1.67589906e-05,\n",
       "         8.82773738e-06]])\n",
       "      jac: array([ -8.,   0.,  16., 168.])\n",
       "  message: 'Desired error not necessarily achieved due to precision loss.'\n",
       "     nfev: 575\n",
       "      nit: 20\n",
       "     njev: 111\n",
       "   status: 2\n",
       "  success: False\n",
       "        x: array([-121436.21315139,  180753.84569131,  -48567.63576551,\n",
       "          4121.14413944])"
      ]
     },
     "execution_count": 21,
     "metadata": {},
     "output_type": "execute_result"
    }
   ],
   "source": [
    "solucion_3 = opt.minimize(fun=min_sq_N, x0=np.zeros(4), args=(x,y,3))\n",
    "solucion_3"
   ]
  },
  {
   "cell_type": "code",
   "execution_count": 22,
   "metadata": {},
   "outputs": [
    {
     "data": {
      "text/plain": [
       "array([-121436.21315139,  180753.84569131,  -48567.63576551,\n",
       "          4121.14413944])"
      ]
     },
     "execution_count": 22,
     "metadata": {},
     "output_type": "execute_result"
    }
   ],
   "source": [
    "beta_3 = solucion_3.x\n",
    "beta_3"
   ]
  },
  {
   "cell_type": "code",
   "execution_count": 23,
   "metadata": {},
   "outputs": [
    {
     "data": {
      "text/plain": [
       "      fun: 105172203.14176477\n",
       " hess_inv: array([[ 1.26990153e+02, -1.37467211e+02,  4.48666745e+01,\n",
       "        -5.65598738e+00,  2.42285428e-01],\n",
       "       [-1.37467211e+02,  1.58939001e+02, -5.36427654e+01,\n",
       "         6.90014768e+00, -2.99587982e-01],\n",
       "       [ 4.48666745e+01, -5.36427654e+01,  1.85383830e+01,\n",
       "        -2.42496300e+00,  1.06603139e-01],\n",
       "       [-5.65598738e+00,  6.90014768e+00, -2.42496300e+00,\n",
       "         3.21478930e-01, -1.42852705e-02],\n",
       "       [ 2.42285428e-01, -2.99587982e-01,  1.06603139e-01,\n",
       "        -1.42852705e-02,  6.40599361e-04]])\n",
       "      jac: array([ 3.000e+00, -1.000e+00, -3.700e+01, -3.770e+02, -3.507e+03])\n",
       "  message: 'Desired error not necessarily achieved due to precision loss.'\n",
       "     nfev: 408\n",
       "      nit: 21\n",
       "     njev: 66\n",
       "   status: 2\n",
       "  success: False\n",
       "        x: array([ 183937.80940982, -210721.51625368,   94668.34269394,\n",
       "        -15450.63803307,     889.59802073])"
      ]
     },
     "execution_count": 23,
     "metadata": {},
     "output_type": "execute_result"
    }
   ],
   "source": [
    "solucion_4 = opt.minimize(fun=min_sq_N, x0=np.zeros(5), args=(x,y,4))\n",
    "solucion_4"
   ]
  },
  {
   "cell_type": "code",
   "execution_count": 24,
   "metadata": {},
   "outputs": [
    {
     "data": {
      "text/plain": [
       "array([ 183937.80940982, -210721.51625368,   94668.34269394,\n",
       "        -15450.63803307,     889.59802073])"
      ]
     },
     "execution_count": 24,
     "metadata": {},
     "output_type": "execute_result"
    }
   ],
   "source": [
    "beta_4 = solucion_4.x\n",
    "beta_4"
   ]
  },
  {
   "cell_type": "code",
   "execution_count": 25,
   "metadata": {},
   "outputs": [
    {
     "data": {
      "image/png": "[encoded data removed]",
      "text/plain": [
       "<Figure size 720x720 with 1 Axes>"
      ]
     },
     "metadata": {
      "needs_background": "light"
     },
     "output_type": "display_data"
    }
   ],
   "source": [
    "plt.figure(figsize=(10,10))\n",
    "f_hat_1 = beta_1[0] + beta_1[1]*x\n",
    "f_hat_2 = beta_2[0] + beta_2[1]*x + beta_2[2]*x**2\n",
    "f_hat_3 = beta_3[0] + beta_3[1]*x + beta_3[2]*x**2 + beta_3[3]*x**3\n",
    "f_hat_4 = beta_4[0] + beta_4[1]*x + beta_4[2]*x**2 + beta_4[3]*x**3 + beta_4[4]*x**4\n",
    "plt.plot(x,y,'xr',ms=10)\n",
    "plt.plot(x,f_hat_1,'r',ms=3, label=f'Recta ajustada')\n",
    "plt.plot(x,f_hat_2,'g',ms=3, label=f'Parábola ajustada')\n",
    "plt.plot(x,f_hat_3,'k',ms=3, label=f'Polinomio cúbico ajustado')\n",
    "plt.plot(x,f_hat_4,'m',ms=3, label=f'Polinomio de cuarto grado')\n",
    "plt.legend(loc='best')\n",
    "plt.grid()\n",
    "plt.show()"
   ]
  },
  {
   "cell_type": "code",
   "execution_count": null,
   "metadata": {},
   "outputs": [],
   "source": []
  },
  {
   "cell_type": "markdown",
   "metadata": {},
   "source": [
    ">**2.2.-** Graficar el error cuadrático acumulado contra el número de términos. ¿Cuál es el polinomio que mejor se ajusta?"
   ]
  },
  {
   "cell_type": "code",
   "execution_count": 26,
   "metadata": {},
   "outputs": [],
   "source": [
    "error=[]\n",
    "for i in range(1,10):\n",
    "    beta_ini = np.zeros(i+1)\n",
    "    solucion = opt.minimize(fun=min_sq_N, x0=beta_ini, args=(x,y,i))\n",
    "    error.append(solucion.fun)"
   ]
  },
  {
   "cell_type": "code",
   "execution_count": 27,
   "metadata": {},
   "outputs": [
    {
     "data": {
      "text/plain": [
       "[13347939401.815567,\n",
       " 3379419467.8910313,\n",
       " 757831199.724567,\n",
       " 105172203.14176477,\n",
       " 8191142.222944763,\n",
       " 2037735.5794168548,\n",
       " 1409198.9581508387,\n",
       " 1460573.837787781,\n",
       " 146215506.09698248]"
      ]
     },
     "execution_count": 27,
     "metadata": {},
     "output_type": "execute_result"
    }
   ],
   "source": [
    "error"
   ]
  },
  {
   "cell_type": "code",
   "execution_count": 28,
   "metadata": {},
   "outputs": [
    {
     "data": {
      "image/png": "[encoded data removed]",
      "text/plain": [
       "<Figure size 720x720 with 1 Axes>"
      ]
     },
     "metadata": {
      "needs_background": "light"
     },
     "output_type": "display_data"
    }
   ],
   "source": [
    "plt.figure(figsize=(10,10))\n",
    "plt.plot(range(1,10), error)\n",
    "plt.xlabel('Orden del polinomio ajustado')\n",
    "plt.ylabel('Error de mínimos cuadrados')\n",
    "plt.grid()\n",
    "plt.show()"
   ]
  },
  {
   "cell_type": "code",
   "execution_count": null,
   "metadata": {},
   "outputs": [],
   "source": []
  },
  {
   "cell_type": "code",
   "execution_count": null,
   "metadata": {},
   "outputs": [],
   "source": []
  },
  {
   "cell_type": "markdown",
   "metadata": {},
   "source": [
    "<hr>   \n",
    "\n",
    "### Reactivo 3 (4 ptos) <a name=\"Problema3\"></a> \n"
   ]
  },
  {
   "cell_type": "markdown",
   "metadata": {},
   "source": [
    "Considere un cono circular recto inscrito en una esfera de radio $r$"
   ]
  },
  {
   "cell_type": "code",
   "execution_count": 29,
   "metadata": {},
   "outputs": [
    {
     "data": {
      "image/png": "[encoded data removed]",
      "text/plain": [
       "<Figure size 432x288 with 1 Axes>"
      ]
     },
     "metadata": {
      "needs_background": "light"
     },
     "output_type": "display_data"
    }
   ],
   "source": [
    "#Ejecute esta linea de código\n",
    "import numpy as np\n",
    "import matplotlib.pyplot as plt\n",
    "import matplotlib.patches as patches\n",
    "%matplotlib inline\n",
    "\n",
    "B1 = patches.Arc((0, -0.4), 1.8,0.3,theta2=180,fc='None',ls='--',color='k')\n",
    "B2 = patches.Arc((0, -0.4), 1.8,0.3,theta1=180,fc='None',color='k')\n",
    "C = patches.Circle((0, 0), 1,fc='None',lw=2,color='k');\n",
    "ax = plt.gca()\n",
    "ax.add_artist(B1)\n",
    "ax.add_artist(B2)\n",
    "ax.add_artist(C)\n",
    "\n",
    "plt.plot([0.9,0,-0.9],[-0.4,1,-0.4],'k')\n",
    "plt.plot([0,0],[-0.4,1],'--r')\n",
    "plt.plot([0,0],[-0.4,0],'ok')\n",
    "plt.plot([0,0.9],[0,-0.4],'--r')\n",
    "plt.plot([-0.2,0],[-0.4,-0.4],'--k')\n",
    "plt.plot([-0.2,0],[1,1],'--k')\n",
    "plt.plot([-0.14,-0.14],[-0.4,0.2],'--k')\n",
    "plt.plot([-0.14,-0.14],[0.4,1],'--k')\n",
    "\n",
    "plt.text(-0.18,0.26,'h')\n",
    "plt.text(0.4,-0.1,'$r$')\n",
    "plt.text(0.05,0.4,'$r$')\n",
    "\n",
    "plt.axis([-1.7,1.7,-1.1,1.1])\n",
    "plt.axis('off')\n",
    "plt.show()"
   ]
  },
  {
   "cell_type": "markdown",
   "metadata": {},
   "source": [
    ">**3.1.-** Escriba el volumen $V$ del cono como una función de la altura $h$ de éste. Realice este punto usando fórmulas de $\\LaTeX$, en celdas *Markdown*. \n"
   ]
  },
  {
   "cell_type": "markdown",
   "metadata": {},
   "source": [
    "El volumen de un cono está representado por:\n",
    "\n",
    "$ V = \\frac{ \\pi r^2 h }{ 3 }$\n",
    "\n",
    "$R$ radio de la esfera, $r$ radio del cono\n",
    "\n",
    "El radio de la esfera es de 2, por lo tanto $R=2$\n",
    "\n",
    "Tenemos un trángulo rectángulo en el que $R$ es la hipotenusa y r es la base, también podemos ver que la alturá será de h-r\n",
    "\n",
    "Mediante el teorema de pitágoras obtenemos que $r^2 = R^2 - (h-R)^2$\n",
    "\n",
    "Sustituímos $r^2$ en la fórmula de volumen y obtenemos que $V = \\frac{\\pi (R^2 - (h-R)^2)h}{3}$ y como $R=2$, $V = \\frac{1}{3} \\pi(4h^2-h^3)$, así llegamos a nuestra fórmula final a maximizar\n",
    "\n"
   ]
  },
  {
   "cell_type": "markdown",
   "metadata": {},
   "source": [
    ">**3.2.-** Determinar el valor de $h$ que maximiza el volumen para un radio $r=2$. \n"
   ]
  },
  {
   "cell_type": "code",
   "execution_count": 30,
   "metadata": {},
   "outputs": [],
   "source": [
    "import numpy as np\n",
    "import sympy as sym\n",
    "import matplotlib.pyplot as plt"
   ]
  },
  {
   "cell_type": "code",
   "execution_count": 31,
   "metadata": {},
   "outputs": [
    {
     "data": {
      "text/latex": [
       "$\\displaystyle h$"
      ],
      "text/plain": [
       "h"
      ]
     },
     "execution_count": 31,
     "metadata": {},
     "output_type": "execute_result"
    }
   ],
   "source": [
    "sym.var('h')"
   ]
  },
  {
   "cell_type": "code",
   "execution_count": 32,
   "metadata": {},
   "outputs": [
    {
     "data": {
      "text/latex": [
       "$\\displaystyle \\frac{\\pi \\left(- h^{3} + 4 h^{2}\\right)}{3}$"
      ],
      "text/plain": [
       "pi*(-h**3 + 4*h**2)/3"
      ]
     },
     "execution_count": 32,
     "metadata": {},
     "output_type": "execute_result"
    }
   ],
   "source": [
    "def V(h):\n",
    "    return (sym.pi*(4*h**2-h**3))/3\n",
    "V(h)"
   ]
  },
  {
   "cell_type": "code",
   "execution_count": 33,
   "metadata": {},
   "outputs": [
    {
     "data": {
      "text/latex": [
       "$\\displaystyle \\frac{\\pi \\left(- 3 h^{2} + 8 h\\right)}{3}$"
      ],
      "text/plain": [
       "pi*(-3*h**2 + 8*h)/3"
      ]
     },
     "execution_count": 33,
     "metadata": {},
     "output_type": "execute_result"
    }
   ],
   "source": [
    "dV = sym.diff(V(h),h)\n",
    "dV"
   ]
  },
  {
   "cell_type": "code",
   "execution_count": 34,
   "metadata": {},
   "outputs": [
    {
     "data": {
      "text/plain": [
       "[0, 8/3]"
      ]
     },
     "execution_count": 34,
     "metadata": {},
     "output_type": "execute_result"
    }
   ],
   "source": [
    "sol = sym.solve(dV,h)\n",
    "sol"
   ]
  },
  {
   "cell_type": "code",
   "execution_count": 35,
   "metadata": {},
   "outputs": [
    {
     "data": {
      "text/latex": [
       "$\\displaystyle \\frac{8}{3}$"
      ],
      "text/plain": [
       "8/3"
      ]
     },
     "execution_count": 35,
     "metadata": {},
     "output_type": "execute_result"
    }
   ],
   "source": [
    "sol[1]"
   ]
  },
  {
   "cell_type": "code",
   "execution_count": 38,
   "metadata": {},
   "outputs": [
    {
     "data": {
      "text/plain": [
       "array([0.        , 0.01507538, 0.03015075, 0.04522613, 0.06030151,\n",
       "       0.07537688, 0.09045226, 0.10552764, 0.12060302, 0.13567839,\n",
       "       0.15075377, 0.16582915, 0.18090452, 0.1959799 , 0.21105528,\n",
       "       0.22613065, 0.24120603, 0.25628141, 0.27135678, 0.28643216,\n",
       "       0.30150754, 0.31658291, 0.33165829, 0.34673367, 0.36180905,\n",
       "       0.37688442, 0.3919598 , 0.40703518, 0.42211055, 0.43718593,\n",
       "       0.45226131, 0.46733668, 0.48241206, 0.49748744, 0.51256281,\n",
       "       0.52763819, 0.54271357, 0.55778894, 0.57286432, 0.5879397 ,\n",
       "       0.60301508, 0.61809045, 0.63316583, 0.64824121, 0.66331658,\n",
       "       0.67839196, 0.69346734, 0.70854271, 0.72361809, 0.73869347,\n",
       "       0.75376884, 0.76884422, 0.7839196 , 0.79899497, 0.81407035,\n",
       "       0.82914573, 0.84422111, 0.85929648, 0.87437186, 0.88944724,\n",
       "       0.90452261, 0.91959799, 0.93467337, 0.94974874, 0.96482412,\n",
       "       0.9798995 , 0.99497487, 1.01005025, 1.02512563, 1.04020101,\n",
       "       1.05527638, 1.07035176, 1.08542714, 1.10050251, 1.11557789,\n",
       "       1.13065327, 1.14572864, 1.16080402, 1.1758794 , 1.19095477,\n",
       "       1.20603015, 1.22110553, 1.2361809 , 1.25125628, 1.26633166,\n",
       "       1.28140704, 1.29648241, 1.31155779, 1.32663317, 1.34170854,\n",
       "       1.35678392, 1.3718593 , 1.38693467, 1.40201005, 1.41708543,\n",
       "       1.4321608 , 1.44723618, 1.46231156, 1.47738693, 1.49246231,\n",
       "       1.50753769, 1.52261307, 1.53768844, 1.55276382, 1.5678392 ,\n",
       "       1.58291457, 1.59798995, 1.61306533, 1.6281407 , 1.64321608,\n",
       "       1.65829146, 1.67336683, 1.68844221, 1.70351759, 1.71859296,\n",
       "       1.73366834, 1.74874372, 1.7638191 , 1.77889447, 1.79396985,\n",
       "       1.80904523, 1.8241206 , 1.83919598, 1.85427136, 1.86934673,\n",
       "       1.88442211, 1.89949749, 1.91457286, 1.92964824, 1.94472362,\n",
       "       1.95979899, 1.97487437, 1.98994975, 2.00502513, 2.0201005 ,\n",
       "       2.03517588, 2.05025126, 2.06532663, 2.08040201, 2.09547739,\n",
       "       2.11055276, 2.12562814, 2.14070352, 2.15577889, 2.17085427,\n",
       "       2.18592965, 2.20100503, 2.2160804 , 2.23115578, 2.24623116,\n",
       "       2.26130653, 2.27638191, 2.29145729, 2.30653266, 2.32160804,\n",
       "       2.33668342, 2.35175879, 2.36683417, 2.38190955, 2.39698492,\n",
       "       2.4120603 , 2.42713568, 2.44221106, 2.45728643, 2.47236181,\n",
       "       2.48743719, 2.50251256, 2.51758794, 2.53266332, 2.54773869,\n",
       "       2.56281407, 2.57788945, 2.59296482, 2.6080402 , 2.62311558,\n",
       "       2.63819095, 2.65326633, 2.66834171, 2.68341709, 2.69849246,\n",
       "       2.71356784, 2.72864322, 2.74371859, 2.75879397, 2.77386935,\n",
       "       2.78894472, 2.8040201 , 2.81909548, 2.83417085, 2.84924623,\n",
       "       2.86432161, 2.87939698, 2.89447236, 2.90954774, 2.92462312,\n",
       "       2.93969849, 2.95477387, 2.96984925, 2.98492462, 3.        ])"
      ]
     },
     "execution_count": 38,
     "metadata": {},
     "output_type": "execute_result"
    }
   ],
   "source": [
    "xnum = np.linspace(0,3,200)\n",
    "xnum"
   ]
  },
  {
   "cell_type": "code",
   "execution_count": 39,
   "metadata": {},
   "outputs": [
    {
     "data": {
      "text/plain": [
       "array([0, 0.000301880605776287*pi, 0.00120295424243766*pi,\n",
       "       0.0026963686389829*pi, 0.00477527152441077*pi,\n",
       "       0.00743281062772005*pi, 0.0106621336779095*pi,\n",
       "       0.0144563884039779*pi, 0.0188087225349241*pi,\n",
       "       0.0237122837997467*pi, 0.0291602199274446*pi,\n",
       "       0.0351456786470166*pi, 0.0416618076874613*pi,\n",
       "       0.0487017547777777*pi, 0.0562586676469644*pi,\n",
       "       0.0643256940240202*pi, 0.072895981637944*pi, 0.0819626782177345*pi,\n",
       "       0.0915189314923904*pi, 0.10155788919091*pi, 0.112072699042294*pi,\n",
       "       0.123056508775538*pi, 0.134502466119644*pi, 0.146403718803609*pi,\n",
       "       0.158753414556432*pi, 0.171544701107111*pi, 0.184770726184647*pi,\n",
       "       0.198424637518036*pi, 0.212499582836279*pi, 0.226988709868374*pi,\n",
       "       0.24188516634332*pi, 0.257182099990115*pi, 0.272872658537758*pi,\n",
       "       0.288949989715249*pi, 0.305407241251585*pi, 0.322237560875766*pi,\n",
       "       0.33943409631679*pi, 0.356989995303656*pi, 0.374898405565364*pi,\n",
       "       0.393152474830911*pi, 0.411745350829296*pi, 0.430670181289519*pi,\n",
       "       0.449920113940577*pi, 0.469488296511471*pi, 0.489367876731198*pi,\n",
       "       0.509552002328757*pi, 0.530033821033147*pi, 0.550806480573367*pi,\n",
       "       0.571863128678416*pi, 0.593196913077293*pi, 0.614800981498995*pi,\n",
       "       0.636668481672523*pi, 0.658792561326874*pi, 0.681166368191047*pi,\n",
       "       0.703783049994042*pi, 0.726635754464857*pi, 0.749717629332491*pi,\n",
       "       0.773021822325942*pi, 0.79654148117421*pi, 0.820269753606293*pi,\n",
       "       0.84419978735119*pi, 0.868324730137899*pi, 0.89263772969542*pi,\n",
       "       0.917131933752752*pi, 0.941800490038892*pi, 0.966636546282839*pi,\n",
       "       0.991633250213594*pi, 1.01678374956015*pi, 1.04208119205152*pi,\n",
       "       1.06751872541668*pi, 1.09308949738465*pi, 1.11878665568442*pi,\n",
       "       1.14460334804499*pi, 1.17053272219536*pi, 1.19656792586452*pi,\n",
       "       1.22270210678148*pi, 1.24892841267523*pi, 1.27523999127477*pi,\n",
       "       1.30162999030911*pi, 1.32809155750724*pi, 1.35461784059816*pi,\n",
       "       1.38120198731086*pi, 1.40783714537436*pi, 1.43451646251763*pi,\n",
       "       1.4612330864697*pi, 1.48798016495954*pi, 1.51475084571617*pi,\n",
       "       1.54153827646858*pi, 1.56833560494577*pi, 1.59513597887673*pi,\n",
       "       1.62193254599048*pi, 1.648718454016*pi, 1.67548685068229*pi,\n",
       "       1.70223088371836*pi, 1.7289437008532*pi, 1.75561844981581*pi,\n",
       "       1.78224827833519*pi, 1.80882633414034*pi, 1.83534576496025*pi,\n",
       "       1.86179971852393*pi, 1.88818134256038*pi, 1.91448378479859*pi,\n",
       "       1.94070019296757*pi, 1.9668237147963*pi, 1.99284749801379*pi,\n",
       "       2.01876469034905*pi, 2.04456843953106*pi, 2.07025189328882*pi,\n",
       "       2.09580819935134*pi, 2.12123050544762*pi, 2.14651195930665*pi,\n",
       "       2.17164570865743*pi, 2.19662490122895*pi, 2.22144268475023*pi,\n",
       "       2.24609220695026*pi, 2.27056661555803*pi, 2.29485905830255*pi,\n",
       "       2.31896268291281*pi, 2.34287063711781*pi, 2.36657606864656*pi,\n",
       "       2.39007212522804*pi, 2.41335195459127*pi, 2.43640870446523*pi,\n",
       "       2.45923552257893*pi, 2.48182555666137*pi, 2.50417195444153*pi,\n",
       "       2.52626786364844*pi, 2.54810643201107*pi, 2.56968080725843*pi,\n",
       "       2.59098413711953*pi, 2.61200956932335*pi, 2.63275025159889*pi,\n",
       "       2.65319933167517*pi, 2.67334995728117*pi, 2.69319527614589*pi,\n",
       "       2.71272843599833*pi, 2.73194258456749*pi, 2.75083086958238*pi,\n",
       "       2.76938643877198*pi, 2.78760243986529*pi, 2.80547202059133*pi,\n",
       "       2.82298832867908*pi, 2.84014451185754*pi, 2.85693371785571*pi,\n",
       "       2.8733490944026*pi, 2.88938378922719*pi, 2.90503095005849*pi,\n",
       "       2.9202837246255*pi, 2.93513526065722*pi, 2.94957870588264*pi,\n",
       "       2.96360720803076*pi, 2.97721391483059*pi, 2.99039197401111*pi,\n",
       "       3.00313453330134*pi, 3.01543474043026*pi, 3.02728574312689*pi,\n",
       "       3.03868068912021*pi, 3.04961272613922*pi, 3.06007500191293*pi,\n",
       "       3.07006066417033*pi, 3.07956286064042*pi, 3.0885747390522*pi,\n",
       "       3.09708944713467*pi, 3.10510013261682*pi, 3.11259994322767*pi,\n",
       "       3.11958202669619*pi, 3.12603953075141*pi, 3.1319656031223*pi,\n",
       "       3.13735339153788*pi, 3.14219604372713*pi, 3.14648670741907*pi,\n",
       "       3.15021853034268*pi, 3.15338466022697*pi, 3.15597824480093*pi,\n",
       "       3.15799243179357*pi, 3.15942036893388*pi, 3.16025520395087*pi,\n",
       "       3.16049008457352*pi, 3.16011815853084*pi, 3.15913257355183*pi,\n",
       "       3.15752647736549*pi, 3.15529301770081*pi, 3.1524253422868*pi,\n",
       "       3.14891659885245*pi, 3.14475993512676*pi, 3.13994849883873*pi,\n",
       "       3.13447543771736*pi, 3.12833389949165*pi, 3.1215170318906*pi,\n",
       "       3.1140179826432*pi, 3.10582989947845*pi, 3.09694593012536*pi,\n",
       "       3.08735922231292*pi, 3.07706292377013*pi, 3.066050182226*pi,\n",
       "       3.05431414540951*pi, 3.04184796104966*pi, 3.02864477687546*pi,\n",
       "       3.01469774061591*pi, 3.0*pi], dtype=object)"
      ]
     },
     "execution_count": 39,
     "metadata": {},
     "output_type": "execute_result"
    }
   ],
   "source": [
    "ynum = V(xnum)\n",
    "ynum"
   ]
  },
  {
   "cell_type": "code",
   "execution_count": 40,
   "metadata": {},
   "outputs": [
    {
     "data": {
      "image/png": "[encoded data removed]",
      "text/plain": [
       "<Figure size 432x288 with 1 Axes>"
      ]
     },
     "metadata": {
      "needs_background": "light"
     },
     "output_type": "display_data"
    }
   ],
   "source": [
    "plt.plot(xnum,ynum)\n",
    "plt.plot(sol[1],V(sol[1]), '*r',ms=10)\n",
    "plt.grid()"
   ]
  },
  {
   "cell_type": "markdown",
   "metadata": {},
   "source": [
    "* Para maximizar el volumen h tiene que ser igual a $\\frac{8}{3}$"
   ]
  },
  {
   "cell_type": "code",
   "execution_count": null,
   "metadata": {},
   "outputs": [],
   "source": []
  },
  {
   "cell_type": "code",
   "execution_count": null,
   "metadata": {},
   "outputs": [],
   "source": []
  },
  {
   "cell_type": "code",
   "execution_count": null,
   "metadata": {},
   "outputs": [],
   "source": []
  },
  {
   "cell_type": "markdown",
   "metadata": {},
   "source": [
    ">**3.3.-** ¿Cuál es el volumen máximo del cono?"
   ]
  },
  {
   "cell_type": "code",
   "execution_count": 41,
   "metadata": {},
   "outputs": [
    {
     "data": {
      "text/latex": [
       "$\\displaystyle \\frac{256 \\pi}{81}$"
      ],
      "text/plain": [
       "256*pi/81"
      ]
     },
     "execution_count": 41,
     "metadata": {},
     "output_type": "execute_result"
    }
   ],
   "source": [
    "V(sol[1])"
   ]
  },
  {
   "cell_type": "markdown",
   "metadata": {},
   "source": [
    "* El volumen máximo del cono puede ser $\\frac{256\\pi}{81}$"
   ]
  },
  {
   "cell_type": "code",
   "execution_count": null,
   "metadata": {},
   "outputs": [],
   "source": []
  }
 ],
 "metadata": {
  "kernelspec": {
   "display_name": "Python 3 (ipykernel)",
   "language": "python",
   "name": "python3"
  },
  "language_info": {
   "codemirror_mode": {
    "name": "ipython",
    "version": 3
   },
   "file_extension": ".py",
   "mimetype": "text/x-python",
   "name": "python",
   "nbconvert_exporter": "python",
   "pygments_lexer": "ipython3",
   "version": "3.12.4"
  }
 },
 "nbformat": 4,
 "nbformat_minor": 4
}
