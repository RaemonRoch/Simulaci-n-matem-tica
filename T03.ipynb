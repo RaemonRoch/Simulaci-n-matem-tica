{
 "cells": [
  {
   "cell_type": "markdown",
   "id": "0bdb93f9-776e-423f-a378-8c68709f718f",
   "metadata": {},
   "source": [
    "# Juan Ramón López Rocha #"
   ]
  },
  {
   "cell_type": "markdown",
   "id": "18f49438-f1eb-469a-b0ad-468dc7abce44",
   "metadata": {},
   "source": [
    "### 5 de agosto ###"
   ]
  },
  {
   "cell_type": "markdown",
   "id": "e748a3d8-417a-4d17-8985-0d08759de664",
   "metadata": {},
   "source": [
    "### Resuelve los siguientes problemas usando sympy:\r\n",
    "\r\n",
    "1. El perímetro de un triángulo isósceles es de 20 cm. Imagina que este triángulo rota centrado en su eje de simetría para formar la ilusión de un con\n",
    "   ¿Cuánto deben medir sus lados para que el volumen generado por la rotación sea el mayor posible?\n",
    "o."
   ]
  },
  {
   "cell_type": "markdown",
   "id": "95938813-bb1e-49c6-b7b0-00e5381b1280",
   "metadata": {},
   "source": [
    "$$ Formulas $$\n",
    "$$ V = \\frac{1}{3}\\pi r^2 h $$\n",
    "$$ b + 2l = 10 $$\n",
    "$$ r = b/2 $$\n",
    "$$ l^2 = r^2 + h^2 $$"
   ]
  },
  {
   "cell_type": "code",
   "execution_count": 33,
   "id": "dd99feb8-73b9-4dca-930a-bd7032e49f87",
   "metadata": {},
   "outputs": [],
   "source": [
    "import sympy as sp\n",
    "l = sp.var(\"l\")\n",
    "b = sp.var(\"b\")\n",
    "r = sp.var(\"r\")\n",
    "h = sp.var(\"h\")\n",
    "def v(r,h):\n",
    "    return sp.pi/3*r**2*h"
   ]
  },
  {
   "cell_type": "code",
   "execution_count": 34,
   "id": "efa080d2-c363-44df-920f-15025edf7f5e",
   "metadata": {},
   "outputs": [],
   "source": [
    "restriccion = b + 2*l - 20\n",
    "radio = b/2\n",
    "pit = l**2 - r**2 - h**2"
   ]
  },
  {
   "cell_type": "code",
   "execution_count": 35,
   "id": "2934953c-2e07-4969-b2a3-898e1cd09735",
   "metadata": {},
   "outputs": [
    {
     "data": {
      "text/latex": [
       "$\\displaystyle \\sqrt{\\left(l - r\\right) \\left(l + r\\right)}$"
      ],
      "text/plain": [
       "sqrt((l - r)*(l + r))"
      ]
     },
     "execution_count": 35,
     "metadata": {},
     "output_type": "execute_result"
    }
   ],
   "source": [
    "altura = sp.solve(pit,h)[1]\n",
    "altura"
   ]
  },
  {
   "cell_type": "code",
   "execution_count": 38,
   "id": "a6d3bd88-d73f-4024-ba63-b78586914a9b",
   "metadata": {},
   "outputs": [
    {
     "data": {
      "text/latex": [
       "$\\displaystyle \\frac{\\pi b^{2} \\sqrt{\\left(- \\frac{b}{2} + l\\right) \\left(\\frac{b}{2} + l\\right)}}{12}$"
      ],
      "text/plain": [
       "pi*b**2*sqrt((-b/2 + l)*(b/2 + l))/12"
      ]
     },
     "execution_count": 38,
     "metadata": {},
     "output_type": "execute_result"
    }
   ],
   "source": [
    "v2 = v(r,h).subs(h,altura).subs(r,radio)\n",
    "v2"
   ]
  },
  {
   "cell_type": "code",
   "execution_count": 41,
   "id": "081e94aa-7dbe-4283-9680-eec0c70b980a",
   "metadata": {},
   "outputs": [
    {
     "data": {
      "text/latex": [
       "$\\displaystyle 10 - \\frac{b}{2}$"
      ],
      "text/plain": [
       "10 - b/2"
      ]
     },
     "execution_count": 41,
     "metadata": {},
     "output_type": "execute_result"
    }
   ],
   "source": [
    "lado = sp.solve(restriccion,l)[0]\n",
    "lado"
   ]
  },
  {
   "cell_type": "code",
   "execution_count": 42,
   "id": "2aea5d42-daa2-4823-ac15-fa48dd471bfd",
   "metadata": {},
   "outputs": [
    {
     "data": {
      "text/latex": [
       "$\\displaystyle \\frac{\\pi b^{2} \\sqrt{100 - 10 b}}{12}$"
      ],
      "text/plain": [
       "pi*b**2*sqrt(100 - 10*b)/12"
      ]
     },
     "execution_count": 42,
     "metadata": {},
     "output_type": "execute_result"
    }
   ],
   "source": [
    "v3 = v2.subs(l,lado)\n",
    "v3"
   ]
  },
  {
   "cell_type": "code",
   "execution_count": 43,
   "id": "b22f1ebb-60db-444e-9c06-6602091d2f69",
   "metadata": {},
   "outputs": [
    {
     "data": {
      "text/latex": [
       "$\\displaystyle - \\frac{5 \\pi b^{2}}{12 \\sqrt{100 - 10 b}} + \\frac{\\pi b \\sqrt{100 - 10 b}}{6}$"
      ],
      "text/plain": [
       "-5*pi*b**2/(12*sqrt(100 - 10*b)) + pi*b*sqrt(100 - 10*b)/6"
      ]
     },
     "execution_count": 43,
     "metadata": {},
     "output_type": "execute_result"
    }
   ],
   "source": [
    "dv3 = sp.diff(v3,b)\n",
    "dv3"
   ]
  },
  {
   "cell_type": "code",
   "execution_count": 44,
   "id": "1665dcbf-fc92-434a-a392-50fde73c3ca9",
   "metadata": {},
   "outputs": [
    {
     "data": {
      "text/plain": [
       "[0, 8]"
      ]
     },
     "execution_count": 44,
     "metadata": {},
     "output_type": "execute_result"
    }
   ],
   "source": [
    "sp.solve(dv3,b)"
   ]
  },
  {
   "cell_type": "code",
   "execution_count": 45,
   "id": "706d8b56-c92e-4b5f-8f3f-06ae6296599d",
   "metadata": {},
   "outputs": [
    {
     "data": {
      "text/latex": [
       "$\\displaystyle 6$"
      ],
      "text/plain": [
       "6"
      ]
     },
     "execution_count": 45,
     "metadata": {},
     "output_type": "execute_result"
    }
   ],
   "source": [
    "lado.subs(b,8)"
   ]
  },
  {
   "cell_type": "markdown",
   "id": "180e1cc2-8ac6-422f-9e81-16043f6e96b9",
   "metadata": {},
   "source": [
    "El lado debe de medir 6 cm"
   ]
  },
  {
   "cell_type": "markdown",
   "id": "7daf87e5-e9ed-4e28-ad9b-f5821882c548",
   "metadata": {},
   "source": [
    "2. Disponemos de una barra de aluminio de 6 metros para construir una portería de fútbol en un parque. Es una portería simple que tendrá sólo dos postes y el travesaño:\n",
    "Si queremos que el área de la portería sea máxima, ¿cuánto deben medir los postes y el travesaño?"
   ]
  },
  {
   "cell_type": "code",
   "execution_count": 47,
   "id": "4900c841-5e58-4c4c-b992-c66e3415e9a0",
   "metadata": {},
   "outputs": [],
   "source": [
    "x = sp.var(\"x\")\n",
    "y = sp.var(\"y\")\n",
    "def A(x,y):\n",
    "    return x*y\n",
    "\n",
    "restriccion = x + 2*y - 6"
   ]
  },
  {
   "cell_type": "code",
   "execution_count": 49,
   "id": "78f12d3b-bcd2-4dd7-b6c7-ce0b4a71e99d",
   "metadata": {},
   "outputs": [
    {
     "data": {
      "text/latex": [
       "$\\displaystyle 6 - 2 y$"
      ],
      "text/plain": [
       "6 - 2*y"
      ]
     },
     "execution_count": 49,
     "metadata": {},
     "output_type": "execute_result"
    }
   ],
   "source": [
    "xy = sp.solve(restriccion,x)[0]\n",
    "xy"
   ]
  },
  {
   "cell_type": "code",
   "execution_count": 50,
   "id": "0c2b0f65-382a-4a14-94fb-16651fded359",
   "metadata": {},
   "outputs": [
    {
     "data": {
      "text/latex": [
       "$\\displaystyle y \\left(6 - 2 y\\right)$"
      ],
      "text/plain": [
       "y*(6 - 2*y)"
      ]
     },
     "execution_count": 50,
     "metadata": {},
     "output_type": "execute_result"
    }
   ],
   "source": [
    "Ay = A(x,y).subs(x,xy)\n",
    "Ay"
   ]
  },
  {
   "cell_type": "code",
   "execution_count": 51,
   "id": "31503073-671c-4542-9d9c-cb2fa22eb812",
   "metadata": {},
   "outputs": [
    {
     "data": {
      "text/latex": [
       "$\\displaystyle 6 - 4 y$"
      ],
      "text/plain": [
       "6 - 4*y"
      ]
     },
     "execution_count": 51,
     "metadata": {},
     "output_type": "execute_result"
    }
   ],
   "source": [
    "dA = sp.diff(Ay,y)\n",
    "dA"
   ]
  },
  {
   "cell_type": "code",
   "execution_count": 52,
   "id": "72964c54-fc51-45a5-9110-e917acfb48be",
   "metadata": {},
   "outputs": [
    {
     "data": {
      "text/latex": [
       "$\\displaystyle \\frac{3}{2}$"
      ],
      "text/plain": [
       "3/2"
      ]
     },
     "execution_count": 52,
     "metadata": {},
     "output_type": "execute_result"
    }
   ],
   "source": [
    "sp.solve(dA,y)[0]"
   ]
  },
  {
   "cell_type": "markdown",
   "id": "054f1518-739f-4ce9-bd77-392e714c9be6",
   "metadata": {},
   "source": [
    "Los postes deben de medir 1.5 metros"
   ]
  },
  {
   "cell_type": "code",
   "execution_count": 53,
   "id": "538f0d11-5b1c-4288-9998-089f37975e0c",
   "metadata": {},
   "outputs": [
    {
     "data": {
      "text/latex": [
       "$\\displaystyle 3.0$"
      ],
      "text/plain": [
       "3.00000000000000"
      ]
     },
     "execution_count": 53,
     "metadata": {},
     "output_type": "execute_result"
    }
   ],
   "source": [
    "xy.subs(y,1.5)"
   ]
  },
  {
   "cell_type": "markdown",
   "id": "0b2d0094-708c-4936-981c-744845bfd04e",
   "metadata": {},
   "source": [
    "El travesaño debe medir 3 metros"
   ]
  },
  {
   "cell_type": "markdown",
   "id": "d917128f-8495-49b8-a8f1-668f59a860e0",
   "metadata": {},
   "source": [
    "3. Una viga de madera tiene una sección transversal rectangular de altura *h* y ancho *w*. La resistencia *S* de la viga es directamente proporcional al ancho y al cuadrado de su altura *(S = kwh^2, donde k es una constante de proporcionalidad)*. ¿Cuáles son las dimensiones de la viga más fuerte que puede cortarse a partir de un leño redondo de 24 pulgadas de diámetro?"
   ]
  },
  {
   "cell_type": "code",
   "execution_count": 15,
   "id": "26d0cbbe-1f9a-47cb-9637-3d798dd2c32e",
   "metadata": {},
   "outputs": [
    {
     "data": {
      "image/png": "[encoded data removed]",
      "text/plain": [
       "<Figure size 640x480 with 1 Axes>"
      ]
     },
     "metadata": {},
     "output_type": "display_data"
    }
   ],
   "source": [
    "import numpy as np\n",
    "import matplotlib.pyplot as plt\n",
    "import matplotlib.patches as patches\n",
    "\n",
    "C = patches.Circle((0, 0),12, fill=False,color='green',lw=1)\n",
    "S = patches.Rectangle((-9,-8),18,16,fill=False,color='g')\n",
    "ax = plt.gca()\n",
    "ax.add_artist(S)\n",
    "ax.add_artist(C)\n",
    "\n",
    "plt.text(0,8.5,'$w$')\n",
    "plt.text(9.5,0,'$h$')\n",
    "\n",
    "plt.plot([-9,9],[-8,8],'g--')\n",
    "plt.text(0,2,'$24$')\n",
    "\n",
    "plt.axis('equal')\n",
    "plt.ylim([-15,15])\n",
    "plt.axis('off')\n",
    "plt.show()"
   ]
  },
  {
   "cell_type": "code",
   "execution_count": 72,
   "id": "68c3d52a-7435-4015-9253-fed91522556c",
   "metadata": {},
   "outputs": [],
   "source": [
    "k = sp.var(\"k\")\n",
    "w = sp.var(\"w\")\n",
    "h = sp.var(\"h\")\n",
    "def S(k,w,h):\n",
    "    return k*w*h**2\n",
    "    \n",
    "restriccion = w**2 + h**2 - 24**2"
   ]
  },
  {
   "cell_type": "code",
   "execution_count": 73,
   "id": "1213c4ba-7b03-49ac-b433-d65802e8e88a",
   "metadata": {},
   "outputs": [
    {
     "data": {
      "text/latex": [
       "$\\displaystyle \\sqrt{576 - h^{2}}$"
      ],
      "text/plain": [
       "sqrt(576 - h**2)"
      ]
     },
     "execution_count": 73,
     "metadata": {},
     "output_type": "execute_result"
    }
   ],
   "source": [
    "ancho = sp.solve(restriccion,w)[1]\n",
    "ancho"
   ]
  },
  {
   "cell_type": "code",
   "execution_count": 74,
   "id": "8acc0c0f-b89b-4b65-9a26-96f8e2ad45fc",
   "metadata": {},
   "outputs": [
    {
     "data": {
      "text/latex": [
       "$\\displaystyle h^{2} k \\sqrt{576 - h^{2}}$"
      ],
      "text/plain": [
       "h**2*k*sqrt(576 - h**2)"
      ]
     },
     "execution_count": 74,
     "metadata": {},
     "output_type": "execute_result"
    }
   ],
   "source": [
    "resis = S(k,w,h).subs(w,ancho)\n",
    "resis"
   ]
  },
  {
   "cell_type": "code",
   "execution_count": 75,
   "id": "19134829-80cb-4766-98d5-59ca66b2cb9f",
   "metadata": {},
   "outputs": [
    {
     "data": {
      "text/latex": [
       "$\\displaystyle - \\frac{h^{3} k}{\\sqrt{576 - h^{2}}} + 2 h k \\sqrt{576 - h^{2}}$"
      ],
      "text/plain": [
       "-h**3*k/sqrt(576 - h**2) + 2*h*k*sqrt(576 - h**2)"
      ]
     },
     "execution_count": 75,
     "metadata": {},
     "output_type": "execute_result"
    }
   ],
   "source": [
    "dA = sp.diff(resis,h)\n",
    "dA"
   ]
  },
  {
   "cell_type": "code",
   "execution_count": 79,
   "id": "d5907997-5d3f-41c6-8441-f14cded9e728",
   "metadata": {},
   "outputs": [
    {
     "data": {
      "text/latex": [
       "$\\displaystyle 8 \\sqrt{6}$"
      ],
      "text/plain": [
       "8*sqrt(6)"
      ]
     },
     "execution_count": 79,
     "metadata": {},
     "output_type": "execute_result"
    }
   ],
   "source": [
    "altura = sp.solve(dA,h)[2]\n",
    "altura"
   ]
  },
  {
   "cell_type": "markdown",
   "id": "5593b7f6-0a7c-47d1-ba9a-c83a14c123d4",
   "metadata": {},
   "source": [
    "La altura *h* es 19.59"
   ]
  },
  {
   "cell_type": "code",
   "execution_count": 82,
   "id": "891db12b-b698-4afc-95a1-5711d510c566",
   "metadata": {},
   "outputs": [
    {
     "data": {
      "text/latex": [
       "$\\displaystyle w^{2} - 192$"
      ],
      "text/plain": [
       "w**2 - 192"
      ]
     },
     "execution_count": 82,
     "metadata": {},
     "output_type": "execute_result"
    }
   ],
   "source": [
    "ancho1 = restriccion.subs(h,altura)\n",
    "ancho1"
   ]
  },
  {
   "cell_type": "code",
   "execution_count": 84,
   "id": "8ac841c5-22dc-4b8d-bc0a-5af6dcb9094c",
   "metadata": {},
   "outputs": [
    {
     "data": {
      "text/latex": [
       "$\\displaystyle 8 \\sqrt{3}$"
      ],
      "text/plain": [
       "8*sqrt(3)"
      ]
     },
     "execution_count": 84,
     "metadata": {},
     "output_type": "execute_result"
    }
   ],
   "source": [
    "sp.solve(ancho1,w)[1]"
   ]
  },
  {
   "cell_type": "markdown",
   "id": "de8fc9de-4226-4f31-92a6-5315cfd48e51",
   "metadata": {},
   "source": [
    "El ancho es 13.86"
   ]
  },
  {
   "cell_type": "code",
   "execution_count": null,
   "id": "ad7842a9-7a38-4f90-bf7c-3c06da2d5a75",
   "metadata": {},
   "outputs": [],
   "source": []
  },
  {
   "cell_type": "markdown",
   "id": "7ba6fc4d-2c61-43ef-864e-0d19b8f68a77",
   "metadata": {},
   "source": [
    "4. Una fuente luminosa se localiza sobre el centro de una mesa circular de 4 pies de diámetro. Encontrar la altura *h* de la fuente luminosa de modo tal que la iluminación *I* en el perímetro de la mesa sea máxima si *I = k(sin a)/s^2*, donde *s* es la altura oblicua, *a* es el ángulo la cual la luz incide sobre la mesa y *k* es una constante (El valor de esta última constante es irrelavante para el problema, ya que no se pide el valor de la iluminación)"
   ]
  },
  {
   "cell_type": "code",
   "execution_count": 55,
   "id": "63c63134-5cb5-4681-bf67-5032be6c2a4a",
   "metadata": {},
   "outputs": [
    {
     "data": {
      "image/png": "[encoded data removed]",
      "text/plain": [
       "<Figure size 640x480 with 1 Axes>"
      ]
     },
     "metadata": {},
     "output_type": "display_data"
    }
   ],
   "source": [
    "E = patches.Ellipse((0, 0),10, 3,fc='white',ec='brown')\n",
    "C = patches.Circle((0,10.5),0.5,color='y')\n",
    "a = patches.Arc((-5,0),2,2,theta2=60)\n",
    "p1 = patches.Rectangle((-5, -2),0.5, 2, fill=False,color='brown')\n",
    "p2 = patches.Rectangle((4.5, -2),0.5, 2, fill=False,color='brown')\n",
    "p3 = patches.Rectangle((-0.25, -3),0.5, 2, fill=False,color='brown')\n",
    "ax = plt.gca()\n",
    "ax.add_artist(p1)\n",
    "ax.add_artist(p2)\n",
    "ax.add_artist(p3)\n",
    "ax.add_artist(E)\n",
    "ax.add_artist(C)\n",
    "ax.add_artist(a)\n",
    "\n",
    "plt.text(2,5,'$s$')\n",
    "plt.text(0,3,'$h$')\n",
    "plt.text(-4,0.5,r'$\\alpha$')\n",
    "plt.text(-0.5,-1,'$4$ pies')\n",
    "\n",
    "plt.plot([-5,0,5],[0,10,0],'y--')\n",
    "plt.plot([-5,5],[0,0],'k--')\n",
    "plt.plot([0,0],[0,10],'k--')\n",
    "\n",
    "\n",
    "plt.axis('equal')\n",
    "plt.ylim([-3.1,12])\n",
    "plt.axis('off')\n",
    "plt.show()"
   ]
  },
  {
   "cell_type": "code",
   "execution_count": 86,
   "id": "0c5254fc-22f4-480d-b3a3-9ebfee5a4df1",
   "metadata": {},
   "outputs": [],
   "source": [
    "k = sp.var(\"k\")\n",
    "s = sp.var(\"s\")\n",
    "a = sp.var(\"a\")\n",
    "def I(k,s,a):\n",
    "    return k*(sp.sin*a)%s**2\n",
    "    \n",
    "restriccion = r**2 + h**2 - s**2"
   ]
  },
  {
   "cell_type": "markdown",
   "id": "1d5ff640-7495-48d7-a56c-c96bf143cc04",
   "metadata": {},
   "source": [
    "$$ r = d/2 $$\n",
    "$$ \\sin{a} = r/h $$"
   ]
  },
  {
   "cell_type": "code",
   "execution_count": 88,
   "id": "6ae4f8d4-0fe7-4ae5-9af8-b32ed3a845c3",
   "metadata": {},
   "outputs": [
    {
     "data": {
      "text/plain": [
       "2.0"
      ]
     },
     "execution_count": 88,
     "metadata": {},
     "output_type": "execute_result"
    }
   ],
   "source": [
    "r = 4/2\n",
    "r"
   ]
  },
  {
   "cell_type": "code",
   "execution_count": null,
   "id": "1a14dc2c-d610-4ba5-b571-6f879510249e",
   "metadata": {},
   "outputs": [],
   "source": []
  },
  {
   "cell_type": "code",
   "execution_count": null,
   "id": "e52618b7-43ed-404e-9569-989336a5d7be",
   "metadata": {},
   "outputs": [],
   "source": []
  },
  {
   "cell_type": "code",
   "execution_count": null,
   "id": "7969f7af-f236-49ca-86a7-0cea63908300",
   "metadata": {},
   "outputs": [],
   "source": []
  },
  {
   "cell_type": "code",
   "execution_count": null,
   "id": "4331e83e-15e3-4eb3-96dd-027b935be1fb",
   "metadata": {},
   "outputs": [],
   "source": []
  },
  {
   "cell_type": "markdown",
   "id": "a501cc17-e951-47ca-ae1c-46507693db9f",
   "metadata": {},
   "source": [
    "5. Se diseña un componente para deslizar  un bloque de acero con peso *W = 10N* a través de una mesa y sobre una canaleta. Se opone al movimiento del bloque una fuerza de fricción proporcional a su peso aparente *(sea k = 0.1 la constante de proporcionalidad)*. Determinar la fuerza mínima *f* necesaria para deslizar el bloque y encontrar el valor correspondiente de "
   ]
  },
  {
   "cell_type": "code",
   "execution_count": 85,
   "id": "3df2d7db-a3f7-4dfb-82b1-a0482a7537b4",
   "metadata": {},
   "outputs": [
    {
     "data": {
      "image/png": "[encoded data removed]",
      "text/plain": [
       "<Figure size 640x480 with 1 Axes>"
      ]
     },
     "metadata": {},
     "output_type": "display_data"
    }
   ],
   "source": [
    "W = patches.Rectangle((0, 2),0.8, 0.5, fill=False,color='k')\n",
    "a = patches.Arrow(0.8,2.25,1,0.5,width=0.1,color='k')\n",
    "arc = patches.Arc((0.8,2.25),1,1,theta2=30)\n",
    "ax = plt.gca()\n",
    "ax.add_artist(W)\n",
    "ax.add_artist(a)\n",
    "ax.add_artist(arc)\n",
    "\n",
    "plt.text(0.2,2.6,'$W$')\n",
    "plt.text(1.8,3,'$f$')\n",
    "plt.text(1.35,2.305,r'$\\theta$')\n",
    "\n",
    "plt.plot([1.8,2.8],[2.75,3.25],'k')\n",
    "plt.plot([0.8,2],[2.25,2.25],'k--')\n",
    "plt.plot([-1,-1,2,2],[0,2,2,0],'k')\n",
    "\n",
    "\n",
    "plt.axis('equal')\n",
    "plt.ylim([0,4])\n",
    "plt.axis('off')\n",
    "plt.show()"
   ]
  },
  {
   "cell_type": "code",
   "execution_count": null,
   "id": "3268e88f-5f8e-4585-99fb-56df60adbb37",
   "metadata": {},
   "outputs": [],
   "source": []
  }
 ],
 "metadata": {
  "kernelspec": {
   "display_name": "Python 3 (ipykernel)",
   "language": "python",
   "name": "python3"
  },
  "language_info": {
   "codemirror_mode": {
    "name": "ipython",
    "version": 3
   },
   "file_extension": ".py",
   "mimetype": "text/x-python",
   "name": "python",
   "nbconvert_exporter": "python",
   "pygments_lexer": "ipython3",
   "version": "3.12.4"
  }
 },
 "nbformat": 4,
 "nbformat_minor": 5
}
