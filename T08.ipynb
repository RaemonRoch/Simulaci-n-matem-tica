{
 "cells": [
  {
   "cell_type": "markdown",
   "id": "4259fc3f-4ab0-4c11-a230-4b092d0369a4",
   "metadata": {},
   "source": [
    "## T08 - Distribuciones de probabilidad"
   ]
  },
  {
   "cell_type": "markdown",
   "id": "318903ab-ec50-4335-be28-3e866807b2d8",
   "metadata": {},
   "source": [
    "|                |   |\n",
    ":----------------|---|\n",
    "| **Nombre**     | Juan Ramón López Rocha  |\n",
    "| **Fecha**      | 24 de octubre  |\n",
    "| **Expediente** | 739950  | \n",
    "\n"
   ]
  },
  {
   "cell_type": "markdown",
   "id": "5e2526ab-c5eb-47c3-8619-b69776c2ba83",
   "metadata": {},
   "source": [
    "1.- Un proyecto de construcción está por comenzar. Se hace la compra de los materiales y el proveedor dice que en promedio tardan una semana con una desviación de 3 días en llegar. Una vez llegados los materiales se tarda entre 3 y 5 semanas en construir (uniforme). Después de la construcción se deben esperar 3 días antes de empezar a pintar, y toma 6 días en promedio con 2 días de desviación estándar hacerlo."
   ]
  },
  {
   "cell_type": "markdown",
   "id": "f4ec7d0e-419b-4c4f-8f52-3f5be4712328",
   "metadata": {},
   "source": [
    "a) Describe en una celda qué distribución usarías para cada paso del proceso\n",
    "* Distribución normal para los materiales y uniforme para construcción \n",
    "\n",
    "b) Simula cada paso en el proceso un millón de veces\n",
    "\n",
    "c) Agrupa las simulaciones de cada paso para tener la simulación del proceso completo\n",
    "\n",
    "d) ¿Cuál es el tiempo promedio para de inicio-fin del proyecto?\n",
    "\n",
    "e) De acuerdo a tus simulaciones, ¿cuál es el peor caso? ¿cuál es el mejor caso?\n",
    "\n",
    "f) Si el proyecto se tiene que entregar a más tardar en 50 días o se tiene que pagar una compensación al cliente, ¿cuál es la probabilidad de que el proyecto se entregue a tiempo?\n",
    "\n",
    "g) ¿Cuál es la probabilidad de que el proyecto tome entre 20 y 40 días?"
   ]
  },
  {
   "cell_type": "code",
   "execution_count": 4,
   "id": "d09f3d4c-a479-44ac-90d9-dc68484d19a6",
   "metadata": {},
   "outputs": [],
   "source": [
    "import numpy as np\n",
    "n=1000000\n",
    "materiales=np.random.normal(7, 3, n) \n",
    "construccion=np.random.uniform(21, 35, n)\n",
    "pintura=np.random.normal(6, 2, n)"
   ]
  },
  {
   "cell_type": "code",
   "execution_count": 5,
   "id": "fe064d65-b048-4c1a-a9a0-7cac82cbf8a8",
   "metadata": {},
   "outputs": [
    {
     "data": {
      "text/plain": [
       "array([44.02086494, 42.22157944, 41.29331525, ..., 40.60754376,\n",
       "       43.1447859 , 34.26916055])"
      ]
     },
     "execution_count": 5,
     "metadata": {},
     "output_type": "execute_result"
    }
   ],
   "source": [
    "Proceso_com = materiales + construccion + 3 + pintura\n",
    "Proceso_com"
   ]
  },
  {
   "cell_type": "code",
   "execution_count": 6,
   "id": "656f7dc2-aeaf-402c-a5b7-6c00ea4c2e59",
   "metadata": {},
   "outputs": [
    {
     "data": {
      "text/plain": [
       "43.996679701503"
      ]
     },
     "execution_count": 6,
     "metadata": {},
     "output_type": "execute_result"
    }
   ],
   "source": [
    "Proceso_com.mean()"
   ]
  },
  {
   "cell_type": "code",
   "execution_count": 7,
   "id": "5397b361-6f2a-4856-8e81-9bfaff8c7c34",
   "metadata": {},
   "outputs": [
    {
     "data": {
      "text/plain": [
       "22.658461200494756"
      ]
     },
     "execution_count": 7,
     "metadata": {},
     "output_type": "execute_result"
    }
   ],
   "source": [
    "Proceso_com.min()"
   ]
  },
  {
   "cell_type": "code",
   "execution_count": 8,
   "id": "d3874228-d79e-444b-873a-379e21518ab4",
   "metadata": {},
   "outputs": [
    {
     "data": {
      "text/plain": [
       "65.89638818139223"
      ]
     },
     "execution_count": 8,
     "metadata": {},
     "output_type": "execute_result"
    }
   ],
   "source": [
    "Proceso_com.max()"
   ]
  },
  {
   "cell_type": "code",
   "execution_count": 10,
   "id": "71ddf6b9-4602-4458-9c15-6ca370d3ae1d",
   "metadata": {},
   "outputs": [
    {
     "data": {
      "text/plain": [
       "0.857597"
      ]
     },
     "execution_count": 10,
     "metadata": {},
     "output_type": "execute_result"
    }
   ],
   "source": [
    "Dias = Proceso_com <= 50\n",
    "Dias.sum()/n"
   ]
  },
  {
   "cell_type": "code",
   "execution_count": 15,
   "id": "4f1c9883-291e-4b4e-a8c5-b3b495ff4aef",
   "metadata": {},
   "outputs": [
    {
     "data": {
      "text/plain": [
       "0.244322"
      ]
     },
     "execution_count": 15,
     "metadata": {},
     "output_type": "execute_result"
    }
   ],
   "source": [
    "Dias2 = (Proceso_com >= 20) & (Proceso_com <=40) \n",
    "Dias2.sum()/n"
   ]
  },
  {
   "cell_type": "markdown",
   "id": "1b0cd976-e4da-4be7-891f-f64a7d192e22",
   "metadata": {},
   "source": [
    "Hay un elevador pequeño en una plaza donde se espera que entren máximo 4 personas a la vez, y su capacidad de peso para poder operar es de 300 kg. En el último censo se encontró que habían 378350 personas en la zona:2 kg."
   ]
  },
  {
   "cell_type": "markdown",
   "id": "7fe5f6db-2639-4471-89e1-75d4f20b2f77",
   "metadata": {},
   "source": [
    "* 185392 mujeres\n",
    "* 162690 hombres\n",
    "* 30268 personas que o prefirieron no dar informacion o se identificaron como no binarias"
   ]
  },
  {
   "cell_type": "markdown",
   "id": "a0fb5f66-042b-4e2e-9cd5-b86365fa51f7",
   "metadata": {},
   "source": [
    "El peso promedio medido en mujeres es de 70 kg con una desviación estándar de 11 kg. En los hombres se midió un peso promedio de 80 kg y una desviación estándar de 16 kg. En el tercer grupo se midió un peso promedio de 73 kg con una desviación estándar de 12 kg."
   ]
  },
  {
   "cell_type": "markdown",
   "id": "b86287b8-c691-48b2-a36b-30e32ccd3845",
   "metadata": {},
   "source": [
    "a) Si el elevador se llenara 10,000 veces, ¿cuántas de esas veces se excedería el peso permitido? 1132 veces\n",
    "\n",
    "b) ¿Qué peso total tendría que soportar el elevador si se quiere que el 95% de las veces que se llene no se exceda el peso permitido? 321.73 kg"
   ]
  },
  {
   "cell_type": "code",
   "execution_count": 50,
   "id": "f2c7a672-6bfb-4505-b951-a241b3f420e6",
   "metadata": {},
   "outputs": [
    {
     "name": "stdout",
     "output_type": "stream",
     "text": [
      "1178.0\n",
      "323.0491271618674\n"
     ]
    }
   ],
   "source": [
    "import numpy as np\n",
    "\n",
    "n = 10000\n",
    "elevador = 300 \n",
    "max_personas = 4\n",
    "\n",
    "m = (185392/378350)\n",
    "proporciones = [0.49, 0.43, 0.08]\n",
    "\n",
    "# distribuciones de peso (media, desviación estándar) \n",
    "pesos_mujeres = (70, 11)\n",
    "pesos_hombres = (80, 16)\n",
    "pesos_otros = (73, 12)\n",
    "pesos_totales = []\n",
    "excesos = 0 \n",
    "\n",
    "for a in range(n):\n",
    "    num_personas = np.random.randint(1, 5) \n",
    "    total_peso = 0  \n",
    "    \n",
    "    for a in range(num_personas):\n",
    "        grupo = np.random.choice([0, 1, 2], p=proporciones)\n",
    "        \n",
    "        if grupo == 0:\n",
    "            peso = np.random.normal(pesos_mujeres[0], pesos_mujeres[1])\n",
    "        elif grupo == 1:  \n",
    "            peso = np.random.normal(pesos_hombres[0], pesos_hombres[1])\n",
    "        else:  \n",
    "            peso = np.random.normal(pesos_otros[0], pesos_otros[1])\n",
    "        \n",
    "        total_peso += peso\n",
    "    pesos_totales.append(total_peso)\n",
    "    if total_peso > elevador:\n",
    "        excesos += 1\n",
    "\n",
    "probabilidad_exceso = excesos / n\n",
    "print (probabilidad_exceso*n)\n",
    "percentil_95 = np.percentile(pesos_totales, 95)\n",
    "print (percentil_95)"
   ]
  },
  {
   "cell_type": "markdown",
   "id": "a4ef951e-1fe4-4dae-8d7b-8a7a3b9e383b",
   "metadata": {},
   "source": [
    " Tienes diez dados justos. Si arrojas todos al mismo tiempo, ¿cuál es la probabilidad de que la suma de los dados sea múltiplo de 6? 16.47%"
   ]
  },
  {
   "cell_type": "code",
   "execution_count": 56,
   "id": "4b2b47f6-c1b8-486c-b37d-f9b2ab40dab9",
   "metadata": {},
   "outputs": [
    {
     "data": {
      "text/plain": [
       "0.1647"
      ]
     },
     "execution_count": 56,
     "metadata": {},
     "output_type": "execute_result"
    }
   ],
   "source": [
    "n=10000\n",
    "dado=np.random.randint(1, 7, n)\n",
    "multiplo_6 = dado%6 == 0\n",
    "multiplo_6.sum()/n"
   ]
  },
  {
   "cell_type": "markdown",
   "id": "b3118b7b-2e55-4452-8a96-d2bb87fd5686",
   "metadata": {},
   "source": [
    "A y B juegan al siguiente juego: un número k del 1 al 6 es elegido, y A y B avientan el dado por turnos hasta que alguien consiga que el dado caiga en k. El ganador recibe $100.\n",
    "\n",
    "a) ¿Cuál es la probabilidad de que el primer jugador gane? 53.78%\n",
    "\n",
    "b) ¿Cuál es la probabilidad de que el segundo jugador gane? 46.22%\n",
    "\n",
    "c) ¿Cuánto vale la pena pagar para ir primero? 7.55% más"
   ]
  },
  {
   "cell_type": "code",
   "execution_count": 75,
   "id": "5c42b621-7fee-4007-bb93-29f8a863ffc6",
   "metadata": {},
   "outputs": [
    {
     "name": "stdout",
     "output_type": "stream",
     "text": [
      "0.5378 0.4622\n"
     ]
    },
    {
     "data": {
      "text/plain": [
       "7.559999999999995"
      ]
     },
     "execution_count": 75,
     "metadata": {},
     "output_type": "execute_result"
    }
   ],
   "source": [
    "n = 10000\n",
    "\n",
    "A = 0\n",
    "B = 0\n",
    "\n",
    "for a in range(n):\n",
    "    k = np.random.randint(1, 7)  \n",
    "    turno = 'A'\n",
    "    while True:\n",
    "        resultado_dado = np.random.randint(1, 7) \n",
    "        if resultado_dado == k:\n",
    "            if turno == 'A':\n",
    "                A += 1\n",
    "            else:\n",
    "                B += 1\n",
    "            break\n",
    "        turno = 'B' if turno == 'A' else 'A'\n",
    "\n",
    "prob_A = A / n\n",
    "prob_B = B / n\n",
    "print (prob_A, prob_B)\n",
    "\n",
    "premio = 100\n",
    "R  = (prob_A*premio) - (prob_B*premio)\n",
    "R"
   ]
  },
  {
   "cell_type": "code",
   "execution_count": null,
   "id": "fa96f058-0cc4-443a-94eb-d80b36202e56",
   "metadata": {},
   "outputs": [],
   "source": []
  },
  {
   "cell_type": "code",
   "execution_count": null,
   "id": "222a32a1-5ade-46c1-9871-d63facd8707a",
   "metadata": {},
   "outputs": [],
   "source": []
  }
 ],
 "metadata": {
  "kernelspec": {
   "display_name": "Python 3 (ipykernel)",
   "language": "python",
   "name": "python3"
  },
  "language_info": {
   "codemirror_mode": {
    "name": "ipython",
    "version": 3
   },
   "file_extension": ".py",
   "mimetype": "text/x-python",
   "name": "python",
   "nbconvert_exporter": "python",
   "pygments_lexer": "ipython3",
   "version": "3.12.4"
  }
 },
 "nbformat": 4,
 "nbformat_minor": 5
}
